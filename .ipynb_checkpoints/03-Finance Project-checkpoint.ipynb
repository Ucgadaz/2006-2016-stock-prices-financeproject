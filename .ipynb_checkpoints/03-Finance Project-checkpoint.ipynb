{
 "cells": [
  {
   "cell_type": "markdown",
   "metadata": {},
   "source": [
    "# Finance Data Project \n",
    "\n",
    "In this data project we will focus on exploratory data analysis of stock prices. Keep in mind, this project is just meant to practice your visualization and pandas skills, it is not meant to be a robust financial analysis or be taken as financial advice.\n",
    "____\n",
    "** NOTE: This project is extremely challenging because it will introduce a lot of new concepts and have you looking things up on your own (we'll point you in the right direction) to try to solve the tasks issued. Feel free to just go through the solutions lecture notebook and video as a \"walkthrough\" project if you don't want to have to look things up yourself. You'll still learn a lot that way! **\n",
    "____\n",
    "We'll focus on bank stocks and see how they progressed throughout the [financial crisis](https://en.wikipedia.org/wiki/Financial_crisis_of_2007%E2%80%9308) all the way to early 2016."
   ]
  },
  {
   "cell_type": "markdown",
   "metadata": {},
   "source": [
    "## Get the Data\n",
    "\n",
    "In this section we will learn how to use pandas to directly read data from Google finance using pandas!\n",
    "\n",
    "First we need to start with the proper imports, which we've already laid out for you here.\n",
    "\n",
    "*Note: [You'll need to install pandas-datareader for this to work!](https://github.com/pydata/pandas-datareader) Pandas datareader allows you to [read stock information directly from the internet](http://pandas.pydata.org/pandas-docs/stable/remote_data.html) Use these links for install guidance (**pip install pandas-datareader**), or just follow along with the video lecture.*\n",
    "\n",
    "### The Imports\n",
    "\n",
    "Already filled out for you."
   ]
  },
  {
   "cell_type": "code",
   "execution_count": 1,
   "metadata": {},
   "outputs": [],
   "source": [
    "from pandas_datareader import data, wb\n",
    "import pandas as pd\n",
    "import numpy as np\n",
    "import datetime\n",
    "import seaborn as sns\n",
    "%matplotlib inline"
   ]
  },
  {
   "cell_type": "markdown",
   "metadata": {},
   "source": [
    "## Data\n",
    "\n",
    "We need to get data using pandas datareader. We will get stock information for the following banks:\n",
    "*  Bank of America\n",
    "* CitiGroup\n",
    "* Goldman Sachs\n",
    "* JPMorgan Chase\n",
    "* Morgan Stanley\n",
    "* Wells Fargo\n",
    "\n",
    "** Figure out how to get the stock data from Jan 1st 2006 to Jan 1st 2016 for each of these banks. Set each bank to be a separate dataframe, with the variable name for that bank being its ticker symbol. This will involve a few steps:**\n",
    "1. Use datetime to set start and end datetime objects.\n",
    "2. Figure out the ticker symbol for each bank.\n",
    "2. Figure out how to use datareader to grab info on the stock.\n",
    "\n",
    "** Use [this documentation page](https://pandas-datareader.readthedocs.io/en/latest/remote_data.html) for hints and instructions (it should just be a matter of replacing certain values. Use google finance as a source, for example:**\n",
    "    \n",
    "    # Bank of America\n",
    "    BAC = data.DataReader(\"BAC\", 'google', start, end)\n",
    "\n",
    "### WARNING: MAKE SURE TO CHECK THE LINK ABOVE FOR THE LATEST WORKING API. \"google\" MAY NOT ALWAYS WORK. \n",
    "------------\n",
    "### We also provide pickle file in the article lecture right before the video lectures."
   ]
  },
  {
   "cell_type": "code",
   "execution_count": 2,
   "metadata": {},
   "outputs": [],
   "source": [
    "start = datetime.datetime(2006, 1, 1)\n",
    "end = datetime.datetime(2016, 1, 1)"
   ]
  },
  {
   "cell_type": "code",
   "execution_count": 3,
   "metadata": {},
   "outputs": [],
   "source": [
    "# Bank of America\n",
    "BAC = data.DataReader(\"BAC\", 'stooq', start, end)\n",
    "\n",
    "# CitiGroup\n",
    "C = data.DataReader(\"C\", 'stooq', start, end)\n",
    "\n",
    "# Goldman Sachs\n",
    "GS = data.DataReader(\"GS\", 'stooq', start, end)\n",
    "\n",
    "# JPMorgan Chase\n",
    "JPM = data.DataReader(\"JPM\", 'stooq', start, end)\n",
    "\n",
    "# Morgan Stanley\n",
    "MS = data.DataReader(\"MS\", 'stooq', start, end)\n",
    "\n",
    "# Wells Fargo\n",
    "WFC = data.DataReader(\"WFC\", 'stooq', start, end)"
   ]
  },
  {
   "cell_type": "code",
   "execution_count": 4,
   "metadata": {},
   "outputs": [],
   "source": [
    "# Could also do this for a Panel Object\n",
    "df = data.DataReader(['BAC', 'C', 'GS', 'JPM', 'MS', 'WFC'],'stooq', start, end)"
   ]
  },
  {
   "cell_type": "code",
   "execution_count": null,
   "metadata": {},
   "outputs": [],
   "source": []
  },
  {
   "cell_type": "markdown",
   "metadata": {},
   "source": [
    "** Create a list of the ticker symbols (as strings) in alphabetical order. Call this list: tickers**"
   ]
  },
  {
   "cell_type": "code",
   "execution_count": 5,
   "metadata": {},
   "outputs": [],
   "source": [
    "tickers=['BAC','C','GS','JPM','MS','WFC']"
   ]
  },
  {
   "cell_type": "markdown",
   "metadata": {},
   "source": [
    "** Use pd.concat to concatenate the bank dataframes together to a single data frame called bank_stocks. Set the keys argument equal to the tickers list. Also pay attention to what axis you concatenate on.**"
   ]
  },
  {
   "cell_type": "code",
   "execution_count": 6,
   "metadata": {},
   "outputs": [],
   "source": [
    "bank_stocks=pd.concat([BAC,C,GS,JPM,MS,WFC],axis=1,keys=tickers)"
   ]
  },
  {
   "cell_type": "markdown",
   "metadata": {},
   "source": [
    "** Set the column name levels (this is filled out for you):**"
   ]
  },
  {
   "cell_type": "code",
   "execution_count": 7,
   "metadata": {},
   "outputs": [],
   "source": [
    "bank_stocks.columns.names = ['Bank Ticker','Stock Info']"
   ]
  },
  {
   "cell_type": "markdown",
   "metadata": {},
   "source": [
    "** Check the head of the bank_stocks dataframe.**"
   ]
  },
  {
   "cell_type": "code",
   "execution_count": 8,
   "metadata": {},
   "outputs": [
    {
     "data": {
      "text/html": [
       "<div>\n",
       "<style scoped>\n",
       "    .dataframe tbody tr th:only-of-type {\n",
       "        vertical-align: middle;\n",
       "    }\n",
       "\n",
       "    .dataframe tbody tr th {\n",
       "        vertical-align: top;\n",
       "    }\n",
       "\n",
       "    .dataframe thead tr th {\n",
       "        text-align: left;\n",
       "    }\n",
       "\n",
       "    .dataframe thead tr:last-of-type th {\n",
       "        text-align: right;\n",
       "    }\n",
       "</style>\n",
       "<table border=\"1\" class=\"dataframe\">\n",
       "  <thead>\n",
       "    <tr>\n",
       "      <th>Bank Ticker</th>\n",
       "      <th colspan=\"5\" halign=\"left\">BAC</th>\n",
       "      <th colspan=\"5\" halign=\"left\">C</th>\n",
       "      <th>...</th>\n",
       "      <th colspan=\"5\" halign=\"left\">MS</th>\n",
       "      <th colspan=\"5\" halign=\"left\">WFC</th>\n",
       "    </tr>\n",
       "    <tr>\n",
       "      <th>Stock Info</th>\n",
       "      <th>Open</th>\n",
       "      <th>High</th>\n",
       "      <th>Low</th>\n",
       "      <th>Close</th>\n",
       "      <th>Volume</th>\n",
       "      <th>Open</th>\n",
       "      <th>High</th>\n",
       "      <th>Low</th>\n",
       "      <th>Close</th>\n",
       "      <th>Volume</th>\n",
       "      <th>...</th>\n",
       "      <th>Open</th>\n",
       "      <th>High</th>\n",
       "      <th>Low</th>\n",
       "      <th>Close</th>\n",
       "      <th>Volume</th>\n",
       "      <th>Open</th>\n",
       "      <th>High</th>\n",
       "      <th>Low</th>\n",
       "      <th>Close</th>\n",
       "      <th>Volume</th>\n",
       "    </tr>\n",
       "    <tr>\n",
       "      <th>Date</th>\n",
       "      <th></th>\n",
       "      <th></th>\n",
       "      <th></th>\n",
       "      <th></th>\n",
       "      <th></th>\n",
       "      <th></th>\n",
       "      <th></th>\n",
       "      <th></th>\n",
       "      <th></th>\n",
       "      <th></th>\n",
       "      <th></th>\n",
       "      <th></th>\n",
       "      <th></th>\n",
       "      <th></th>\n",
       "      <th></th>\n",
       "      <th></th>\n",
       "      <th></th>\n",
       "      <th></th>\n",
       "      <th></th>\n",
       "      <th></th>\n",
       "      <th></th>\n",
       "    </tr>\n",
       "  </thead>\n",
       "  <tbody>\n",
       "    <tr>\n",
       "      <th>2006-01-03</th>\n",
       "      <td>39.4871</td>\n",
       "      <td>39.7023</td>\n",
       "      <td>38.8390</td>\n",
       "      <td>39.6217</td>\n",
       "      <td>1.936396e+07</td>\n",
       "      <td>405.492</td>\n",
       "      <td>408.615</td>\n",
       "      <td>398.112</td>\n",
       "      <td>407.891</td>\n",
       "      <td>1.858097e+06</td>\n",
       "      <td>...</td>\n",
       "      <td>37.4934</td>\n",
       "      <td>38.3558</td>\n",
       "      <td>37.2060</td>\n",
       "      <td>38.2361</td>\n",
       "      <td>6.806387e+06</td>\n",
       "      <td>22.7430</td>\n",
       "      <td>23.0144</td>\n",
       "      <td>22.4559</td>\n",
       "      <td>22.9581</td>\n",
       "      <td>1.530724e+07</td>\n",
       "    </tr>\n",
       "    <tr>\n",
       "      <th>2006-01-04</th>\n",
       "      <td>39.5549</td>\n",
       "      <td>39.7592</td>\n",
       "      <td>39.0904</td>\n",
       "      <td>39.2004</td>\n",
       "      <td>2.110031e+07</td>\n",
       "      <td>404.358</td>\n",
       "      <td>406.325</td>\n",
       "      <td>400.089</td>\n",
       "      <td>400.354</td>\n",
       "      <td>2.260921e+06</td>\n",
       "      <td>...</td>\n",
       "      <td>38.4971</td>\n",
       "      <td>38.8778</td>\n",
       "      <td>38.2675</td>\n",
       "      <td>38.2675</td>\n",
       "      <td>1.009857e+07</td>\n",
       "      <td>22.8831</td>\n",
       "      <td>22.8979</td>\n",
       "      <td>22.5683</td>\n",
       "      <td>22.6917</td>\n",
       "      <td>1.510382e+07</td>\n",
       "    </tr>\n",
       "    <tr>\n",
       "      <th>2006-01-05</th>\n",
       "      <td>39.2004</td>\n",
       "      <td>39.4126</td>\n",
       "      <td>38.9834</td>\n",
       "      <td>39.2525</td>\n",
       "      <td>1.761312e+07</td>\n",
       "      <td>400.843</td>\n",
       "      <td>403.663</td>\n",
       "      <td>400.520</td>\n",
       "      <td>402.321</td>\n",
       "      <td>1.371893e+06</td>\n",
       "      <td>...</td>\n",
       "      <td>38.2675</td>\n",
       "      <td>38.4264</td>\n",
       "      <td>38.0448</td>\n",
       "      <td>38.3715</td>\n",
       "      <td>7.313990e+06</td>\n",
       "      <td>22.6690</td>\n",
       "      <td>22.7055</td>\n",
       "      <td>22.5308</td>\n",
       "      <td>22.6690</td>\n",
       "      <td>1.407726e+07</td>\n",
       "    </tr>\n",
       "    <tr>\n",
       "      <th>2006-01-06</th>\n",
       "      <td>39.3850</td>\n",
       "      <td>39.4774</td>\n",
       "      <td>39.0089</td>\n",
       "      <td>39.1917</td>\n",
       "      <td>1.496529e+07</td>\n",
       "      <td>404.504</td>\n",
       "      <td>404.641</td>\n",
       "      <td>398.865</td>\n",
       "      <td>402.321</td>\n",
       "      <td>1.655812e+06</td>\n",
       "      <td>...</td>\n",
       "      <td>38.5432</td>\n",
       "      <td>38.5922</td>\n",
       "      <td>38.0703</td>\n",
       "      <td>38.4108</td>\n",
       "      <td>8.721337e+06</td>\n",
       "      <td>22.7302</td>\n",
       "      <td>22.8643</td>\n",
       "      <td>22.5920</td>\n",
       "      <td>22.7983</td>\n",
       "      <td>1.167705e+07</td>\n",
       "    </tr>\n",
       "    <tr>\n",
       "      <th>2006-01-09</th>\n",
       "      <td>39.3182</td>\n",
       "      <td>39.5294</td>\n",
       "      <td>39.0158</td>\n",
       "      <td>39.2181</td>\n",
       "      <td>1.855918e+07</td>\n",
       "      <td>402.174</td>\n",
       "      <td>403.329</td>\n",
       "      <td>399.678</td>\n",
       "      <td>400.432</td>\n",
       "      <td>2.031072e+06</td>\n",
       "      <td>...</td>\n",
       "      <td>38.4470</td>\n",
       "      <td>38.8846</td>\n",
       "      <td>38.4412</td>\n",
       "      <td>38.8120</td>\n",
       "      <td>5.246244e+06</td>\n",
       "      <td>22.7983</td>\n",
       "      <td>22.8979</td>\n",
       "      <td>22.7055</td>\n",
       "      <td>22.7983</td>\n",
       "      <td>7.808415e+06</td>\n",
       "    </tr>\n",
       "  </tbody>\n",
       "</table>\n",
       "<p>5 rows × 30 columns</p>\n",
       "</div>"
      ],
      "text/plain": [
       "Bank Ticker      BAC                                                 C  \\\n",
       "Stock Info      Open     High      Low    Close        Volume     Open   \n",
       "Date                                                                     \n",
       "2006-01-03   39.4871  39.7023  38.8390  39.6217  1.936396e+07  405.492   \n",
       "2006-01-04   39.5549  39.7592  39.0904  39.2004  2.110031e+07  404.358   \n",
       "2006-01-05   39.2004  39.4126  38.9834  39.2525  1.761312e+07  400.843   \n",
       "2006-01-06   39.3850  39.4774  39.0089  39.1917  1.496529e+07  404.504   \n",
       "2006-01-09   39.3182  39.5294  39.0158  39.2181  1.855918e+07  402.174   \n",
       "\n",
       "Bank Ticker                                           ...       MS           \\\n",
       "Stock Info      High      Low    Close        Volume  ...     Open     High   \n",
       "Date                                                  ...                     \n",
       "2006-01-03   408.615  398.112  407.891  1.858097e+06  ...  37.4934  38.3558   \n",
       "2006-01-04   406.325  400.089  400.354  2.260921e+06  ...  38.4971  38.8778   \n",
       "2006-01-05   403.663  400.520  402.321  1.371893e+06  ...  38.2675  38.4264   \n",
       "2006-01-06   404.641  398.865  402.321  1.655812e+06  ...  38.5432  38.5922   \n",
       "2006-01-09   403.329  399.678  400.432  2.031072e+06  ...  38.4470  38.8846   \n",
       "\n",
       "Bank Ticker                                      WFC                    \\\n",
       "Stock Info       Low    Close        Volume     Open     High      Low   \n",
       "Date                                                                     \n",
       "2006-01-03   37.2060  38.2361  6.806387e+06  22.7430  23.0144  22.4559   \n",
       "2006-01-04   38.2675  38.2675  1.009857e+07  22.8831  22.8979  22.5683   \n",
       "2006-01-05   38.0448  38.3715  7.313990e+06  22.6690  22.7055  22.5308   \n",
       "2006-01-06   38.0703  38.4108  8.721337e+06  22.7302  22.8643  22.5920   \n",
       "2006-01-09   38.4412  38.8120  5.246244e+06  22.7983  22.8979  22.7055   \n",
       "\n",
       "Bank Ticker                         \n",
       "Stock Info     Close        Volume  \n",
       "Date                                \n",
       "2006-01-03   22.9581  1.530724e+07  \n",
       "2006-01-04   22.6917  1.510382e+07  \n",
       "2006-01-05   22.6690  1.407726e+07  \n",
       "2006-01-06   22.7983  1.167705e+07  \n",
       "2006-01-09   22.7983  7.808415e+06  \n",
       "\n",
       "[5 rows x 30 columns]"
      ]
     },
     "execution_count": 8,
     "metadata": {},
     "output_type": "execute_result"
    }
   ],
   "source": [
    "bank_stocks.head()"
   ]
  },
  {
   "cell_type": "markdown",
   "metadata": {},
   "source": [
    "# EDA\n",
    "\n",
    "Let's explore the data a bit! Before continuing, I encourage you to check out the documentation on [Multi-Level Indexing](http://pandas.pydata.org/pandas-docs/stable/advanced.html) and [Using .xs](http://pandas.pydata.org/pandas-docs/stable/generated/pandas.DataFrame.xs.html).\n",
    "Reference the solutions if you can not figure out how to use .xs(), since that will be a major part of this project.\n",
    "\n",
    "** What is the max Close price for each bank's stock throughout the time period?**"
   ]
  },
  {
   "cell_type": "code",
   "execution_count": 9,
   "metadata": {
    "scrolled": true
   },
   "outputs": [
    {
     "data": {
      "text/plain": [
       "FrozenList(['Date'])"
      ]
     },
     "execution_count": 9,
     "metadata": {},
     "output_type": "execute_result"
    }
   ],
   "source": [
    "bank_stocks.index.names"
   ]
  },
  {
   "cell_type": "code",
   "execution_count": 10,
   "metadata": {
    "scrolled": true
   },
   "outputs": [
    {
     "data": {
      "text/plain": [
       "Bank Ticker\n",
       "BAC     46.2013\n",
       "C      466.8120\n",
       "GS     203.6910\n",
       "JPM     57.1634\n",
       "MS      58.5624\n",
       "WFC     47.0925\n",
       "dtype: float64"
      ]
     },
     "execution_count": 10,
     "metadata": {},
     "output_type": "execute_result"
    }
   ],
   "source": [
    "bank_stocks.xs('Close',axis=1,level='Stock Info').max()"
   ]
  },
  {
   "cell_type": "code",
   "execution_count": null,
   "metadata": {},
   "outputs": [],
   "source": []
  },
  {
   "cell_type": "markdown",
   "metadata": {},
   "source": [
    "** Create a new empty DataFrame called returns. This dataframe will contain the returns for each bank's stock. returns are typically defined by:**\n",
    "\n",
    "$$r_t = \\frac{p_t - p_{t-1}}{p_{t-1}} = \\frac{p_t}{p_{t-1}} - 1$$"
   ]
  },
  {
   "cell_type": "code",
   "execution_count": 11,
   "metadata": {},
   "outputs": [],
   "source": [
    "returns=pd.DataFrame()"
   ]
  },
  {
   "cell_type": "markdown",
   "metadata": {},
   "source": [
    "** We can use pandas pct_change() method on the Close column to create a column representing this return value. Create a for loop that goes and for each Bank Stock Ticker creates this returns column and set's it as a column in the returns DataFrame.**"
   ]
  },
  {
   "cell_type": "code",
   "execution_count": 12,
   "metadata": {},
   "outputs": [
    {
     "data": {
      "text/html": [
       "<div>\n",
       "<style scoped>\n",
       "    .dataframe tbody tr th:only-of-type {\n",
       "        vertical-align: middle;\n",
       "    }\n",
       "\n",
       "    .dataframe tbody tr th {\n",
       "        vertical-align: top;\n",
       "    }\n",
       "\n",
       "    .dataframe thead th {\n",
       "        text-align: right;\n",
       "    }\n",
       "</style>\n",
       "<table border=\"1\" class=\"dataframe\">\n",
       "  <thead>\n",
       "    <tr style=\"text-align: right;\">\n",
       "      <th></th>\n",
       "      <th>BAC Return</th>\n",
       "      <th>C Return</th>\n",
       "      <th>GS Return</th>\n",
       "      <th>JPM Return</th>\n",
       "      <th>MS Return</th>\n",
       "      <th>WFC Return</th>\n",
       "    </tr>\n",
       "    <tr>\n",
       "      <th>Date</th>\n",
       "      <th></th>\n",
       "      <th></th>\n",
       "      <th></th>\n",
       "      <th></th>\n",
       "      <th></th>\n",
       "      <th></th>\n",
       "    </tr>\n",
       "  </thead>\n",
       "  <tbody>\n",
       "    <tr>\n",
       "      <th>2006-01-03</th>\n",
       "      <td>NaN</td>\n",
       "      <td>NaN</td>\n",
       "      <td>NaN</td>\n",
       "      <td>NaN</td>\n",
       "      <td>NaN</td>\n",
       "      <td>NaN</td>\n",
       "    </tr>\n",
       "    <tr>\n",
       "      <th>2006-01-04</th>\n",
       "      <td>-0.010633</td>\n",
       "      <td>-0.018478</td>\n",
       "      <td>-0.013704</td>\n",
       "      <td>-0.014304</td>\n",
       "      <td>0.000821</td>\n",
       "      <td>-0.011604</td>\n",
       "    </tr>\n",
       "    <tr>\n",
       "      <th>2006-01-05</th>\n",
       "      <td>0.001329</td>\n",
       "      <td>0.004913</td>\n",
       "      <td>-0.000364</td>\n",
       "      <td>0.003130</td>\n",
       "      <td>0.002718</td>\n",
       "      <td>-0.001000</td>\n",
       "    </tr>\n",
       "    <tr>\n",
       "      <th>2006-01-06</th>\n",
       "      <td>-0.001549</td>\n",
       "      <td>0.000000</td>\n",
       "      <td>0.013995</td>\n",
       "      <td>0.007061</td>\n",
       "      <td>0.001024</td>\n",
       "      <td>0.005704</td>\n",
       "    </tr>\n",
       "    <tr>\n",
       "      <th>2006-01-09</th>\n",
       "      <td>0.000674</td>\n",
       "      <td>-0.004695</td>\n",
       "      <td>0.012026</td>\n",
       "      <td>0.016240</td>\n",
       "      <td>0.010445</td>\n",
       "      <td>0.000000</td>\n",
       "    </tr>\n",
       "  </tbody>\n",
       "</table>\n",
       "</div>"
      ],
      "text/plain": [
       "            BAC Return  C Return  GS Return  JPM Return  MS Return  WFC Return\n",
       "Date                                                                          \n",
       "2006-01-03         NaN       NaN        NaN         NaN        NaN         NaN\n",
       "2006-01-04   -0.010633 -0.018478  -0.013704   -0.014304   0.000821   -0.011604\n",
       "2006-01-05    0.001329  0.004913  -0.000364    0.003130   0.002718   -0.001000\n",
       "2006-01-06   -0.001549  0.000000   0.013995    0.007061   0.001024    0.005704\n",
       "2006-01-09    0.000674 -0.004695   0.012026    0.016240   0.010445    0.000000"
      ]
     },
     "execution_count": 12,
     "metadata": {},
     "output_type": "execute_result"
    }
   ],
   "source": [
    "for tick in tickers:\n",
    "    returns[tick+' Return']=bank_stocks[tick]['Close'].pct_change()\n",
    "\n",
    "returns.head()"
   ]
  },
  {
   "cell_type": "markdown",
   "metadata": {},
   "source": [
    "** Create a pairplot using seaborn of the returns dataframe. What stock stands out to you? Can you figure out why?**"
   ]
  },
  {
   "cell_type": "code",
   "execution_count": 13,
   "metadata": {},
   "outputs": [
    {
     "data": {
      "text/plain": [
       "<seaborn.axisgrid.PairGrid at 0x7fd9c62ee250>"
      ]
     },
     "execution_count": 13,
     "metadata": {},
     "output_type": "execute_result"
    },
    {
     "data": {
      "image/png": "[encoded data removed]",
      "text/plain": [
       "<Figure size 1080x1080 with 42 Axes>"
      ]
     },
     "metadata": {
      "needs_background": "light"
     },
     "output_type": "display_data"
    }
   ],
   "source": [
    "sns.pairplot(returns[1:])"
   ]
  },
  {
   "cell_type": "code",
   "execution_count": null,
   "metadata": {},
   "outputs": [],
   "source": []
  },
  {
   "cell_type": "markdown",
   "metadata": {},
   "source": [
    "* See solution for details about Citigroup behavior...."
   ]
  },
  {
   "cell_type": "markdown",
   "metadata": {},
   "source": [
    "** Using this returns DataFrame, figure out on what dates each bank stock had the best and worst single day returns. You should notice that 4 of the banks share the same day for the worst drop, did anything significant happen that day?**"
   ]
  },
  {
   "cell_type": "code",
   "execution_count": 14,
   "metadata": {},
   "outputs": [
    {
     "data": {
      "text/plain": [
       "BAC Return   2009-01-20\n",
       "C Return     2009-02-27\n",
       "GS Return    2009-01-20\n",
       "JPM Return   2009-01-20\n",
       "MS Return    2008-10-09\n",
       "WFC Return   2009-01-20\n",
       "dtype: datetime64[ns]"
      ]
     },
     "execution_count": 14,
     "metadata": {},
     "output_type": "execute_result"
    }
   ],
   "source": [
    "returns.idxmin()"
   ]
  },
  {
   "cell_type": "markdown",
   "metadata": {},
   "source": [
    "** You should have noticed that Citigroup's largest drop and biggest gain were very close to one another, did anythign significant happen in that time frame? **"
   ]
  },
  {
   "cell_type": "markdown",
   "metadata": {},
   "source": [
    "* See Solution for details"
   ]
  },
  {
   "cell_type": "code",
   "execution_count": 15,
   "metadata": {},
   "outputs": [
    {
     "data": {
      "text/plain": [
       "BAC Return   2009-04-09\n",
       "C Return     2008-11-24\n",
       "GS Return    2008-11-24\n",
       "JPM Return   2009-01-21\n",
       "MS Return    2008-10-13\n",
       "WFC Return   2008-07-16\n",
       "dtype: datetime64[ns]"
      ]
     },
     "execution_count": 15,
     "metadata": {},
     "output_type": "execute_result"
    }
   ],
   "source": [
    "returns.idxmax()"
   ]
  },
  {
   "cell_type": "markdown",
   "metadata": {},
   "source": [
    "** Take a look at the standard deviation of the returns, which stock would you classify as the riskiest over the entire time period? Which would you classify as the riskiest for the year 2015?**"
   ]
  },
  {
   "cell_type": "code",
   "execution_count": 16,
   "metadata": {},
   "outputs": [
    {
     "data": {
      "text/plain": [
       "BAC Return    0.036605\n",
       "C Return      0.038615\n",
       "GS Return     0.025371\n",
       "JPM Return    0.027670\n",
       "MS Return     0.037708\n",
       "WFC Return    0.030221\n",
       "dtype: float64"
      ]
     },
     "execution_count": 16,
     "metadata": {},
     "output_type": "execute_result"
    }
   ],
   "source": [
    "returns.std()"
   ]
  },
  {
   "cell_type": "code",
   "execution_count": 17,
   "metadata": {},
   "outputs": [
    {
     "data": {
      "text/plain": [
       "BAC Return    0.016149\n",
       "C Return      0.015280\n",
       "GS Return     0.014028\n",
       "JPM Return    0.013964\n",
       "MS Return     0.016006\n",
       "WFC Return    0.012545\n",
       "dtype: float64"
      ]
     },
     "execution_count": 17,
     "metadata": {},
     "output_type": "execute_result"
    }
   ],
   "source": [
    "returns.loc['2015-01-01':'2015-12-31'].std() #similar risk profiles"
   ]
  },
  {
   "cell_type": "markdown",
   "metadata": {},
   "source": [
    "** Create a distplot using seaborn of the 2015 returns for Morgan Stanley **"
   ]
  },
  {
   "cell_type": "code",
   "execution_count": 18,
   "metadata": {},
   "outputs": [
    {
     "data": {
      "text/plain": [
       "Date\n",
       "2015-01-02   -0.002311\n",
       "2015-01-05   -0.031302\n",
       "2015-01-06   -0.028780\n",
       "2015-01-07    0.014341\n",
       "2015-01-08    0.014847\n",
       "                ...   \n",
       "2015-12-24   -0.003609\n",
       "2015-12-28   -0.009601\n",
       "2015-12-29    0.011815\n",
       "2015-12-30   -0.009798\n",
       "2015-12-31   -0.012995\n",
       "Name: MS Return, Length: 252, dtype: float64"
      ]
     },
     "execution_count": 18,
     "metadata": {},
     "output_type": "execute_result"
    }
   ],
   "source": [
    "returns['MS Return'].loc['2015-01-01':'2015-12-31']"
   ]
  },
  {
   "cell_type": "code",
   "execution_count": 19,
   "metadata": {},
   "outputs": [
    {
     "data": {
      "text/html": [
       "<div>\n",
       "<style scoped>\n",
       "    .dataframe tbody tr th:only-of-type {\n",
       "        vertical-align: middle;\n",
       "    }\n",
       "\n",
       "    .dataframe tbody tr th {\n",
       "        vertical-align: top;\n",
       "    }\n",
       "\n",
       "    .dataframe thead th {\n",
       "        text-align: right;\n",
       "    }\n",
       "</style>\n",
       "<table border=\"1\" class=\"dataframe\">\n",
       "  <thead>\n",
       "    <tr style=\"text-align: right;\">\n",
       "      <th></th>\n",
       "      <th>BAC Return</th>\n",
       "      <th>C Return</th>\n",
       "      <th>GS Return</th>\n",
       "      <th>JPM Return</th>\n",
       "      <th>MS Return</th>\n",
       "      <th>WFC Return</th>\n",
       "    </tr>\n",
       "    <tr>\n",
       "      <th>Date</th>\n",
       "      <th></th>\n",
       "      <th></th>\n",
       "      <th></th>\n",
       "      <th></th>\n",
       "      <th></th>\n",
       "      <th></th>\n",
       "    </tr>\n",
       "  </thead>\n",
       "  <tbody>\n",
       "    <tr>\n",
       "      <th>2015-01-02</th>\n",
       "      <td>0.000586</td>\n",
       "      <td>0.002808</td>\n",
       "      <td>0.002921</td>\n",
       "      <td>0.005002</td>\n",
       "      <td>-0.002311</td>\n",
       "      <td>-0.002199</td>\n",
       "    </tr>\n",
       "    <tr>\n",
       "      <th>2015-01-05</th>\n",
       "      <td>-0.028828</td>\n",
       "      <td>-0.031579</td>\n",
       "      <td>-0.031209</td>\n",
       "      <td>-0.031070</td>\n",
       "      <td>-0.031302</td>\n",
       "      <td>-0.027334</td>\n",
       "    </tr>\n",
       "    <tr>\n",
       "      <th>2015-01-06</th>\n",
       "      <td>-0.030334</td>\n",
       "      <td>-0.035144</td>\n",
       "      <td>-0.020282</td>\n",
       "      <td>-0.025901</td>\n",
       "      <td>-0.028780</td>\n",
       "      <td>-0.020859</td>\n",
       "    </tr>\n",
       "    <tr>\n",
       "      <th>2015-01-07</th>\n",
       "      <td>0.005024</td>\n",
       "      <td>0.009227</td>\n",
       "      <td>0.015122</td>\n",
       "      <td>0.001491</td>\n",
       "      <td>0.014341</td>\n",
       "      <td>0.005916</td>\n",
       "    </tr>\n",
       "    <tr>\n",
       "      <th>2015-01-08</th>\n",
       "      <td>0.020455</td>\n",
       "      <td>0.015086</td>\n",
       "      <td>0.015869</td>\n",
       "      <td>0.022313</td>\n",
       "      <td>0.014847</td>\n",
       "      <td>0.022152</td>\n",
       "    </tr>\n",
       "    <tr>\n",
       "      <th>...</th>\n",
       "      <td>...</td>\n",
       "      <td>...</td>\n",
       "      <td>...</td>\n",
       "      <td>...</td>\n",
       "      <td>...</td>\n",
       "      <td>...</td>\n",
       "    </tr>\n",
       "    <tr>\n",
       "      <th>2015-12-24</th>\n",
       "      <td>-0.004101</td>\n",
       "      <td>0.001453</td>\n",
       "      <td>-0.002507</td>\n",
       "      <td>-0.001915</td>\n",
       "      <td>-0.003609</td>\n",
       "      <td>-0.004024</td>\n",
       "    </tr>\n",
       "    <tr>\n",
       "      <th>2015-12-28</th>\n",
       "      <td>-0.008110</td>\n",
       "      <td>-0.006245</td>\n",
       "      <td>-0.004702</td>\n",
       "      <td>-0.003286</td>\n",
       "      <td>-0.009601</td>\n",
       "      <td>-0.002472</td>\n",
       "    </tr>\n",
       "    <tr>\n",
       "      <th>2015-12-29</th>\n",
       "      <td>0.008633</td>\n",
       "      <td>0.011509</td>\n",
       "      <td>0.010432</td>\n",
       "      <td>0.010303</td>\n",
       "      <td>0.011815</td>\n",
       "      <td>0.011086</td>\n",
       "    </tr>\n",
       "    <tr>\n",
       "      <th>2015-12-30</th>\n",
       "      <td>-0.013075</td>\n",
       "      <td>-0.012862</td>\n",
       "      <td>-0.008316</td>\n",
       "      <td>-0.007098</td>\n",
       "      <td>-0.009798</td>\n",
       "      <td>-0.007223</td>\n",
       "    </tr>\n",
       "    <tr>\n",
       "      <th>2015-12-31</th>\n",
       "      <td>-0.013060</td>\n",
       "      <td>-0.010537</td>\n",
       "      <td>-0.009692</td>\n",
       "      <td>-0.008350</td>\n",
       "      <td>-0.012995</td>\n",
       "      <td>-0.009633</td>\n",
       "    </tr>\n",
       "  </tbody>\n",
       "</table>\n",
       "<p>252 rows × 6 columns</p>\n",
       "</div>"
      ],
      "text/plain": [
       "            BAC Return  C Return  GS Return  JPM Return  MS Return  WFC Return\n",
       "Date                                                                          \n",
       "2015-01-02    0.000586  0.002808   0.002921    0.005002  -0.002311   -0.002199\n",
       "2015-01-05   -0.028828 -0.031579  -0.031209   -0.031070  -0.031302   -0.027334\n",
       "2015-01-06   -0.030334 -0.035144  -0.020282   -0.025901  -0.028780   -0.020859\n",
       "2015-01-07    0.005024  0.009227   0.015122    0.001491   0.014341    0.005916\n",
       "2015-01-08    0.020455  0.015086   0.015869    0.022313   0.014847    0.022152\n",
       "...                ...       ...        ...         ...        ...         ...\n",
       "2015-12-24   -0.004101  0.001453  -0.002507   -0.001915  -0.003609   -0.004024\n",
       "2015-12-28   -0.008110 -0.006245  -0.004702   -0.003286  -0.009601   -0.002472\n",
       "2015-12-29    0.008633  0.011509   0.010432    0.010303   0.011815    0.011086\n",
       "2015-12-30   -0.013075 -0.012862  -0.008316   -0.007098  -0.009798   -0.007223\n",
       "2015-12-31   -0.013060 -0.010537  -0.009692   -0.008350  -0.012995   -0.009633\n",
       "\n",
       "[252 rows x 6 columns]"
      ]
     },
     "execution_count": 19,
     "metadata": {},
     "output_type": "execute_result"
    }
   ],
   "source": [
    "returns.loc['2015-01-01':'2015-12-31']"
   ]
  },
  {
   "cell_type": "code",
   "execution_count": 20,
   "metadata": {},
   "outputs": [
    {
     "name": "stderr",
     "output_type": "stream",
     "text": [
      "/home/ucgadaz/anaconda3/lib/python3.9/site-packages/seaborn/distributions.py:2619: FutureWarning: `distplot` is a deprecated function and will be removed in a future version. Please adapt your code to use either `displot` (a figure-level function with similar flexibility) or `histplot` (an axes-level function for histograms).\n",
      "  warnings.warn(msg, FutureWarning)\n"
     ]
    },
    {
     "data": {
      "text/plain": [
       "<AxesSubplot:xlabel='MS Return', ylabel='Density'>"
      ]
     },
     "execution_count": 20,
     "metadata": {},
     "output_type": "execute_result"
    },
    {
     "data": {
      "image/png": "[encoded data removed]",
      "text/plain": [
       "<Figure size 432x288 with 1 Axes>"
      ]
     },
     "metadata": {
      "needs_background": "light"
     },
     "output_type": "display_data"
    }
   ],
   "source": [
    "\n",
    "sns.distplot(returns['MS Return'].loc['2015-01-01':'2015-12-31'],color='green',bins=100)"
   ]
  },
  {
   "cell_type": "markdown",
   "metadata": {},
   "source": [
    "** Create a distplot using seaborn of the 2008 returns for CitiGroup **"
   ]
  },
  {
   "cell_type": "code",
   "execution_count": 21,
   "metadata": {},
   "outputs": [
    {
     "name": "stderr",
     "output_type": "stream",
     "text": [
      "/home/ucgadaz/anaconda3/lib/python3.9/site-packages/seaborn/distributions.py:2619: FutureWarning: `distplot` is a deprecated function and will be removed in a future version. Please adapt your code to use either `displot` (a figure-level function with similar flexibility) or `histplot` (an axes-level function for histograms).\n",
      "  warnings.warn(msg, FutureWarning)\n"
     ]
    },
    {
     "data": {
      "text/plain": [
       "<AxesSubplot:xlabel='C Return', ylabel='Density'>"
      ]
     },
     "execution_count": 21,
     "metadata": {},
     "output_type": "execute_result"
    },
    {
     "data": {
      "image/png": "[encoded data removed]",
      "text/plain": [
       "<Figure size 432x288 with 1 Axes>"
      ]
     },
     "metadata": {
      "needs_background": "light"
     },
     "output_type": "display_data"
    }
   ],
   "source": [
    "sns.distplot(returns['C Return'].loc['2008-01-01':'2008-12-31'],color='purple',bins=100)"
   ]
  },
  {
   "cell_type": "markdown",
   "metadata": {},
   "source": [
    "____\n",
    "# More Visualization\n",
    "\n",
    "A lot of this project will focus on visualizations. Feel free to use any of your preferred visualization libraries to try to recreate the described plots below, seaborn, matplotlib, plotly and cufflinks, or just pandas.\n",
    "\n",
    "### Imports"
   ]
  },
  {
   "cell_type": "code",
   "execution_count": 22,
   "metadata": {},
   "outputs": [
    {
     "data": {
      "text/html": [
       "        <script type=\"text/javascript\">\n",
       "        window.PlotlyConfig = {MathJaxConfig: 'local'};\n",
       "        if (window.MathJax && window.MathJax.Hub && window.MathJax.Hub.Config) {window.MathJax.Hub.Config({SVG: {font: \"STIX-Web\"}});}\n",
       "        if (typeof require !== 'undefined') {\n",
       "        require.undef(\"plotly\");\n",
       "        requirejs.config({\n",
       "            paths: {\n",
       "                'plotly': ['https://cdn.plot.ly/plotly-2.16.1.min']\n",
       "            }\n",
       "        });\n",
       "        require(['plotly'], function(Plotly) {\n",
       "            window._Plotly = Plotly;\n",
       "        });\n",
       "        }\n",
       "        </script>\n",
       "        "
      ]
     },
     "metadata": {},
     "output_type": "display_data"
    }
   ],
   "source": [
    "import matplotlib.pyplot as plt\n",
    "import seaborn as sns\n",
    "sns.set_style('whitegrid')\n",
    "%matplotlib inline\n",
    "\n",
    "# Optional Plotly Method Imports\n",
    "import plotly\n",
    "import cufflinks as cf\n",
    "cf.go_offline()"
   ]
  },
  {
   "cell_type": "markdown",
   "metadata": {},
   "source": [
    "** Create a line plot showing Close price for each bank for the entire index of time. (Hint: Try using a for loop, or use [.xs](http://pandas.pydata.org/pandas-docs/stable/generated/pandas.DataFrame.xs.html) to get a cross section of the data.)**"
   ]
  },
  {
   "cell_type": "code",
   "execution_count": 23,
   "metadata": {
    "scrolled": false
   },
   "outputs": [
    {
     "data": {
      "text/plain": [
       "<matplotlib.legend.Legend at 0x7fd9cb31d880>"
      ]
     },
     "execution_count": 23,
     "metadata": {},
     "output_type": "execute_result"
    },
    {
     "data": {
      "image/png": "[encoded data removed]",
      "text/plain": [
       "<Figure size 1008x432 with 1 Axes>"
      ]
     },
     "metadata": {
      "needs_background": "light"
     },
     "output_type": "display_data"
    }
   ],
   "source": [
    "for tick in tickers:\n",
    "    bank_stocks[tick]['Close'].plot(figsize=(14,6),label=tick)\n",
    "\n",
    "plt.legend()"
   ]
  },
  {
   "cell_type": "code",
   "execution_count": 24,
   "metadata": {
    "scrolled": false
   },
   "outputs": [
    {
     "data": {
      "text/plain": [
       "<AxesSubplot:xlabel='Date'>"
      ]
     },
     "execution_count": 24,
     "metadata": {},
     "output_type": "execute_result"
    },
    {
     "data": {
      "image/png": "[encoded data removed]",
      "text/plain": [
       "<Figure size 432x288 with 1 Axes>"
      ]
     },
     "metadata": {
      "needs_background": "light"
     },
     "output_type": "display_data"
    }
   ],
   "source": [
    "#plotted using the xs method\n",
    "bank_stocks.xs('Close',axis=1,level='Stock Info').plot()"
   ]
  },
  {
   "cell_type": "code",
   "execution_count": null,
   "metadata": {},
   "outputs": [],
   "source": []
  },
  {
   "cell_type": "markdown",
   "metadata": {},
   "source": [
    "## Moving Averages\n",
    "\n",
    "Let's analyze the moving averages for these stocks in the year 2008. \n",
    "\n",
    "** Plot the rolling 30 day average against the Close Price for Bank Of America's stock for the year 2008**"
   ]
  },
  {
   "cell_type": "code",
   "execution_count": 25,
   "metadata": {},
   "outputs": [
    {
     "name": "stderr",
     "output_type": "stream",
     "text": [
      "/tmp/ipykernel_141941/4262054194.py:2: FutureWarning:\n",
      "\n",
      "Value based partial slicing on non-monotonic DatetimeIndexes with non-existing keys is deprecated and will raise a KeyError in a future Version.\n",
      "\n",
      "/tmp/ipykernel_141941/4262054194.py:3: FutureWarning:\n",
      "\n",
      "Value based partial slicing on non-monotonic DatetimeIndexes with non-existing keys is deprecated and will raise a KeyError in a future Version.\n",
      "\n"
     ]
    },
    {
     "data": {
      "text/plain": [
       "<matplotlib.legend.Legend at 0x7fd9c05fc340>"
      ]
     },
     "execution_count": 25,
     "metadata": {},
     "output_type": "execute_result"
    },
    {
     "data": {
      "image/png": "[encoded data removed]",
      "text/plain": [
       "<Figure size 864x432 with 1 Axes>"
      ]
     },
     "metadata": {
      "needs_background": "light"
     },
     "output_type": "display_data"
    }
   ],
   "source": [
    "plt.figure(figsize=(12,6))\n",
    "BAC['Close'].loc['2008-01-01':'2008-12-31'].rolling(30).mean().plot(label='30  day Average')\n",
    "BAC['Close'].loc['2008-01-01':'2008-12-31'].plot(label='BAC Close 2008')\n",
    "plt.legend()"
   ]
  },
  {
   "cell_type": "markdown",
   "metadata": {},
   "source": [
    "** Create a heatmap of the correlation between the stocks Close Price.**"
   ]
  },
  {
   "cell_type": "code",
   "execution_count": 26,
   "metadata": {
    "scrolled": true
   },
   "outputs": [
    {
     "data": {
      "text/plain": [
       "<AxesSubplot:xlabel='Bank Ticker', ylabel='Bank Ticker'>"
      ]
     },
     "execution_count": 26,
     "metadata": {},
     "output_type": "execute_result"
    },
    {
     "data": {
      "image/png": "[encoded data removed]",
      "text/plain": [
       "<Figure size 432x288 with 2 Axes>"
      ]
     },
     "metadata": {
      "needs_background": "light"
     },
     "output_type": "display_data"
    }
   ],
   "source": [
    "sns.heatmap(bank_stocks.xs('Close',axis=1,level='Stock Info').corr(),annot=True)"
   ]
  },
  {
   "cell_type": "markdown",
   "metadata": {},
   "source": [
    "** Optional: Use seaborn's clustermap to cluster the correlations together:**"
   ]
  },
  {
   "cell_type": "code",
   "execution_count": 27,
   "metadata": {
    "scrolled": true
   },
   "outputs": [
    {
     "data": {
      "text/plain": [
       "<seaborn.matrix.ClusterGrid at 0x7fd9c05039d0>"
      ]
     },
     "execution_count": 27,
     "metadata": {},
     "output_type": "execute_result"
    },
    {
     "data": {
      "image/png": "[encoded data removed]",
      "text/plain": [
       "<Figure size 720x720 with 4 Axes>"
      ]
     },
     "metadata": {
      "needs_background": "light"
     },
     "output_type": "display_data"
    }
   ],
   "source": [
    "sns.clustermap(bank_stocks.xs('Close',axis=1,level='Stock Info').corr(),annot=True)"
   ]
  },
  {
   "cell_type": "code",
   "execution_count": null,
   "metadata": {},
   "outputs": [],
   "source": []
  },
  {
   "cell_type": "markdown",
   "metadata": {},
   "source": [
    "# Part 2 (Optional)\n",
    "\n",
    "In this second part of the project we will rely on the cufflinks library to create some Technical Analysis plots. This part of the project is experimental due to its heavy reliance on the cuffinks project, so feel free to skip it if any functionality is broken in the future."
   ]
  },
  {
   "cell_type": "markdown",
   "metadata": {
    "collapsed": true
   },
   "source": [
    "** Use .iplot(kind='candle) to create a candle plot of Bank of America's stock from Jan 1st 2015 to Jan 1st 2016.**"
   ]
  },
  {
   "cell_type": "code",
   "execution_count": 28,
   "metadata": {},
   "outputs": [
    {
     "name": "stderr",
     "output_type": "stream",
     "text": [
      "/tmp/ipykernel_141941/2753361622.py:1: FutureWarning:\n",
      "\n",
      "Value based partial slicing on non-monotonic DatetimeIndexes with non-existing keys is deprecated and will raise a KeyError in a future Version.\n",
      "\n"
     ]
    },
    {
     "data": {
      "application/vnd.plotly.v1+json": {
       "config": {
        "linkText": "Export to plot.ly",
        "plotlyServerURL": "https://plot.ly",
        "showLink": true
       },
       "data": [
        {
         "close": [
          14.6233,
          14.8168,
          15.0131,
          14.8846,
          15.0063,
          15.0681,
          14.8403,
          14.7461,
          14.5645,
          15.0318,
          15.4246,
          15.1349,
          14.5969,
          14.5379,
          14.9473,
          14.857,
          14.9386,
          15.244,
          15.4679,
          15.0318,
          15.3078,
          15.4335,
          15.1045,
          15.1458,
          15.1115,
          15.1359,
          15.1359,
          15.2911,
          15.3274,
          15.4599,
          15.0957,
          15.1045,
          14.9052,
          15.0505,
          15.3805,
          15.4679,
          15.3176,
          15.5533,
          14.9984,
          14.7391,
          14.8865,
          14.7834,
          14.5408,
          14.8089,
          14.973,
          14.2108,
          14.3062,
          14.3149,
          14.0036,
          13.7759,
          14.04,
          13.9859,
          13.9663,
          14.0302,
          13.553,
          13.4479,
          13.4479,
          13.4999,
          13.6462,
          13.6462,
          13.5971,
          13.5971,
          13.3271,
          13.4743,
          13.4999,
          13.3024,
          13.4046,
          13.768,
          13.4743,
          13.6207,
          13.491,
          13.604,
          13.4822,
          13.7453,
          14.15,
          14.1323,
          13.828,
          13.9005,
          13.9005,
          13.7759,
          14.0036,
          13.5617,
          13.8093,
          13.7376,
          13.4566,
          14.1117,
          14.1304,
          14.1991,
          13.8731,
          13.1806,
          13.2053,
          13.9074,
          14.4427,
          15.0828,
          15.2783,
          15.3481,
          15.2852,
          15.2213,
          15.131,
          15.3658,
          15.5817,
          15.3294,
          15.3834,
          15.4365,
          15.3735,
          15.3481,
          15.4452,
          15.6593,
          15.6839,
          15.4452,
          15.2636,
          15.4619,
          15.7025,
          15.9363,
          15.6151,
          15.6505,
          15.6318,
          15.5042,
          15.2714,
          14.7951,
          14.7019,
          14.425,
          14.2345,
          14.038,
          14.4151,
          14.6312,
          14.7097,
          14.8718,
          14.7019,
          14.5879,
          15.0358,
          15.0024,
          15.1075,
          15.2636,
          15.0918,
          14.8315,
          15.0092,
          15.0024,
          15.1566,
          15.0918,
          15.1075,
          15.1075,
          15.1939,
          14.9513,
          14.751,
          14.8452,
          14.4928,
          14.6233,
          14.3984,
          14.2551,
          14.2088,
          14.3563,
          14.4151,
          14.2088,
          14.425,
          14.4063,
          14.4151,
          14.4427,
          14.2178,
          14.0793,
          14.2265,
          14.1814,
          14.148,
          14.2001,
          14.1637,
          13.9849,
          14.0292,
          14.0793,
          14.1568,
          13.875,
          13.7189,
          13.7611,
          13.4763,
          13.3988,
          13.4685,
          13.5097,
          13.5558,
          13.3487,
          13.4075,
          13.3988,
          13.5981,
          13.4685,
          13.6227,
          13.606,
          13.5382,
          13.5283,
          13.4419,
          13.3144,
          13.3565,
          13.3821,
          13.271,
          13.2524,
          13.3644,
          13.1826,
          13.281,
          13.271,
          13.4419,
          13.5382,
          13.6394,
          13.4419,
          13.7611,
          13.8584,
          13.8907,
          13.8584,
          13.829,
          13.8053,
          13.5981,
          13.9231,
          13.9654,
          13.7769,
          13.6394,
          13.7689,
          13.7463,
          13.5726,
          13.7689,
          14.1558,
          14.0636,
          13.9084,
          14.0636,
          13.9153,
          13.9919,
          14.2766,
          14.2599,
          14.311,
          14.0449,
          14.096,
          14.038,
          14.1558,
          13.7091,
          13.5568,
          13.6394,
          13.273,
          13.005,
          13.2446,
          13.0501,
          13.4175,
          13.6069,
          13.5029,
          13.8103,
          13.2279,
          13.0992,
          13.2013,
          13.0501,
          13.7689,
          14.1214,
          14.3179,
          14.5772,
          14.8413,
          14.5438,
          14.4711,
          14.9238,
          15.3668
         ],
         "high": [
          14.8325,
          14.9807,
          15.078,
          14.972,
          15.1035,
          15.0681,
          14.8659,
          14.7981,
          14.9984,
          15.4933,
          15.4512,
          15.1988,
          14.6763,
          14.8255,
          15.1271,
          15.1035,
          15.1703,
          15.4679,
          15.4933,
          15.4423,
          15.5454,
          15.4335,
          15.236,
          15.1625,
          15.2283,
          15.2283,
          15.3638,
          15.4512,
          15.4679,
          15.4836,
          15.2518,
          15.1281,
          14.9984,
          15.2774,
          15.5877,
          15.5454,
          15.6662,
          15.6741,
          15.0505,
          14.9984,
          14.9563,
          14.8502,
          14.8865,
          15.1115,
          14.9984,
          14.2718,
          14.3406,
          14.3406,
          14.04,
          14.1137,
          14.1137,
          14.0469,
          14.1137,
          14.1067,
          13.7926,
          13.5067,
          13.5353,
          13.7082,
          13.6748,
          13.8023,
          13.7082,
          13.6815,
          13.3271,
          13.553,
          13.5166,
          13.4566,
          13.7082,
          13.8828,
          13.5353,
          13.7376,
          13.4999,
          13.6462,
          13.6128,
          14.2816,
          14.2011,
          14.2011,
          13.9231,
          13.9162,
          13.9585,
          14.2639,
          14.0036,
          13.7453,
          14.0302,
          13.7453,
          13.8651,
          14.1382,
          14.1991,
          14.2078,
          13.8731,
          14.0016,
          13.8013,
          14.3896,
          14.8552,
          15.2783,
          15.4619,
          15.3834,
          15.2852,
          15.2783,
          15.247,
          15.5228,
          15.5897,
          15.6074,
          15.5317,
          15.5897,
          15.4856,
          15.5228,
          15.5984,
          15.7988,
          15.7202,
          15.4532,
          15.3568,
          15.7457,
          15.9206,
          15.9628,
          15.6937,
          15.7457,
          15.6839,
          15.6074,
          15.4188,
          14.8138,
          14.7254,
          14.5468,
          14.4427,
          14.2541,
          14.6233,
          14.692,
          14.8639,
          14.9513,
          14.7951,
          14.9003,
          15.131,
          15.2213,
          15.2783,
          15.3039,
          15.1399,
          15.0181,
          15.0269,
          15.1939,
          15.1654,
          15.1153,
          15.185,
          15.2714,
          15.2213,
          14.9857,
          14.968,
          14.9857,
          14.6656,
          14.7019,
          14.4327,
          14.3286,
          14.3563,
          14.4063,
          14.425,
          14.4063,
          14.4661,
          14.425,
          14.5104,
          14.4504,
          14.2452,
          14.2265,
          14.2875,
          14.2265,
          14.1912,
          14.2875,
          14.1735,
          14.0636,
          14.2001,
          14.3032,
          14.1637,
          13.9084,
          13.82,
          13.8103,
          13.5283,
          13.5717,
          13.5647,
          13.606,
          13.6315,
          13.4685,
          13.5097,
          13.5647,
          13.7286,
          13.6481,
          13.7376,
          13.6571,
          13.5981,
          13.5717,
          13.5558,
          13.4763,
          13.4332,
          13.4509,
          13.3144,
          13.3644,
          13.4419,
          13.3388,
          13.3821,
          13.4763,
          13.606,
          13.6766,
          13.7189,
          13.7533,
          13.8671,
          13.8828,
          13.9654,
          13.9084,
          13.9585,
          13.9162,
          13.8907,
          14.0636,
          14.3129,
          13.8023,
          13.7611,
          13.8671,
          13.7611,
          13.6315,
          14.1117,
          14.1627,
          14.2069,
          14.0115,
          14.1047,
          14.0636,
          14.2158,
          14.3179,
          14.4131,
          14.362,
          14.1214,
          14.2678,
          14.1627,
          14.3787,
          13.8103,
          13.7376,
          13.6766,
          13.2995,
          13.2828,
          13.2995,
          13.5029,
          13.5568,
          13.6766,
          13.9005,
          13.9005,
          13.3654,
          13.4175,
          13.218,
          13.5293,
          13.9221,
          14.4995,
          14.6213,
          14.9238,
          14.8855,
          14.7471,
          14.971,
          15.2862,
          15.4766
         ],
         "low": [
          14.6233,
          14.807,
          14.913,
          14.7539,
          14.963,
          14.857,
          14.642,
          14.5722,
          14.5645,
          15.0318,
          14.972,
          14.7628,
          14.3366,
          14.4574,
          14.7372,
          14.6577,
          14.8846,
          15.1526,
          15.1035,
          14.9897,
          15.2518,
          15.1458,
          15.0957,
          15.0141,
          15.0888,
          14.9483,
          15.1281,
          15.245,
          15.2695,
          15.1045,
          15.023,
          14.7391,
          14.8089,
          15.0328,
          15.3176,
          15.2184,
          15.2184,
          15.3893,
          14.7558,
          14.697,
          14.7215,
          14.6193,
          14.5222,
          14.7057,
          14.257,
          14.1234,
          14.1578,
          14.0803,
          13.8671,
          13.7759,
          13.9497,
          13.8474,
          13.8907,
          13.6207,
          13.4743,
          13.3448,
          13.3702,
          13.4302,
          13.4399,
          13.491,
          13.491,
          13.3791,
          12.678,
          13.3104,
          13.276,
          13.2131,
          13.3271,
          13.7002,
          13.3448,
          13.4999,
          13.3869,
          13.491,
          13.4302,
          13.6748,
          13.9398,
          13.875,
          13.7759,
          13.7759,
          13.7002,
          13.7179,
          13.7759,
          13.4302,
          13.7523,
          13.491,
          13.3535,
          13.9742,
          13.9919,
          13.8985,
          13.2484,
          13.1729,
          12.6102,
          13.9074,
          14.4427,
          15.0633,
          15.247,
          15.1654,
          15.1477,
          15.0633,
          14.7019,
          15.3039,
          15.4276,
          15.2036,
          15.3481,
          15.3735,
          15.294,
          15.239,
          15.4276,
          15.5897,
          15.4766,
          15.2036,
          15.1153,
          15.4089,
          15.6151,
          15.573,
          15.565,
          15.6151,
          15.4532,
          15.4276,
          15.1075,
          14.5635,
          14.5969,
          14.3896,
          14.2078,
          14.0115,
          14.1117,
          14.4327,
          14.5879,
          14.7608,
          14.5565,
          14.5635,
          14.9857,
          14.9857,
          15.0731,
          15.1654,
          14.9857,
          14.7864,
          14.8718,
          14.9435,
          15.0024,
          14.9003,
          14.9935,
          15.0633,
          14.9935,
          14.6833,
          14.7254,
          14.6567,
          14.4427,
          14.4564,
          14.2088,
          14.1814,
          14.1814,
          14.2786,
          14.2452,
          14.148,
          14.3896,
          14.2619,
          14.3199,
          14.2786,
          14.0459,
          14.039,
          14.1637,
          14.087,
          14.0793,
          14.148,
          13.9654,
          13.8584,
          13.8484,
          14.0636,
          13.8828,
          13.7091,
          13.5981,
          13.4075,
          13.3487,
          13.3988,
          13.4419,
          13.5019,
          13.3388,
          13.2887,
          13.3988,
          13.3487,
          13.4165,
          13.4262,
          13.5283,
          13.5558,
          13.4332,
          13.3742,
          13.3487,
          13.3064,
          13.2093,
          13.2887,
          13.1326,
          13.2426,
          13.2613,
          13.1512,
          13.1425,
          13.2613,
          13.4419,
          13.5382,
          13.4685,
          13.4419,
          13.7012,
          13.7463,
          13.6481,
          13.7286,
          13.6924,
          13.6668,
          13.5981,
          13.8828,
          13.9162,
          13.5647,
          13.5717,
          13.7012,
          13.495,
          13.4085,
          13.6481,
          14.0115,
          13.9488,
          13.82,
          13.7463,
          13.8023,
          13.9388,
          14.0537,
          14.1981,
          14.0537,
          13.9153,
          14.038,
          13.9488,
          13.9221,
          13.6481,
          13.5206,
          13.3998,
          12.9804,
          13.005,
          13.0501,
          13.0324,
          13.2907,
          13.4763,
          13.5029,
          13.2446,
          13.005,
          13.0501,
          12.8498,
          13.005,
          13.5391,
          14.0115,
          14.3022,
          14.5526,
          14.6793,
          14.4809,
          14.4043,
          14.8413,
          15.1772
         ],
         "open": [
          14.7814,
          14.9473,
          14.9897,
          14.963,
          15.0495,
          14.913,
          14.8168,
          14.7539,
          14.9386,
          15.4679,
          15.3363,
          14.7893,
          14.5645,
          14.7461,
          14.9032,
          14.8659,
          15.1115,
          15.4599,
          15.1526,
          15.3638,
          15.5366,
          15.1811,
          15.1458,
          15.1281,
          15.1713,
          14.9563,
          15.2695,
          15.4335,
          15.406,
          15.1045,
          15.1625,
          14.8413,
          14.8413,
          15.236,
          15.5877,
          15.2774,
          15.6211,
          15.4599,
          14.7558,
          14.9907,
          14.7391,
          14.6439,
          14.8865,
          14.8669,
          14.257,
          14.2108,
          14.3149,
          14.1137,
          13.8671,
          14.088,
          14.0036,
          13.8671,
          14.1067,
          13.7002,
          13.6648,
          13.3869,
          13.5166,
          13.6462,
          13.6207,
          13.6748,
          13.5874,
          13.3869,
          13.0668,
          13.4479,
          13.4743,
          13.4302,
          13.6815,
          13.7602,
          13.4656,
          13.5166,
          13.4232,
          13.5774,
          13.5874,
          14.1137,
          14.1657,
          13.9005,
          13.8377,
          13.8574,
          13.7523,
          14.1834,
          13.828,
          13.6815,
          13.8377,
          13.7082,
          13.7749,
          14.1047,
          14.1627,
          14.147,
          13.6551,
          13.9919,
          12.9725,
          13.9919,
          14.8452,
          15.1566,
          15.3039,
          15.2116,
          15.1752,
          15.1654,
          15.2213,
          15.4188,
          15.4365,
          15.4766,
          15.4689,
          15.4856,
          15.3658,
          15.4689,
          15.573,
          15.7202,
          15.5042,
          15.3658,
          15.2537,
          15.7202,
          15.8832,
          15.573,
          15.6417,
          15.6761,
          15.514,
          15.4689,
          15.1399,
          14.6233,
          14.6656,
          14.5104,
          14.2786,
          14.1804,
          14.5969,
          14.4928,
          14.8237,
          14.9003,
          14.751,
          14.7951,
          15.0986,
          15.1752,
          15.1399,
          15.1654,
          14.9935,
          14.9277,
          14.9857,
          15.1939,
          15.0828,
          14.968,
          15.0731,
          15.2293,
          15.0181,
          14.7254,
          14.9101,
          14.7186,
          14.5722,
          14.5025,
          14.2265,
          14.2786,
          14.3473,
          14.3984,
          14.2619,
          14.4063,
          14.3984,
          14.3896,
          14.4504,
          14.2786,
          14.0459,
          14.2265,
          14.2355,
          14.1568,
          14.1735,
          14.1637,
          14.0547,
          13.9752,
          14.087,
          14.1391,
          13.9005,
          13.7769,
          13.7769,
          13.4332,
          13.4165,
          13.4596,
          13.5283,
          13.5382,
          13.3899,
          13.4332,
          13.4509,
          13.5283,
          13.4685,
          13.5196,
          13.6766,
          13.5804,
          13.5097,
          13.4596,
          13.3644,
          13.3821,
          13.2524,
          13.2887,
          13.281,
          13.3487,
          13.281,
          13.3301,
          13.2524,
          13.4596,
          13.547,
          13.6138,
          13.5097,
          13.7463,
          13.7856,
          13.8387,
          13.875,
          13.8484,
          13.82,
          13.7091,
          13.8103,
          14.0547,
          14.1313,
          13.7091,
          13.7463,
          13.7533,
          13.5568,
          13.548,
          14.096,
          14.0537,
          13.9654,
          14.0115,
          13.8584,
          13.9153,
          14.2069,
          14.1893,
          14.3543,
          14.0861,
          14.0203,
          14.2158,
          14.038,
          13.9919,
          13.7189,
          13.5568,
          13.3998,
          13.1081,
          13.0747,
          13.1444,
          13.495,
          13.3505,
          13.495,
          13.7689,
          13.3505,
          13.1169,
          13.3831,
          13.0147,
          13.3831,
          13.7376,
          14.4407,
          14.6116,
          14.9238,
          14.7314,
          14.7147,
          14.9553,
          15.2734,
          15.4452
         ],
         "showlegend": false,
         "type": "candlestick",
         "x": [
          "2015-12-31",
          "2015-12-30",
          "2015-12-29",
          "2015-12-28",
          "2015-12-24",
          "2015-12-23",
          "2015-12-22",
          "2015-12-21",
          "2015-12-18",
          "2015-12-17",
          "2015-12-16",
          "2015-12-15",
          "2015-12-14",
          "2015-12-11",
          "2015-12-10",
          "2015-12-09",
          "2015-12-08",
          "2015-12-07",
          "2015-12-04",
          "2015-12-03",
          "2015-12-02",
          "2015-12-01",
          "2015-11-30",
          "2015-11-27",
          "2015-11-25",
          "2015-11-24",
          "2015-11-23",
          "2015-11-20",
          "2015-11-19",
          "2015-11-18",
          "2015-11-17",
          "2015-11-16",
          "2015-11-13",
          "2015-11-12",
          "2015-11-11",
          "2015-11-10",
          "2015-11-09",
          "2015-11-06",
          "2015-11-05",
          "2015-11-04",
          "2015-11-03",
          "2015-11-02",
          "2015-10-30",
          "2015-10-29",
          "2015-10-28",
          "2015-10-27",
          "2015-10-26",
          "2015-10-23",
          "2015-10-22",
          "2015-10-21",
          "2015-10-20",
          "2015-10-19",
          "2015-10-16",
          "2015-10-15",
          "2015-10-14",
          "2015-10-13",
          "2015-10-12",
          "2015-10-09",
          "2015-10-08",
          "2015-10-07",
          "2015-10-06",
          "2015-10-05",
          "2015-10-02",
          "2015-10-01",
          "2015-09-30",
          "2015-09-29",
          "2015-09-28",
          "2015-09-25",
          "2015-09-24",
          "2015-09-23",
          "2015-09-22",
          "2015-09-21",
          "2015-09-18",
          "2015-09-17",
          "2015-09-16",
          "2015-09-15",
          "2015-09-14",
          "2015-09-11",
          "2015-09-10",
          "2015-09-09",
          "2015-09-08",
          "2015-09-04",
          "2015-09-03",
          "2015-09-02",
          "2015-09-01",
          "2015-08-31",
          "2015-08-28",
          "2015-08-27",
          "2015-08-26",
          "2015-08-25",
          "2015-08-24",
          "2015-08-21",
          "2015-08-20",
          "2015-08-19",
          "2015-08-18",
          "2015-08-17",
          "2015-08-14",
          "2015-08-13",
          "2015-08-12",
          "2015-08-11",
          "2015-08-10",
          "2015-08-07",
          "2015-08-06",
          "2015-08-05",
          "2015-08-04",
          "2015-08-03",
          "2015-07-31",
          "2015-07-30",
          "2015-07-29",
          "2015-07-28",
          "2015-07-27",
          "2015-07-24",
          "2015-07-23",
          "2015-07-22",
          "2015-07-21",
          "2015-07-20",
          "2015-07-17",
          "2015-07-16",
          "2015-07-15",
          "2015-07-14",
          "2015-07-13",
          "2015-07-10",
          "2015-07-09",
          "2015-07-08",
          "2015-07-07",
          "2015-07-06",
          "2015-07-02",
          "2015-07-01",
          "2015-06-30",
          "2015-06-29",
          "2015-06-26",
          "2015-06-25",
          "2015-06-24",
          "2015-06-23",
          "2015-06-22",
          "2015-06-19",
          "2015-06-18",
          "2015-06-17",
          "2015-06-16",
          "2015-06-15",
          "2015-06-12",
          "2015-06-11",
          "2015-06-10",
          "2015-06-09",
          "2015-06-08",
          "2015-06-05",
          "2015-06-04",
          "2015-06-03",
          "2015-06-02",
          "2015-06-01",
          "2015-05-29",
          "2015-05-28",
          "2015-05-27",
          "2015-05-26",
          "2015-05-22",
          "2015-05-21",
          "2015-05-20",
          "2015-05-19",
          "2015-05-18",
          "2015-05-15",
          "2015-05-14",
          "2015-05-13",
          "2015-05-12",
          "2015-05-11",
          "2015-05-08",
          "2015-05-07",
          "2015-05-06",
          "2015-05-05",
          "2015-05-04",
          "2015-05-01",
          "2015-04-30",
          "2015-04-29",
          "2015-04-28",
          "2015-04-27",
          "2015-04-24",
          "2015-04-23",
          "2015-04-22",
          "2015-04-21",
          "2015-04-20",
          "2015-04-17",
          "2015-04-16",
          "2015-04-15",
          "2015-04-14",
          "2015-04-13",
          "2015-04-10",
          "2015-04-09",
          "2015-04-08",
          "2015-04-07",
          "2015-04-06",
          "2015-04-02",
          "2015-04-01",
          "2015-03-31",
          "2015-03-30",
          "2015-03-27",
          "2015-03-26",
          "2015-03-25",
          "2015-03-24",
          "2015-03-23",
          "2015-03-20",
          "2015-03-19",
          "2015-03-18",
          "2015-03-17",
          "2015-03-16",
          "2015-03-13",
          "2015-03-12",
          "2015-03-11",
          "2015-03-10",
          "2015-03-09",
          "2015-03-06",
          "2015-03-05",
          "2015-03-04",
          "2015-03-03",
          "2015-03-02",
          "2015-02-27",
          "2015-02-26",
          "2015-02-25",
          "2015-02-24",
          "2015-02-23",
          "2015-02-20",
          "2015-02-19",
          "2015-02-18",
          "2015-02-17",
          "2015-02-13",
          "2015-02-12",
          "2015-02-11",
          "2015-02-10",
          "2015-02-09",
          "2015-02-06",
          "2015-02-05",
          "2015-02-04",
          "2015-02-03",
          "2015-02-02",
          "2015-01-30",
          "2015-01-29",
          "2015-01-28",
          "2015-01-27",
          "2015-01-26",
          "2015-01-23",
          "2015-01-22",
          "2015-01-21",
          "2015-01-20",
          "2015-01-16",
          "2015-01-15",
          "2015-01-14",
          "2015-01-13",
          "2015-01-12",
          "2015-01-09",
          "2015-01-08",
          "2015-01-07",
          "2015-01-06",
          "2015-01-05",
          "2015-01-02"
         ],
         "yaxis": "y2"
        }
       ],
       "layout": {
        "legend": {
         "bgcolor": "#F5F6F9",
         "font": {
          "color": "#4D5663"
         }
        },
        "paper_bgcolor": "#F5F6F9",
        "plot_bgcolor": "#F5F6F9",
        "template": {
         "data": {
          "bar": [
           {
            "error_x": {
             "color": "#2a3f5f"
            },
            "error_y": {
             "color": "#2a3f5f"
            },
            "marker": {
             "line": {
              "color": "#E5ECF6",
              "width": 0.5
             },
             "pattern": {
              "fillmode": "overlay",
              "size": 10,
              "solidity": 0.2
             }
            },
            "type": "bar"
           }
          ],
          "barpolar": [
           {
            "marker": {
             "line": {
              "color": "#E5ECF6",
              "width": 0.5
             },
             "pattern": {
              "fillmode": "overlay",
              "size": 10,
              "solidity": 0.2
             }
            },
            "type": "barpolar"
           }
          ],
          "carpet": [
           {
            "aaxis": {
             "endlinecolor": "#2a3f5f",
             "gridcolor": "white",
             "linecolor": "white",
             "minorgridcolor": "white",
             "startlinecolor": "#2a3f5f"
            },
            "baxis": {
             "endlinecolor": "#2a3f5f",
             "gridcolor": "white",
             "linecolor": "white",
             "minorgridcolor": "white",
             "startlinecolor": "#2a3f5f"
            },
            "type": "carpet"
           }
          ],
          "choropleth": [
           {
            "colorbar": {
             "outlinewidth": 0,
             "ticks": ""
            },
            "type": "choropleth"
           }
          ],
          "contour": [
           {
            "colorbar": {
             "outlinewidth": 0,
             "ticks": ""
            },
            "colorscale": [
             [
              0,
              "#0d0887"
             ],
             [
              0.1111111111111111,
              "#46039f"
             ],
             [
              0.2222222222222222,
              "#7201a8"
             ],
             [
              0.3333333333333333,
              "#9c179e"
             ],
             [
              0.4444444444444444,
              "#bd3786"
             ],
             [
              0.5555555555555556,
              "#d8576b"
             ],
             [
              0.6666666666666666,
              "#ed7953"
             ],
             [
              0.7777777777777778,
              "#fb9f3a"
             ],
             [
              0.8888888888888888,
              "#fdca26"
             ],
             [
              1,
              "#f0f921"
             ]
            ],
            "type": "contour"
           }
          ],
          "contourcarpet": [
           {
            "colorbar": {
             "outlinewidth": 0,
             "ticks": ""
            },
            "type": "contourcarpet"
           }
          ],
          "heatmap": [
           {
            "colorbar": {
             "outlinewidth": 0,
             "ticks": ""
            },
            "colorscale": [
             [
              0,
              "#0d0887"
             ],
             [
              0.1111111111111111,
              "#46039f"
             ],
             [
              0.2222222222222222,
              "#7201a8"
             ],
             [
              0.3333333333333333,
              "#9c179e"
             ],
             [
              0.4444444444444444,
              "#bd3786"
             ],
             [
              0.5555555555555556,
              "#d8576b"
             ],
             [
              0.6666666666666666,
              "#ed7953"
             ],
             [
              0.7777777777777778,
              "#fb9f3a"
             ],
             [
              0.8888888888888888,
              "#fdca26"
             ],
             [
              1,
              "#f0f921"
             ]
            ],
            "type": "heatmap"
           }
          ],
          "heatmapgl": [
           {
            "colorbar": {
             "outlinewidth": 0,
             "ticks": ""
            },
            "colorscale": [
             [
              0,
              "#0d0887"
             ],
             [
              0.1111111111111111,
              "#46039f"
             ],
             [
              0.2222222222222222,
              "#7201a8"
             ],
             [
              0.3333333333333333,
              "#9c179e"
             ],
             [
              0.4444444444444444,
              "#bd3786"
             ],
             [
              0.5555555555555556,
              "#d8576b"
             ],
             [
              0.6666666666666666,
              "#ed7953"
             ],
             [
              0.7777777777777778,
              "#fb9f3a"
             ],
             [
              0.8888888888888888,
              "#fdca26"
             ],
             [
              1,
              "#f0f921"
             ]
            ],
            "type": "heatmapgl"
           }
          ],
          "histogram": [
           {
            "marker": {
             "pattern": {
              "fillmode": "overlay",
              "size": 10,
              "solidity": 0.2
             }
            },
            "type": "histogram"
           }
          ],
          "histogram2d": [
           {
            "colorbar": {
             "outlinewidth": 0,
             "ticks": ""
            },
            "colorscale": [
             [
              0,
              "#0d0887"
             ],
             [
              0.1111111111111111,
              "#46039f"
             ],
             [
              0.2222222222222222,
              "#7201a8"
             ],
             [
              0.3333333333333333,
              "#9c179e"
             ],
             [
              0.4444444444444444,
              "#bd3786"
             ],
             [
              0.5555555555555556,
              "#d8576b"
             ],
             [
              0.6666666666666666,
              "#ed7953"
             ],
             [
              0.7777777777777778,
              "#fb9f3a"
             ],
             [
              0.8888888888888888,
              "#fdca26"
             ],
             [
              1,
              "#f0f921"
             ]
            ],
            "type": "histogram2d"
           }
          ],
          "histogram2dcontour": [
           {
            "colorbar": {
             "outlinewidth": 0,
             "ticks": ""
            },
            "colorscale": [
             [
              0,
              "#0d0887"
             ],
             [
              0.1111111111111111,
              "#46039f"
             ],
             [
              0.2222222222222222,
              "#7201a8"
             ],
             [
              0.3333333333333333,
              "#9c179e"
             ],
             [
              0.4444444444444444,
              "#bd3786"
             ],
             [
              0.5555555555555556,
              "#d8576b"
             ],
             [
              0.6666666666666666,
              "#ed7953"
             ],
             [
              0.7777777777777778,
              "#fb9f3a"
             ],
             [
              0.8888888888888888,
              "#fdca26"
             ],
             [
              1,
              "#f0f921"
             ]
            ],
            "type": "histogram2dcontour"
           }
          ],
          "mesh3d": [
           {
            "colorbar": {
             "outlinewidth": 0,
             "ticks": ""
            },
            "type": "mesh3d"
           }
          ],
          "parcoords": [
           {
            "line": {
             "colorbar": {
              "outlinewidth": 0,
              "ticks": ""
             }
            },
            "type": "parcoords"
           }
          ],
          "pie": [
           {
            "automargin": true,
            "type": "pie"
           }
          ],
          "scatter": [
           {
            "fillpattern": {
             "fillmode": "overlay",
             "size": 10,
             "solidity": 0.2
            },
            "type": "scatter"
           }
          ],
          "scatter3d": [
           {
            "line": {
             "colorbar": {
              "outlinewidth": 0,
              "ticks": ""
             }
            },
            "marker": {
             "colorbar": {
              "outlinewidth": 0,
              "ticks": ""
             }
            },
            "type": "scatter3d"
           }
          ],
          "scattercarpet": [
           {
            "marker": {
             "colorbar": {
              "outlinewidth": 0,
              "ticks": ""
             }
            },
            "type": "scattercarpet"
           }
          ],
          "scattergeo": [
           {
            "marker": {
             "colorbar": {
              "outlinewidth": 0,
              "ticks": ""
             }
            },
            "type": "scattergeo"
           }
          ],
          "scattergl": [
           {
            "marker": {
             "colorbar": {
              "outlinewidth": 0,
              "ticks": ""
             }
            },
            "type": "scattergl"
           }
          ],
          "scattermapbox": [
           {
            "marker": {
             "colorbar": {
              "outlinewidth": 0,
              "ticks": ""
             }
            },
            "type": "scattermapbox"
           }
          ],
          "scatterpolar": [
           {
            "marker": {
             "colorbar": {
              "outlinewidth": 0,
              "ticks": ""
             }
            },
            "type": "scatterpolar"
           }
          ],
          "scatterpolargl": [
           {
            "marker": {
             "colorbar": {
              "outlinewidth": 0,
              "ticks": ""
             }
            },
            "type": "scatterpolargl"
           }
          ],
          "scatterternary": [
           {
            "marker": {
             "colorbar": {
              "outlinewidth": 0,
              "ticks": ""
             }
            },
            "type": "scatterternary"
           }
          ],
          "surface": [
           {
            "colorbar": {
             "outlinewidth": 0,
             "ticks": ""
            },
            "colorscale": [
             [
              0,
              "#0d0887"
             ],
             [
              0.1111111111111111,
              "#46039f"
             ],
             [
              0.2222222222222222,
              "#7201a8"
             ],
             [
              0.3333333333333333,
              "#9c179e"
             ],
             [
              0.4444444444444444,
              "#bd3786"
             ],
             [
              0.5555555555555556,
              "#d8576b"
             ],
             [
              0.6666666666666666,
              "#ed7953"
             ],
             [
              0.7777777777777778,
              "#fb9f3a"
             ],
             [
              0.8888888888888888,
              "#fdca26"
             ],
             [
              1,
              "#f0f921"
             ]
            ],
            "type": "surface"
           }
          ],
          "table": [
           {
            "cells": {
             "fill": {
              "color": "#EBF0F8"
             },
             "line": {
              "color": "white"
             }
            },
            "header": {
             "fill": {
              "color": "#C8D4E3"
             },
             "line": {
              "color": "white"
             }
            },
            "type": "table"
           }
          ]
         },
         "layout": {
          "annotationdefaults": {
           "arrowcolor": "#2a3f5f",
           "arrowhead": 0,
           "arrowwidth": 1
          },
          "autotypenumbers": "strict",
          "coloraxis": {
           "colorbar": {
            "outlinewidth": 0,
            "ticks": ""
           }
          },
          "colorscale": {
           "diverging": [
            [
             0,
             "#8e0152"
            ],
            [
             0.1,
             "#c51b7d"
            ],
            [
             0.2,
             "#de77ae"
            ],
            [
             0.3,
             "#f1b6da"
            ],
            [
             0.4,
             "#fde0ef"
            ],
            [
             0.5,
             "#f7f7f7"
            ],
            [
             0.6,
             "#e6f5d0"
            ],
            [
             0.7,
             "#b8e186"
            ],
            [
             0.8,
             "#7fbc41"
            ],
            [
             0.9,
             "#4d9221"
            ],
            [
             1,
             "#276419"
            ]
           ],
           "sequential": [
            [
             0,
             "#0d0887"
            ],
            [
             0.1111111111111111,
             "#46039f"
            ],
            [
             0.2222222222222222,
             "#7201a8"
            ],
            [
             0.3333333333333333,
             "#9c179e"
            ],
            [
             0.4444444444444444,
             "#bd3786"
            ],
            [
             0.5555555555555556,
             "#d8576b"
            ],
            [
             0.6666666666666666,
             "#ed7953"
            ],
            [
             0.7777777777777778,
             "#fb9f3a"
            ],
            [
             0.8888888888888888,
             "#fdca26"
            ],
            [
             1,
             "#f0f921"
            ]
           ],
           "sequentialminus": [
            [
             0,
             "#0d0887"
            ],
            [
             0.1111111111111111,
             "#46039f"
            ],
            [
             0.2222222222222222,
             "#7201a8"
            ],
            [
             0.3333333333333333,
             "#9c179e"
            ],
            [
             0.4444444444444444,
             "#bd3786"
            ],
            [
             0.5555555555555556,
             "#d8576b"
            ],
            [
             0.6666666666666666,
             "#ed7953"
            ],
            [
             0.7777777777777778,
             "#fb9f3a"
            ],
            [
             0.8888888888888888,
             "#fdca26"
            ],
            [
             1,
             "#f0f921"
            ]
           ]
          },
          "colorway": [
           "#636efa",
           "#EF553B",
           "#00cc96",
           "#ab63fa",
           "#FFA15A",
           "#19d3f3",
           "#FF6692",
           "#B6E880",
           "#FF97FF",
           "#FECB52"
          ],
          "font": {
           "color": "#2a3f5f"
          },
          "geo": {
           "bgcolor": "white",
           "lakecolor": "white",
           "landcolor": "#E5ECF6",
           "showlakes": true,
           "showland": true,
           "subunitcolor": "white"
          },
          "hoverlabel": {
           "align": "left"
          },
          "hovermode": "closest",
          "mapbox": {
           "style": "light"
          },
          "paper_bgcolor": "white",
          "plot_bgcolor": "#E5ECF6",
          "polar": {
           "angularaxis": {
            "gridcolor": "white",
            "linecolor": "white",
            "ticks": ""
           },
           "bgcolor": "#E5ECF6",
           "radialaxis": {
            "gridcolor": "white",
            "linecolor": "white",
            "ticks": ""
           }
          },
          "scene": {
           "xaxis": {
            "backgroundcolor": "#E5ECF6",
            "gridcolor": "white",
            "gridwidth": 2,
            "linecolor": "white",
            "showbackground": true,
            "ticks": "",
            "zerolinecolor": "white"
           },
           "yaxis": {
            "backgroundcolor": "#E5ECF6",
            "gridcolor": "white",
            "gridwidth": 2,
            "linecolor": "white",
            "showbackground": true,
            "ticks": "",
            "zerolinecolor": "white"
           },
           "zaxis": {
            "backgroundcolor": "#E5ECF6",
            "gridcolor": "white",
            "gridwidth": 2,
            "linecolor": "white",
            "showbackground": true,
            "ticks": "",
            "zerolinecolor": "white"
           }
          },
          "shapedefaults": {
           "line": {
            "color": "#2a3f5f"
           }
          },
          "ternary": {
           "aaxis": {
            "gridcolor": "white",
            "linecolor": "white",
            "ticks": ""
           },
           "baxis": {
            "gridcolor": "white",
            "linecolor": "white",
            "ticks": ""
           },
           "bgcolor": "#E5ECF6",
           "caxis": {
            "gridcolor": "white",
            "linecolor": "white",
            "ticks": ""
           }
          },
          "title": {
           "x": 0.05
          },
          "xaxis": {
           "automargin": true,
           "gridcolor": "white",
           "linecolor": "white",
           "ticks": "",
           "title": {
            "standoff": 15
           },
           "zerolinecolor": "white",
           "zerolinewidth": 2
          },
          "yaxis": {
           "automargin": true,
           "gridcolor": "white",
           "linecolor": "white",
           "ticks": "",
           "title": {
            "standoff": 15
           },
           "zerolinecolor": "white",
           "zerolinewidth": 2
          }
         }
        },
        "title": {
         "font": {
          "color": "#4D5663"
         }
        },
        "xaxis": {
         "gridcolor": "#E1E5ED",
         "rangeslider": {
          "visible": false
         },
         "showgrid": true,
         "tickfont": {
          "color": "#4D5663"
         },
         "title": {
          "font": {
           "color": "#4D5663"
          },
          "text": ""
         },
         "zerolinecolor": "#E1E5ED"
        },
        "yaxis": {
         "gridcolor": "#E1E5ED",
         "showgrid": true,
         "showticklabels": false,
         "tickfont": {
          "color": "#4D5663"
         },
         "title": {
          "font": {
           "color": "#4D5663"
          },
          "text": ""
         },
         "zerolinecolor": "#E1E5ED"
        },
        "yaxis2": {
         "gridcolor": "#E1E5ED",
         "showgrid": true,
         "tickfont": {
          "color": "#4D5663"
         },
         "title": {
          "font": {
           "color": "#4D5663"
          },
          "text": ""
         },
         "zerolinecolor": "#E1E5ED"
        }
       }
      },
      "text/html": [
       "<div>                            <div id=\"9efc22de-580b-4bc2-888a-d68ea2d2179e\" class=\"plotly-graph-div\" style=\"height:525px; width:100%;\"></div>            <script type=\"text/javascript\">                require([\"plotly\"], function(Plotly) {                    window.PLOTLYENV=window.PLOTLYENV || {};\n",
       "                    window.PLOTLYENV.BASE_URL='https://plot.ly';                                    if (document.getElementById(\"9efc22de-580b-4bc2-888a-d68ea2d2179e\")) {                    Plotly.newPlot(                        \"9efc22de-580b-4bc2-888a-d68ea2d2179e\",                        [{\"close\":[14.6233,14.8168,15.0131,14.8846,15.0063,15.0681,14.8403,14.7461,14.5645,15.0318,15.4246,15.1349,14.5969,14.5379,14.9473,14.857,14.9386,15.244,15.4679,15.0318,15.3078,15.4335,15.1045,15.1458,15.1115,15.1359,15.1359,15.2911,15.3274,15.4599,15.0957,15.1045,14.9052,15.0505,15.3805,15.4679,15.3176,15.5533,14.9984,14.7391,14.8865,14.7834,14.5408,14.8089,14.973,14.2108,14.3062,14.3149,14.0036,13.7759,14.04,13.9859,13.9663,14.0302,13.553,13.4479,13.4479,13.4999,13.6462,13.6462,13.5971,13.5971,13.3271,13.4743,13.4999,13.3024,13.4046,13.768,13.4743,13.6207,13.491,13.604,13.4822,13.7453,14.15,14.1323,13.828,13.9005,13.9005,13.7759,14.0036,13.5617,13.8093,13.7376,13.4566,14.1117,14.1304,14.1991,13.8731,13.1806,13.2053,13.9074,14.4427,15.0828,15.2783,15.3481,15.2852,15.2213,15.131,15.3658,15.5817,15.3294,15.3834,15.4365,15.3735,15.3481,15.4452,15.6593,15.6839,15.4452,15.2636,15.4619,15.7025,15.9363,15.6151,15.6505,15.6318,15.5042,15.2714,14.7951,14.7019,14.425,14.2345,14.038,14.4151,14.6312,14.7097,14.8718,14.7019,14.5879,15.0358,15.0024,15.1075,15.2636,15.0918,14.8315,15.0092,15.0024,15.1566,15.0918,15.1075,15.1075,15.1939,14.9513,14.751,14.8452,14.4928,14.6233,14.3984,14.2551,14.2088,14.3563,14.4151,14.2088,14.425,14.4063,14.4151,14.4427,14.2178,14.0793,14.2265,14.1814,14.148,14.2001,14.1637,13.9849,14.0292,14.0793,14.1568,13.875,13.7189,13.7611,13.4763,13.3988,13.4685,13.5097,13.5558,13.3487,13.4075,13.3988,13.5981,13.4685,13.6227,13.606,13.5382,13.5283,13.4419,13.3144,13.3565,13.3821,13.271,13.2524,13.3644,13.1826,13.281,13.271,13.4419,13.5382,13.6394,13.4419,13.7611,13.8584,13.8907,13.8584,13.829,13.8053,13.5981,13.9231,13.9654,13.7769,13.6394,13.7689,13.7463,13.5726,13.7689,14.1558,14.0636,13.9084,14.0636,13.9153,13.9919,14.2766,14.2599,14.311,14.0449,14.096,14.038,14.1558,13.7091,13.5568,13.6394,13.273,13.005,13.2446,13.0501,13.4175,13.6069,13.5029,13.8103,13.2279,13.0992,13.2013,13.0501,13.7689,14.1214,14.3179,14.5772,14.8413,14.5438,14.4711,14.9238,15.3668],\"high\":[14.8325,14.9807,15.078,14.972,15.1035,15.0681,14.8659,14.7981,14.9984,15.4933,15.4512,15.1988,14.6763,14.8255,15.1271,15.1035,15.1703,15.4679,15.4933,15.4423,15.5454,15.4335,15.236,15.1625,15.2283,15.2283,15.3638,15.4512,15.4679,15.4836,15.2518,15.1281,14.9984,15.2774,15.5877,15.5454,15.6662,15.6741,15.0505,14.9984,14.9563,14.8502,14.8865,15.1115,14.9984,14.2718,14.3406,14.3406,14.04,14.1137,14.1137,14.0469,14.1137,14.1067,13.7926,13.5067,13.5353,13.7082,13.6748,13.8023,13.7082,13.6815,13.3271,13.553,13.5166,13.4566,13.7082,13.8828,13.5353,13.7376,13.4999,13.6462,13.6128,14.2816,14.2011,14.2011,13.9231,13.9162,13.9585,14.2639,14.0036,13.7453,14.0302,13.7453,13.8651,14.1382,14.1991,14.2078,13.8731,14.0016,13.8013,14.3896,14.8552,15.2783,15.4619,15.3834,15.2852,15.2783,15.247,15.5228,15.5897,15.6074,15.5317,15.5897,15.4856,15.5228,15.5984,15.7988,15.7202,15.4532,15.3568,15.7457,15.9206,15.9628,15.6937,15.7457,15.6839,15.6074,15.4188,14.8138,14.7254,14.5468,14.4427,14.2541,14.6233,14.692,14.8639,14.9513,14.7951,14.9003,15.131,15.2213,15.2783,15.3039,15.1399,15.0181,15.0269,15.1939,15.1654,15.1153,15.185,15.2714,15.2213,14.9857,14.968,14.9857,14.6656,14.7019,14.4327,14.3286,14.3563,14.4063,14.425,14.4063,14.4661,14.425,14.5104,14.4504,14.2452,14.2265,14.2875,14.2265,14.1912,14.2875,14.1735,14.0636,14.2001,14.3032,14.1637,13.9084,13.82,13.8103,13.5283,13.5717,13.5647,13.606,13.6315,13.4685,13.5097,13.5647,13.7286,13.6481,13.7376,13.6571,13.5981,13.5717,13.5558,13.4763,13.4332,13.4509,13.3144,13.3644,13.4419,13.3388,13.3821,13.4763,13.606,13.6766,13.7189,13.7533,13.8671,13.8828,13.9654,13.9084,13.9585,13.9162,13.8907,14.0636,14.3129,13.8023,13.7611,13.8671,13.7611,13.6315,14.1117,14.1627,14.2069,14.0115,14.1047,14.0636,14.2158,14.3179,14.4131,14.362,14.1214,14.2678,14.1627,14.3787,13.8103,13.7376,13.6766,13.2995,13.2828,13.2995,13.5029,13.5568,13.6766,13.9005,13.9005,13.3654,13.4175,13.218,13.5293,13.9221,14.4995,14.6213,14.9238,14.8855,14.7471,14.971,15.2862,15.4766],\"low\":[14.6233,14.807,14.913,14.7539,14.963,14.857,14.642,14.5722,14.5645,15.0318,14.972,14.7628,14.3366,14.4574,14.7372,14.6577,14.8846,15.1526,15.1035,14.9897,15.2518,15.1458,15.0957,15.0141,15.0888,14.9483,15.1281,15.245,15.2695,15.1045,15.023,14.7391,14.8089,15.0328,15.3176,15.2184,15.2184,15.3893,14.7558,14.697,14.7215,14.6193,14.5222,14.7057,14.257,14.1234,14.1578,14.0803,13.8671,13.7759,13.9497,13.8474,13.8907,13.6207,13.4743,13.3448,13.3702,13.4302,13.4399,13.491,13.491,13.3791,12.678,13.3104,13.276,13.2131,13.3271,13.7002,13.3448,13.4999,13.3869,13.491,13.4302,13.6748,13.9398,13.875,13.7759,13.7759,13.7002,13.7179,13.7759,13.4302,13.7523,13.491,13.3535,13.9742,13.9919,13.8985,13.2484,13.1729,12.6102,13.9074,14.4427,15.0633,15.247,15.1654,15.1477,15.0633,14.7019,15.3039,15.4276,15.2036,15.3481,15.3735,15.294,15.239,15.4276,15.5897,15.4766,15.2036,15.1153,15.4089,15.6151,15.573,15.565,15.6151,15.4532,15.4276,15.1075,14.5635,14.5969,14.3896,14.2078,14.0115,14.1117,14.4327,14.5879,14.7608,14.5565,14.5635,14.9857,14.9857,15.0731,15.1654,14.9857,14.7864,14.8718,14.9435,15.0024,14.9003,14.9935,15.0633,14.9935,14.6833,14.7254,14.6567,14.4427,14.4564,14.2088,14.1814,14.1814,14.2786,14.2452,14.148,14.3896,14.2619,14.3199,14.2786,14.0459,14.039,14.1637,14.087,14.0793,14.148,13.9654,13.8584,13.8484,14.0636,13.8828,13.7091,13.5981,13.4075,13.3487,13.3988,13.4419,13.5019,13.3388,13.2887,13.3988,13.3487,13.4165,13.4262,13.5283,13.5558,13.4332,13.3742,13.3487,13.3064,13.2093,13.2887,13.1326,13.2426,13.2613,13.1512,13.1425,13.2613,13.4419,13.5382,13.4685,13.4419,13.7012,13.7463,13.6481,13.7286,13.6924,13.6668,13.5981,13.8828,13.9162,13.5647,13.5717,13.7012,13.495,13.4085,13.6481,14.0115,13.9488,13.82,13.7463,13.8023,13.9388,14.0537,14.1981,14.0537,13.9153,14.038,13.9488,13.9221,13.6481,13.5206,13.3998,12.9804,13.005,13.0501,13.0324,13.2907,13.4763,13.5029,13.2446,13.005,13.0501,12.8498,13.005,13.5391,14.0115,14.3022,14.5526,14.6793,14.4809,14.4043,14.8413,15.1772],\"open\":[14.7814,14.9473,14.9897,14.963,15.0495,14.913,14.8168,14.7539,14.9386,15.4679,15.3363,14.7893,14.5645,14.7461,14.9032,14.8659,15.1115,15.4599,15.1526,15.3638,15.5366,15.1811,15.1458,15.1281,15.1713,14.9563,15.2695,15.4335,15.406,15.1045,15.1625,14.8413,14.8413,15.236,15.5877,15.2774,15.6211,15.4599,14.7558,14.9907,14.7391,14.6439,14.8865,14.8669,14.257,14.2108,14.3149,14.1137,13.8671,14.088,14.0036,13.8671,14.1067,13.7002,13.6648,13.3869,13.5166,13.6462,13.6207,13.6748,13.5874,13.3869,13.0668,13.4479,13.4743,13.4302,13.6815,13.7602,13.4656,13.5166,13.4232,13.5774,13.5874,14.1137,14.1657,13.9005,13.8377,13.8574,13.7523,14.1834,13.828,13.6815,13.8377,13.7082,13.7749,14.1047,14.1627,14.147,13.6551,13.9919,12.9725,13.9919,14.8452,15.1566,15.3039,15.2116,15.1752,15.1654,15.2213,15.4188,15.4365,15.4766,15.4689,15.4856,15.3658,15.4689,15.573,15.7202,15.5042,15.3658,15.2537,15.7202,15.8832,15.573,15.6417,15.6761,15.514,15.4689,15.1399,14.6233,14.6656,14.5104,14.2786,14.1804,14.5969,14.4928,14.8237,14.9003,14.751,14.7951,15.0986,15.1752,15.1399,15.1654,14.9935,14.9277,14.9857,15.1939,15.0828,14.968,15.0731,15.2293,15.0181,14.7254,14.9101,14.7186,14.5722,14.5025,14.2265,14.2786,14.3473,14.3984,14.2619,14.4063,14.3984,14.3896,14.4504,14.2786,14.0459,14.2265,14.2355,14.1568,14.1735,14.1637,14.0547,13.9752,14.087,14.1391,13.9005,13.7769,13.7769,13.4332,13.4165,13.4596,13.5283,13.5382,13.3899,13.4332,13.4509,13.5283,13.4685,13.5196,13.6766,13.5804,13.5097,13.4596,13.3644,13.3821,13.2524,13.2887,13.281,13.3487,13.281,13.3301,13.2524,13.4596,13.547,13.6138,13.5097,13.7463,13.7856,13.8387,13.875,13.8484,13.82,13.7091,13.8103,14.0547,14.1313,13.7091,13.7463,13.7533,13.5568,13.548,14.096,14.0537,13.9654,14.0115,13.8584,13.9153,14.2069,14.1893,14.3543,14.0861,14.0203,14.2158,14.038,13.9919,13.7189,13.5568,13.3998,13.1081,13.0747,13.1444,13.495,13.3505,13.495,13.7689,13.3505,13.1169,13.3831,13.0147,13.3831,13.7376,14.4407,14.6116,14.9238,14.7314,14.7147,14.9553,15.2734,15.4452],\"showlegend\":false,\"x\":[\"2015-12-31\",\"2015-12-30\",\"2015-12-29\",\"2015-12-28\",\"2015-12-24\",\"2015-12-23\",\"2015-12-22\",\"2015-12-21\",\"2015-12-18\",\"2015-12-17\",\"2015-12-16\",\"2015-12-15\",\"2015-12-14\",\"2015-12-11\",\"2015-12-10\",\"2015-12-09\",\"2015-12-08\",\"2015-12-07\",\"2015-12-04\",\"2015-12-03\",\"2015-12-02\",\"2015-12-01\",\"2015-11-30\",\"2015-11-27\",\"2015-11-25\",\"2015-11-24\",\"2015-11-23\",\"2015-11-20\",\"2015-11-19\",\"2015-11-18\",\"2015-11-17\",\"2015-11-16\",\"2015-11-13\",\"2015-11-12\",\"2015-11-11\",\"2015-11-10\",\"2015-11-09\",\"2015-11-06\",\"2015-11-05\",\"2015-11-04\",\"2015-11-03\",\"2015-11-02\",\"2015-10-30\",\"2015-10-29\",\"2015-10-28\",\"2015-10-27\",\"2015-10-26\",\"2015-10-23\",\"2015-10-22\",\"2015-10-21\",\"2015-10-20\",\"2015-10-19\",\"2015-10-16\",\"2015-10-15\",\"2015-10-14\",\"2015-10-13\",\"2015-10-12\",\"2015-10-09\",\"2015-10-08\",\"2015-10-07\",\"2015-10-06\",\"2015-10-05\",\"2015-10-02\",\"2015-10-01\",\"2015-09-30\",\"2015-09-29\",\"2015-09-28\",\"2015-09-25\",\"2015-09-24\",\"2015-09-23\",\"2015-09-22\",\"2015-09-21\",\"2015-09-18\",\"2015-09-17\",\"2015-09-16\",\"2015-09-15\",\"2015-09-14\",\"2015-09-11\",\"2015-09-10\",\"2015-09-09\",\"2015-09-08\",\"2015-09-04\",\"2015-09-03\",\"2015-09-02\",\"2015-09-01\",\"2015-08-31\",\"2015-08-28\",\"2015-08-27\",\"2015-08-26\",\"2015-08-25\",\"2015-08-24\",\"2015-08-21\",\"2015-08-20\",\"2015-08-19\",\"2015-08-18\",\"2015-08-17\",\"2015-08-14\",\"2015-08-13\",\"2015-08-12\",\"2015-08-11\",\"2015-08-10\",\"2015-08-07\",\"2015-08-06\",\"2015-08-05\",\"2015-08-04\",\"2015-08-03\",\"2015-07-31\",\"2015-07-30\",\"2015-07-29\",\"2015-07-28\",\"2015-07-27\",\"2015-07-24\",\"2015-07-23\",\"2015-07-22\",\"2015-07-21\",\"2015-07-20\",\"2015-07-17\",\"2015-07-16\",\"2015-07-15\",\"2015-07-14\",\"2015-07-13\",\"2015-07-10\",\"2015-07-09\",\"2015-07-08\",\"2015-07-07\",\"2015-07-06\",\"2015-07-02\",\"2015-07-01\",\"2015-06-30\",\"2015-06-29\",\"2015-06-26\",\"2015-06-25\",\"2015-06-24\",\"2015-06-23\",\"2015-06-22\",\"2015-06-19\",\"2015-06-18\",\"2015-06-17\",\"2015-06-16\",\"2015-06-15\",\"2015-06-12\",\"2015-06-11\",\"2015-06-10\",\"2015-06-09\",\"2015-06-08\",\"2015-06-05\",\"2015-06-04\",\"2015-06-03\",\"2015-06-02\",\"2015-06-01\",\"2015-05-29\",\"2015-05-28\",\"2015-05-27\",\"2015-05-26\",\"2015-05-22\",\"2015-05-21\",\"2015-05-20\",\"2015-05-19\",\"2015-05-18\",\"2015-05-15\",\"2015-05-14\",\"2015-05-13\",\"2015-05-12\",\"2015-05-11\",\"2015-05-08\",\"2015-05-07\",\"2015-05-06\",\"2015-05-05\",\"2015-05-04\",\"2015-05-01\",\"2015-04-30\",\"2015-04-29\",\"2015-04-28\",\"2015-04-27\",\"2015-04-24\",\"2015-04-23\",\"2015-04-22\",\"2015-04-21\",\"2015-04-20\",\"2015-04-17\",\"2015-04-16\",\"2015-04-15\",\"2015-04-14\",\"2015-04-13\",\"2015-04-10\",\"2015-04-09\",\"2015-04-08\",\"2015-04-07\",\"2015-04-06\",\"2015-04-02\",\"2015-04-01\",\"2015-03-31\",\"2015-03-30\",\"2015-03-27\",\"2015-03-26\",\"2015-03-25\",\"2015-03-24\",\"2015-03-23\",\"2015-03-20\",\"2015-03-19\",\"2015-03-18\",\"2015-03-17\",\"2015-03-16\",\"2015-03-13\",\"2015-03-12\",\"2015-03-11\",\"2015-03-10\",\"2015-03-09\",\"2015-03-06\",\"2015-03-05\",\"2015-03-04\",\"2015-03-03\",\"2015-03-02\",\"2015-02-27\",\"2015-02-26\",\"2015-02-25\",\"2015-02-24\",\"2015-02-23\",\"2015-02-20\",\"2015-02-19\",\"2015-02-18\",\"2015-02-17\",\"2015-02-13\",\"2015-02-12\",\"2015-02-11\",\"2015-02-10\",\"2015-02-09\",\"2015-02-06\",\"2015-02-05\",\"2015-02-04\",\"2015-02-03\",\"2015-02-02\",\"2015-01-30\",\"2015-01-29\",\"2015-01-28\",\"2015-01-27\",\"2015-01-26\",\"2015-01-23\",\"2015-01-22\",\"2015-01-21\",\"2015-01-20\",\"2015-01-16\",\"2015-01-15\",\"2015-01-14\",\"2015-01-13\",\"2015-01-12\",\"2015-01-09\",\"2015-01-08\",\"2015-01-07\",\"2015-01-06\",\"2015-01-05\",\"2015-01-02\"],\"yaxis\":\"y2\",\"type\":\"candlestick\"}],                        {\"legend\":{\"bgcolor\":\"#F5F6F9\",\"font\":{\"color\":\"#4D5663\"}},\"paper_bgcolor\":\"#F5F6F9\",\"plot_bgcolor\":\"#F5F6F9\",\"template\":{\"data\":{\"barpolar\":[{\"marker\":{\"line\":{\"color\":\"#E5ECF6\",\"width\":0.5},\"pattern\":{\"fillmode\":\"overlay\",\"size\":10,\"solidity\":0.2}},\"type\":\"barpolar\"}],\"bar\":[{\"error_x\":{\"color\":\"#2a3f5f\"},\"error_y\":{\"color\":\"#2a3f5f\"},\"marker\":{\"line\":{\"color\":\"#E5ECF6\",\"width\":0.5},\"pattern\":{\"fillmode\":\"overlay\",\"size\":10,\"solidity\":0.2}},\"type\":\"bar\"}],\"carpet\":[{\"aaxis\":{\"endlinecolor\":\"#2a3f5f\",\"gridcolor\":\"white\",\"linecolor\":\"white\",\"minorgridcolor\":\"white\",\"startlinecolor\":\"#2a3f5f\"},\"baxis\":{\"endlinecolor\":\"#2a3f5f\",\"gridcolor\":\"white\",\"linecolor\":\"white\",\"minorgridcolor\":\"white\",\"startlinecolor\":\"#2a3f5f\"},\"type\":\"carpet\"}],\"choropleth\":[{\"colorbar\":{\"outlinewidth\":0,\"ticks\":\"\"},\"type\":\"choropleth\"}],\"contourcarpet\":[{\"colorbar\":{\"outlinewidth\":0,\"ticks\":\"\"},\"type\":\"contourcarpet\"}],\"contour\":[{\"colorbar\":{\"outlinewidth\":0,\"ticks\":\"\"},\"colorscale\":[[0.0,\"#0d0887\"],[0.1111111111111111,\"#46039f\"],[0.2222222222222222,\"#7201a8\"],[0.3333333333333333,\"#9c179e\"],[0.4444444444444444,\"#bd3786\"],[0.5555555555555556,\"#d8576b\"],[0.6666666666666666,\"#ed7953\"],[0.7777777777777778,\"#fb9f3a\"],[0.8888888888888888,\"#fdca26\"],[1.0,\"#f0f921\"]],\"type\":\"contour\"}],\"heatmapgl\":[{\"colorbar\":{\"outlinewidth\":0,\"ticks\":\"\"},\"colorscale\":[[0.0,\"#0d0887\"],[0.1111111111111111,\"#46039f\"],[0.2222222222222222,\"#7201a8\"],[0.3333333333333333,\"#9c179e\"],[0.4444444444444444,\"#bd3786\"],[0.5555555555555556,\"#d8576b\"],[0.6666666666666666,\"#ed7953\"],[0.7777777777777778,\"#fb9f3a\"],[0.8888888888888888,\"#fdca26\"],[1.0,\"#f0f921\"]],\"type\":\"heatmapgl\"}],\"heatmap\":[{\"colorbar\":{\"outlinewidth\":0,\"ticks\":\"\"},\"colorscale\":[[0.0,\"#0d0887\"],[0.1111111111111111,\"#46039f\"],[0.2222222222222222,\"#7201a8\"],[0.3333333333333333,\"#9c179e\"],[0.4444444444444444,\"#bd3786\"],[0.5555555555555556,\"#d8576b\"],[0.6666666666666666,\"#ed7953\"],[0.7777777777777778,\"#fb9f3a\"],[0.8888888888888888,\"#fdca26\"],[1.0,\"#f0f921\"]],\"type\":\"heatmap\"}],\"histogram2dcontour\":[{\"colorbar\":{\"outlinewidth\":0,\"ticks\":\"\"},\"colorscale\":[[0.0,\"#0d0887\"],[0.1111111111111111,\"#46039f\"],[0.2222222222222222,\"#7201a8\"],[0.3333333333333333,\"#9c179e\"],[0.4444444444444444,\"#bd3786\"],[0.5555555555555556,\"#d8576b\"],[0.6666666666666666,\"#ed7953\"],[0.7777777777777778,\"#fb9f3a\"],[0.8888888888888888,\"#fdca26\"],[1.0,\"#f0f921\"]],\"type\":\"histogram2dcontour\"}],\"histogram2d\":[{\"colorbar\":{\"outlinewidth\":0,\"ticks\":\"\"},\"colorscale\":[[0.0,\"#0d0887\"],[0.1111111111111111,\"#46039f\"],[0.2222222222222222,\"#7201a8\"],[0.3333333333333333,\"#9c179e\"],[0.4444444444444444,\"#bd3786\"],[0.5555555555555556,\"#d8576b\"],[0.6666666666666666,\"#ed7953\"],[0.7777777777777778,\"#fb9f3a\"],[0.8888888888888888,\"#fdca26\"],[1.0,\"#f0f921\"]],\"type\":\"histogram2d\"}],\"histogram\":[{\"marker\":{\"pattern\":{\"fillmode\":\"overlay\",\"size\":10,\"solidity\":0.2}},\"type\":\"histogram\"}],\"mesh3d\":[{\"colorbar\":{\"outlinewidth\":0,\"ticks\":\"\"},\"type\":\"mesh3d\"}],\"parcoords\":[{\"line\":{\"colorbar\":{\"outlinewidth\":0,\"ticks\":\"\"}},\"type\":\"parcoords\"}],\"pie\":[{\"automargin\":true,\"type\":\"pie\"}],\"scatter3d\":[{\"line\":{\"colorbar\":{\"outlinewidth\":0,\"ticks\":\"\"}},\"marker\":{\"colorbar\":{\"outlinewidth\":0,\"ticks\":\"\"}},\"type\":\"scatter3d\"}],\"scattercarpet\":[{\"marker\":{\"colorbar\":{\"outlinewidth\":0,\"ticks\":\"\"}},\"type\":\"scattercarpet\"}],\"scattergeo\":[{\"marker\":{\"colorbar\":{\"outlinewidth\":0,\"ticks\":\"\"}},\"type\":\"scattergeo\"}],\"scattergl\":[{\"marker\":{\"colorbar\":{\"outlinewidth\":0,\"ticks\":\"\"}},\"type\":\"scattergl\"}],\"scattermapbox\":[{\"marker\":{\"colorbar\":{\"outlinewidth\":0,\"ticks\":\"\"}},\"type\":\"scattermapbox\"}],\"scatterpolargl\":[{\"marker\":{\"colorbar\":{\"outlinewidth\":0,\"ticks\":\"\"}},\"type\":\"scatterpolargl\"}],\"scatterpolar\":[{\"marker\":{\"colorbar\":{\"outlinewidth\":0,\"ticks\":\"\"}},\"type\":\"scatterpolar\"}],\"scatter\":[{\"fillpattern\":{\"fillmode\":\"overlay\",\"size\":10,\"solidity\":0.2},\"type\":\"scatter\"}],\"scatterternary\":[{\"marker\":{\"colorbar\":{\"outlinewidth\":0,\"ticks\":\"\"}},\"type\":\"scatterternary\"}],\"surface\":[{\"colorbar\":{\"outlinewidth\":0,\"ticks\":\"\"},\"colorscale\":[[0.0,\"#0d0887\"],[0.1111111111111111,\"#46039f\"],[0.2222222222222222,\"#7201a8\"],[0.3333333333333333,\"#9c179e\"],[0.4444444444444444,\"#bd3786\"],[0.5555555555555556,\"#d8576b\"],[0.6666666666666666,\"#ed7953\"],[0.7777777777777778,\"#fb9f3a\"],[0.8888888888888888,\"#fdca26\"],[1.0,\"#f0f921\"]],\"type\":\"surface\"}],\"table\":[{\"cells\":{\"fill\":{\"color\":\"#EBF0F8\"},\"line\":{\"color\":\"white\"}},\"header\":{\"fill\":{\"color\":\"#C8D4E3\"},\"line\":{\"color\":\"white\"}},\"type\":\"table\"}]},\"layout\":{\"annotationdefaults\":{\"arrowcolor\":\"#2a3f5f\",\"arrowhead\":0,\"arrowwidth\":1},\"autotypenumbers\":\"strict\",\"coloraxis\":{\"colorbar\":{\"outlinewidth\":0,\"ticks\":\"\"}},\"colorscale\":{\"diverging\":[[0,\"#8e0152\"],[0.1,\"#c51b7d\"],[0.2,\"#de77ae\"],[0.3,\"#f1b6da\"],[0.4,\"#fde0ef\"],[0.5,\"#f7f7f7\"],[0.6,\"#e6f5d0\"],[0.7,\"#b8e186\"],[0.8,\"#7fbc41\"],[0.9,\"#4d9221\"],[1,\"#276419\"]],\"sequential\":[[0.0,\"#0d0887\"],[0.1111111111111111,\"#46039f\"],[0.2222222222222222,\"#7201a8\"],[0.3333333333333333,\"#9c179e\"],[0.4444444444444444,\"#bd3786\"],[0.5555555555555556,\"#d8576b\"],[0.6666666666666666,\"#ed7953\"],[0.7777777777777778,\"#fb9f3a\"],[0.8888888888888888,\"#fdca26\"],[1.0,\"#f0f921\"]],\"sequentialminus\":[[0.0,\"#0d0887\"],[0.1111111111111111,\"#46039f\"],[0.2222222222222222,\"#7201a8\"],[0.3333333333333333,\"#9c179e\"],[0.4444444444444444,\"#bd3786\"],[0.5555555555555556,\"#d8576b\"],[0.6666666666666666,\"#ed7953\"],[0.7777777777777778,\"#fb9f3a\"],[0.8888888888888888,\"#fdca26\"],[1.0,\"#f0f921\"]]},\"colorway\":[\"#636efa\",\"#EF553B\",\"#00cc96\",\"#ab63fa\",\"#FFA15A\",\"#19d3f3\",\"#FF6692\",\"#B6E880\",\"#FF97FF\",\"#FECB52\"],\"font\":{\"color\":\"#2a3f5f\"},\"geo\":{\"bgcolor\":\"white\",\"lakecolor\":\"white\",\"landcolor\":\"#E5ECF6\",\"showlakes\":true,\"showland\":true,\"subunitcolor\":\"white\"},\"hoverlabel\":{\"align\":\"left\"},\"hovermode\":\"closest\",\"mapbox\":{\"style\":\"light\"},\"paper_bgcolor\":\"white\",\"plot_bgcolor\":\"#E5ECF6\",\"polar\":{\"angularaxis\":{\"gridcolor\":\"white\",\"linecolor\":\"white\",\"ticks\":\"\"},\"bgcolor\":\"#E5ECF6\",\"radialaxis\":{\"gridcolor\":\"white\",\"linecolor\":\"white\",\"ticks\":\"\"}},\"scene\":{\"xaxis\":{\"backgroundcolor\":\"#E5ECF6\",\"gridcolor\":\"white\",\"gridwidth\":2,\"linecolor\":\"white\",\"showbackground\":true,\"ticks\":\"\",\"zerolinecolor\":\"white\"},\"yaxis\":{\"backgroundcolor\":\"#E5ECF6\",\"gridcolor\":\"white\",\"gridwidth\":2,\"linecolor\":\"white\",\"showbackground\":true,\"ticks\":\"\",\"zerolinecolor\":\"white\"},\"zaxis\":{\"backgroundcolor\":\"#E5ECF6\",\"gridcolor\":\"white\",\"gridwidth\":2,\"linecolor\":\"white\",\"showbackground\":true,\"ticks\":\"\",\"zerolinecolor\":\"white\"}},\"shapedefaults\":{\"line\":{\"color\":\"#2a3f5f\"}},\"ternary\":{\"aaxis\":{\"gridcolor\":\"white\",\"linecolor\":\"white\",\"ticks\":\"\"},\"baxis\":{\"gridcolor\":\"white\",\"linecolor\":\"white\",\"ticks\":\"\"},\"bgcolor\":\"#E5ECF6\",\"caxis\":{\"gridcolor\":\"white\",\"linecolor\":\"white\",\"ticks\":\"\"}},\"title\":{\"x\":0.05},\"xaxis\":{\"automargin\":true,\"gridcolor\":\"white\",\"linecolor\":\"white\",\"ticks\":\"\",\"title\":{\"standoff\":15},\"zerolinecolor\":\"white\",\"zerolinewidth\":2},\"yaxis\":{\"automargin\":true,\"gridcolor\":\"white\",\"linecolor\":\"white\",\"ticks\":\"\",\"title\":{\"standoff\":15},\"zerolinecolor\":\"white\",\"zerolinewidth\":2}}},\"title\":{\"font\":{\"color\":\"#4D5663\"}},\"xaxis\":{\"gridcolor\":\"#E1E5ED\",\"rangeslider\":{\"visible\":false},\"showgrid\":true,\"tickfont\":{\"color\":\"#4D5663\"},\"title\":{\"font\":{\"color\":\"#4D5663\"},\"text\":\"\"},\"zerolinecolor\":\"#E1E5ED\"},\"yaxis\":{\"gridcolor\":\"#E1E5ED\",\"showgrid\":true,\"showticklabels\":false,\"tickfont\":{\"color\":\"#4D5663\"},\"title\":{\"font\":{\"color\":\"#4D5663\"},\"text\":\"\"},\"zerolinecolor\":\"#E1E5ED\"},\"yaxis2\":{\"gridcolor\":\"#E1E5ED\",\"showgrid\":true,\"tickfont\":{\"color\":\"#4D5663\"},\"title\":{\"font\":{\"color\":\"#4D5663\"},\"text\":\"\"},\"zerolinecolor\":\"#E1E5ED\"}},                        {\"showLink\": true, \"linkText\": \"Export to plot.ly\", \"plotlyServerURL\": \"https://plot.ly\", \"responsive\": true}                    ).then(function(){\n",
       "                            \n",
       "var gd = document.getElementById('9efc22de-580b-4bc2-888a-d68ea2d2179e');\n",
       "var x = new MutationObserver(function (mutations, observer) {{\n",
       "        var display = window.getComputedStyle(gd).display;\n",
       "        if (!display || display === 'none') {{\n",
       "            console.log([gd, 'removed!']);\n",
       "            Plotly.purge(gd);\n",
       "            observer.disconnect();\n",
       "        }}\n",
       "}});\n",
       "\n",
       "// Listen for the removal of the full notebook cells\n",
       "var notebookContainer = gd.closest('#notebook-container');\n",
       "if (notebookContainer) {{\n",
       "    x.observe(notebookContainer, {childList: true});\n",
       "}}\n",
       "\n",
       "// Listen for the clearing of the current output cell\n",
       "var outputEl = gd.closest('.output');\n",
       "if (outputEl) {{\n",
       "    x.observe(outputEl, {childList: true});\n",
       "}}\n",
       "\n",
       "                        })                };                });            </script>        </div>"
      ]
     },
     "metadata": {},
     "output_type": "display_data"
    }
   ],
   "source": [
    "BAC[['Open','High','Low','Close']].loc['2015-01-01':'2016-01-31'].iplot(kind='candle')"
   ]
  },
  {
   "cell_type": "code",
   "execution_count": 35,
   "metadata": {
    "scrolled": true
   },
   "outputs": [
    {
     "name": "stderr",
     "output_type": "stream",
     "text": [
      "/tmp/ipykernel_141941/3672249401.py:1: FutureWarning:\n",
      "\n",
      "Value based partial slicing on non-monotonic DatetimeIndexes with non-existing keys is deprecated and will raise a KeyError in a future Version.\n",
      "\n"
     ]
    },
    {
     "data": {
      "application/vnd.plotly.v1+json": {
       "config": {
        "linkText": "Export to plot.ly",
        "plotlyServerURL": "https://plot.ly",
        "showLink": true
       },
       "data": [
        {
         "line": {
          "color": "rgba(255, 153, 51, 1.0)",
          "dash": "solid",
          "shape": "linear",
          "width": 1.3
         },
         "mode": "lines",
         "name": "Open",
         "text": "",
         "type": "scatter",
         "x": [
          "2015-12-31",
          "2015-12-30",
          "2015-12-29",
          "2015-12-28",
          "2015-12-24",
          "2015-12-23",
          "2015-12-22",
          "2015-12-21",
          "2015-12-18",
          "2015-12-17",
          "2015-12-16",
          "2015-12-15",
          "2015-12-14",
          "2015-12-11",
          "2015-12-10",
          "2015-12-09",
          "2015-12-08",
          "2015-12-07",
          "2015-12-04",
          "2015-12-03",
          "2015-12-02",
          "2015-12-01",
          "2015-11-30",
          "2015-11-27",
          "2015-11-25",
          "2015-11-24",
          "2015-11-23",
          "2015-11-20",
          "2015-11-19",
          "2015-11-18",
          "2015-11-17",
          "2015-11-16",
          "2015-11-13",
          "2015-11-12",
          "2015-11-11",
          "2015-11-10",
          "2015-11-09",
          "2015-11-06",
          "2015-11-05",
          "2015-11-04",
          "2015-11-03",
          "2015-11-02",
          "2015-10-30",
          "2015-10-29",
          "2015-10-28",
          "2015-10-27",
          "2015-10-26",
          "2015-10-23",
          "2015-10-22",
          "2015-10-21",
          "2015-10-20",
          "2015-10-19",
          "2015-10-16",
          "2015-10-15",
          "2015-10-14",
          "2015-10-13",
          "2015-10-12",
          "2015-10-09",
          "2015-10-08",
          "2015-10-07",
          "2015-10-06",
          "2015-10-05",
          "2015-10-02",
          "2015-10-01",
          "2015-09-30",
          "2015-09-29",
          "2015-09-28",
          "2015-09-25",
          "2015-09-24",
          "2015-09-23",
          "2015-09-22",
          "2015-09-21",
          "2015-09-18",
          "2015-09-17",
          "2015-09-16",
          "2015-09-15",
          "2015-09-14",
          "2015-09-11",
          "2015-09-10",
          "2015-09-09",
          "2015-09-08",
          "2015-09-04",
          "2015-09-03",
          "2015-09-02",
          "2015-09-01",
          "2015-08-31",
          "2015-08-28",
          "2015-08-27",
          "2015-08-26",
          "2015-08-25",
          "2015-08-24",
          "2015-08-21",
          "2015-08-20",
          "2015-08-19",
          "2015-08-18",
          "2015-08-17",
          "2015-08-14",
          "2015-08-13",
          "2015-08-12",
          "2015-08-11",
          "2015-08-10",
          "2015-08-07",
          "2015-08-06",
          "2015-08-05",
          "2015-08-04",
          "2015-08-03",
          "2015-07-31",
          "2015-07-30",
          "2015-07-29",
          "2015-07-28",
          "2015-07-27",
          "2015-07-24",
          "2015-07-23",
          "2015-07-22",
          "2015-07-21",
          "2015-07-20",
          "2015-07-17",
          "2015-07-16",
          "2015-07-15",
          "2015-07-14",
          "2015-07-13",
          "2015-07-10",
          "2015-07-09",
          "2015-07-08",
          "2015-07-07",
          "2015-07-06",
          "2015-07-02",
          "2015-07-01",
          "2015-06-30",
          "2015-06-29",
          "2015-06-26",
          "2015-06-25",
          "2015-06-24",
          "2015-06-23",
          "2015-06-22",
          "2015-06-19",
          "2015-06-18",
          "2015-06-17",
          "2015-06-16",
          "2015-06-15",
          "2015-06-12",
          "2015-06-11",
          "2015-06-10",
          "2015-06-09",
          "2015-06-08",
          "2015-06-05",
          "2015-06-04",
          "2015-06-03",
          "2015-06-02",
          "2015-06-01",
          "2015-05-29",
          "2015-05-28",
          "2015-05-27",
          "2015-05-26",
          "2015-05-22",
          "2015-05-21",
          "2015-05-20",
          "2015-05-19",
          "2015-05-18",
          "2015-05-15",
          "2015-05-14",
          "2015-05-13",
          "2015-05-12",
          "2015-05-11",
          "2015-05-08",
          "2015-05-07",
          "2015-05-06",
          "2015-05-05",
          "2015-05-04",
          "2015-05-01",
          "2015-04-30",
          "2015-04-29",
          "2015-04-28",
          "2015-04-27",
          "2015-04-24",
          "2015-04-23",
          "2015-04-22",
          "2015-04-21",
          "2015-04-20",
          "2015-04-17",
          "2015-04-16",
          "2015-04-15",
          "2015-04-14",
          "2015-04-13",
          "2015-04-10",
          "2015-04-09",
          "2015-04-08",
          "2015-04-07",
          "2015-04-06",
          "2015-04-02",
          "2015-04-01",
          "2015-03-31",
          "2015-03-30",
          "2015-03-27",
          "2015-03-26",
          "2015-03-25",
          "2015-03-24",
          "2015-03-23",
          "2015-03-20",
          "2015-03-19",
          "2015-03-18",
          "2015-03-17",
          "2015-03-16",
          "2015-03-13",
          "2015-03-12",
          "2015-03-11",
          "2015-03-10",
          "2015-03-09",
          "2015-03-06",
          "2015-03-05",
          "2015-03-04",
          "2015-03-03",
          "2015-03-02",
          "2015-02-27",
          "2015-02-26",
          "2015-02-25",
          "2015-02-24",
          "2015-02-23",
          "2015-02-20",
          "2015-02-19",
          "2015-02-18",
          "2015-02-17",
          "2015-02-13",
          "2015-02-12",
          "2015-02-11",
          "2015-02-10",
          "2015-02-09",
          "2015-02-06",
          "2015-02-05",
          "2015-02-04",
          "2015-02-03",
          "2015-02-02",
          "2015-01-30",
          "2015-01-29",
          "2015-01-28",
          "2015-01-27",
          "2015-01-26",
          "2015-01-23",
          "2015-01-22",
          "2015-01-21",
          "2015-01-20",
          "2015-01-16",
          "2015-01-15",
          "2015-01-14",
          "2015-01-13",
          "2015-01-12",
          "2015-01-09",
          "2015-01-08",
          "2015-01-07",
          "2015-01-06",
          "2015-01-05",
          "2015-01-02"
         ],
         "y": [
          14.7814,
          14.9473,
          14.9897,
          14.963,
          15.0495,
          14.913,
          14.8168,
          14.7539,
          14.9386,
          15.4679,
          15.3363,
          14.7893,
          14.5645,
          14.7461,
          14.9032,
          14.8659,
          15.1115,
          15.4599,
          15.1526,
          15.3638,
          15.5366,
          15.1811,
          15.1458,
          15.1281,
          15.1713,
          14.9563,
          15.2695,
          15.4335,
          15.406,
          15.1045,
          15.1625,
          14.8413,
          14.8413,
          15.236,
          15.5877,
          15.2774,
          15.6211,
          15.4599,
          14.7558,
          14.9907,
          14.7391,
          14.6439,
          14.8865,
          14.8669,
          14.257,
          14.2108,
          14.3149,
          14.1137,
          13.8671,
          14.088,
          14.0036,
          13.8671,
          14.1067,
          13.7002,
          13.6648,
          13.3869,
          13.5166,
          13.6462,
          13.6207,
          13.6748,
          13.5874,
          13.3869,
          13.0668,
          13.4479,
          13.4743,
          13.4302,
          13.6815,
          13.7602,
          13.4656,
          13.5166,
          13.4232,
          13.5774,
          13.5874,
          14.1137,
          14.1657,
          13.9005,
          13.8377,
          13.8574,
          13.7523,
          14.1834,
          13.828,
          13.6815,
          13.8377,
          13.7082,
          13.7749,
          14.1047,
          14.1627,
          14.147,
          13.6551,
          13.9919,
          12.9725,
          13.9919,
          14.8452,
          15.1566,
          15.3039,
          15.2116,
          15.1752,
          15.1654,
          15.2213,
          15.4188,
          15.4365,
          15.4766,
          15.4689,
          15.4856,
          15.3658,
          15.4689,
          15.573,
          15.7202,
          15.5042,
          15.3658,
          15.2537,
          15.7202,
          15.8832,
          15.573,
          15.6417,
          15.6761,
          15.514,
          15.4689,
          15.1399,
          14.6233,
          14.6656,
          14.5104,
          14.2786,
          14.1804,
          14.5969,
          14.4928,
          14.8237,
          14.9003,
          14.751,
          14.7951,
          15.0986,
          15.1752,
          15.1399,
          15.1654,
          14.9935,
          14.9277,
          14.9857,
          15.1939,
          15.0828,
          14.968,
          15.0731,
          15.2293,
          15.0181,
          14.7254,
          14.9101,
          14.7186,
          14.5722,
          14.5025,
          14.2265,
          14.2786,
          14.3473,
          14.3984,
          14.2619,
          14.4063,
          14.3984,
          14.3896,
          14.4504,
          14.2786,
          14.0459,
          14.2265,
          14.2355,
          14.1568,
          14.1735,
          14.1637,
          14.0547,
          13.9752,
          14.087,
          14.1391,
          13.9005,
          13.7769,
          13.7769,
          13.4332,
          13.4165,
          13.4596,
          13.5283,
          13.5382,
          13.3899,
          13.4332,
          13.4509,
          13.5283,
          13.4685,
          13.5196,
          13.6766,
          13.5804,
          13.5097,
          13.4596,
          13.3644,
          13.3821,
          13.2524,
          13.2887,
          13.281,
          13.3487,
          13.281,
          13.3301,
          13.2524,
          13.4596,
          13.547,
          13.6138,
          13.5097,
          13.7463,
          13.7856,
          13.8387,
          13.875,
          13.8484,
          13.82,
          13.7091,
          13.8103,
          14.0547,
          14.1313,
          13.7091,
          13.7463,
          13.7533,
          13.5568,
          13.548,
          14.096,
          14.0537,
          13.9654,
          14.0115,
          13.8584,
          13.9153,
          14.2069,
          14.1893,
          14.3543,
          14.0861,
          14.0203,
          14.2158,
          14.038,
          13.9919,
          13.7189,
          13.5568,
          13.3998,
          13.1081,
          13.0747,
          13.1444,
          13.495,
          13.3505,
          13.495,
          13.7689,
          13.3505,
          13.1169,
          13.3831,
          13.0147,
          13.3831,
          13.7376,
          14.4407,
          14.6116,
          14.9238,
          14.7314,
          14.7147,
          14.9553,
          15.2734,
          15.4452
         ]
        },
        {
         "line": {
          "color": "rgba(55, 128, 191, 1.0)",
          "dash": "solid",
          "shape": "linear",
          "width": 1.3
         },
         "mode": "lines",
         "name": "High",
         "text": "",
         "type": "scatter",
         "x": [
          "2015-12-31",
          "2015-12-30",
          "2015-12-29",
          "2015-12-28",
          "2015-12-24",
          "2015-12-23",
          "2015-12-22",
          "2015-12-21",
          "2015-12-18",
          "2015-12-17",
          "2015-12-16",
          "2015-12-15",
          "2015-12-14",
          "2015-12-11",
          "2015-12-10",
          "2015-12-09",
          "2015-12-08",
          "2015-12-07",
          "2015-12-04",
          "2015-12-03",
          "2015-12-02",
          "2015-12-01",
          "2015-11-30",
          "2015-11-27",
          "2015-11-25",
          "2015-11-24",
          "2015-11-23",
          "2015-11-20",
          "2015-11-19",
          "2015-11-18",
          "2015-11-17",
          "2015-11-16",
          "2015-11-13",
          "2015-11-12",
          "2015-11-11",
          "2015-11-10",
          "2015-11-09",
          "2015-11-06",
          "2015-11-05",
          "2015-11-04",
          "2015-11-03",
          "2015-11-02",
          "2015-10-30",
          "2015-10-29",
          "2015-10-28",
          "2015-10-27",
          "2015-10-26",
          "2015-10-23",
          "2015-10-22",
          "2015-10-21",
          "2015-10-20",
          "2015-10-19",
          "2015-10-16",
          "2015-10-15",
          "2015-10-14",
          "2015-10-13",
          "2015-10-12",
          "2015-10-09",
          "2015-10-08",
          "2015-10-07",
          "2015-10-06",
          "2015-10-05",
          "2015-10-02",
          "2015-10-01",
          "2015-09-30",
          "2015-09-29",
          "2015-09-28",
          "2015-09-25",
          "2015-09-24",
          "2015-09-23",
          "2015-09-22",
          "2015-09-21",
          "2015-09-18",
          "2015-09-17",
          "2015-09-16",
          "2015-09-15",
          "2015-09-14",
          "2015-09-11",
          "2015-09-10",
          "2015-09-09",
          "2015-09-08",
          "2015-09-04",
          "2015-09-03",
          "2015-09-02",
          "2015-09-01",
          "2015-08-31",
          "2015-08-28",
          "2015-08-27",
          "2015-08-26",
          "2015-08-25",
          "2015-08-24",
          "2015-08-21",
          "2015-08-20",
          "2015-08-19",
          "2015-08-18",
          "2015-08-17",
          "2015-08-14",
          "2015-08-13",
          "2015-08-12",
          "2015-08-11",
          "2015-08-10",
          "2015-08-07",
          "2015-08-06",
          "2015-08-05",
          "2015-08-04",
          "2015-08-03",
          "2015-07-31",
          "2015-07-30",
          "2015-07-29",
          "2015-07-28",
          "2015-07-27",
          "2015-07-24",
          "2015-07-23",
          "2015-07-22",
          "2015-07-21",
          "2015-07-20",
          "2015-07-17",
          "2015-07-16",
          "2015-07-15",
          "2015-07-14",
          "2015-07-13",
          "2015-07-10",
          "2015-07-09",
          "2015-07-08",
          "2015-07-07",
          "2015-07-06",
          "2015-07-02",
          "2015-07-01",
          "2015-06-30",
          "2015-06-29",
          "2015-06-26",
          "2015-06-25",
          "2015-06-24",
          "2015-06-23",
          "2015-06-22",
          "2015-06-19",
          "2015-06-18",
          "2015-06-17",
          "2015-06-16",
          "2015-06-15",
          "2015-06-12",
          "2015-06-11",
          "2015-06-10",
          "2015-06-09",
          "2015-06-08",
          "2015-06-05",
          "2015-06-04",
          "2015-06-03",
          "2015-06-02",
          "2015-06-01",
          "2015-05-29",
          "2015-05-28",
          "2015-05-27",
          "2015-05-26",
          "2015-05-22",
          "2015-05-21",
          "2015-05-20",
          "2015-05-19",
          "2015-05-18",
          "2015-05-15",
          "2015-05-14",
          "2015-05-13",
          "2015-05-12",
          "2015-05-11",
          "2015-05-08",
          "2015-05-07",
          "2015-05-06",
          "2015-05-05",
          "2015-05-04",
          "2015-05-01",
          "2015-04-30",
          "2015-04-29",
          "2015-04-28",
          "2015-04-27",
          "2015-04-24",
          "2015-04-23",
          "2015-04-22",
          "2015-04-21",
          "2015-04-20",
          "2015-04-17",
          "2015-04-16",
          "2015-04-15",
          "2015-04-14",
          "2015-04-13",
          "2015-04-10",
          "2015-04-09",
          "2015-04-08",
          "2015-04-07",
          "2015-04-06",
          "2015-04-02",
          "2015-04-01",
          "2015-03-31",
          "2015-03-30",
          "2015-03-27",
          "2015-03-26",
          "2015-03-25",
          "2015-03-24",
          "2015-03-23",
          "2015-03-20",
          "2015-03-19",
          "2015-03-18",
          "2015-03-17",
          "2015-03-16",
          "2015-03-13",
          "2015-03-12",
          "2015-03-11",
          "2015-03-10",
          "2015-03-09",
          "2015-03-06",
          "2015-03-05",
          "2015-03-04",
          "2015-03-03",
          "2015-03-02",
          "2015-02-27",
          "2015-02-26",
          "2015-02-25",
          "2015-02-24",
          "2015-02-23",
          "2015-02-20",
          "2015-02-19",
          "2015-02-18",
          "2015-02-17",
          "2015-02-13",
          "2015-02-12",
          "2015-02-11",
          "2015-02-10",
          "2015-02-09",
          "2015-02-06",
          "2015-02-05",
          "2015-02-04",
          "2015-02-03",
          "2015-02-02",
          "2015-01-30",
          "2015-01-29",
          "2015-01-28",
          "2015-01-27",
          "2015-01-26",
          "2015-01-23",
          "2015-01-22",
          "2015-01-21",
          "2015-01-20",
          "2015-01-16",
          "2015-01-15",
          "2015-01-14",
          "2015-01-13",
          "2015-01-12",
          "2015-01-09",
          "2015-01-08",
          "2015-01-07",
          "2015-01-06",
          "2015-01-05",
          "2015-01-02"
         ],
         "y": [
          14.8325,
          14.9807,
          15.078,
          14.972,
          15.1035,
          15.0681,
          14.8659,
          14.7981,
          14.9984,
          15.4933,
          15.4512,
          15.1988,
          14.6763,
          14.8255,
          15.1271,
          15.1035,
          15.1703,
          15.4679,
          15.4933,
          15.4423,
          15.5454,
          15.4335,
          15.236,
          15.1625,
          15.2283,
          15.2283,
          15.3638,
          15.4512,
          15.4679,
          15.4836,
          15.2518,
          15.1281,
          14.9984,
          15.2774,
          15.5877,
          15.5454,
          15.6662,
          15.6741,
          15.0505,
          14.9984,
          14.9563,
          14.8502,
          14.8865,
          15.1115,
          14.9984,
          14.2718,
          14.3406,
          14.3406,
          14.04,
          14.1137,
          14.1137,
          14.0469,
          14.1137,
          14.1067,
          13.7926,
          13.5067,
          13.5353,
          13.7082,
          13.6748,
          13.8023,
          13.7082,
          13.6815,
          13.3271,
          13.553,
          13.5166,
          13.4566,
          13.7082,
          13.8828,
          13.5353,
          13.7376,
          13.4999,
          13.6462,
          13.6128,
          14.2816,
          14.2011,
          14.2011,
          13.9231,
          13.9162,
          13.9585,
          14.2639,
          14.0036,
          13.7453,
          14.0302,
          13.7453,
          13.8651,
          14.1382,
          14.1991,
          14.2078,
          13.8731,
          14.0016,
          13.8013,
          14.3896,
          14.8552,
          15.2783,
          15.4619,
          15.3834,
          15.2852,
          15.2783,
          15.247,
          15.5228,
          15.5897,
          15.6074,
          15.5317,
          15.5897,
          15.4856,
          15.5228,
          15.5984,
          15.7988,
          15.7202,
          15.4532,
          15.3568,
          15.7457,
          15.9206,
          15.9628,
          15.6937,
          15.7457,
          15.6839,
          15.6074,
          15.4188,
          14.8138,
          14.7254,
          14.5468,
          14.4427,
          14.2541,
          14.6233,
          14.692,
          14.8639,
          14.9513,
          14.7951,
          14.9003,
          15.131,
          15.2213,
          15.2783,
          15.3039,
          15.1399,
          15.0181,
          15.0269,
          15.1939,
          15.1654,
          15.1153,
          15.185,
          15.2714,
          15.2213,
          14.9857,
          14.968,
          14.9857,
          14.6656,
          14.7019,
          14.4327,
          14.3286,
          14.3563,
          14.4063,
          14.425,
          14.4063,
          14.4661,
          14.425,
          14.5104,
          14.4504,
          14.2452,
          14.2265,
          14.2875,
          14.2265,
          14.1912,
          14.2875,
          14.1735,
          14.0636,
          14.2001,
          14.3032,
          14.1637,
          13.9084,
          13.82,
          13.8103,
          13.5283,
          13.5717,
          13.5647,
          13.606,
          13.6315,
          13.4685,
          13.5097,
          13.5647,
          13.7286,
          13.6481,
          13.7376,
          13.6571,
          13.5981,
          13.5717,
          13.5558,
          13.4763,
          13.4332,
          13.4509,
          13.3144,
          13.3644,
          13.4419,
          13.3388,
          13.3821,
          13.4763,
          13.606,
          13.6766,
          13.7189,
          13.7533,
          13.8671,
          13.8828,
          13.9654,
          13.9084,
          13.9585,
          13.9162,
          13.8907,
          14.0636,
          14.3129,
          13.8023,
          13.7611,
          13.8671,
          13.7611,
          13.6315,
          14.1117,
          14.1627,
          14.2069,
          14.0115,
          14.1047,
          14.0636,
          14.2158,
          14.3179,
          14.4131,
          14.362,
          14.1214,
          14.2678,
          14.1627,
          14.3787,
          13.8103,
          13.7376,
          13.6766,
          13.2995,
          13.2828,
          13.2995,
          13.5029,
          13.5568,
          13.6766,
          13.9005,
          13.9005,
          13.3654,
          13.4175,
          13.218,
          13.5293,
          13.9221,
          14.4995,
          14.6213,
          14.9238,
          14.8855,
          14.7471,
          14.971,
          15.2862,
          15.4766
         ]
        },
        {
         "line": {
          "color": "rgba(50, 171, 96, 1.0)",
          "dash": "solid",
          "shape": "linear",
          "width": 1.3
         },
         "mode": "lines",
         "name": "Low",
         "text": "",
         "type": "scatter",
         "x": [
          "2015-12-31",
          "2015-12-30",
          "2015-12-29",
          "2015-12-28",
          "2015-12-24",
          "2015-12-23",
          "2015-12-22",
          "2015-12-21",
          "2015-12-18",
          "2015-12-17",
          "2015-12-16",
          "2015-12-15",
          "2015-12-14",
          "2015-12-11",
          "2015-12-10",
          "2015-12-09",
          "2015-12-08",
          "2015-12-07",
          "2015-12-04",
          "2015-12-03",
          "2015-12-02",
          "2015-12-01",
          "2015-11-30",
          "2015-11-27",
          "2015-11-25",
          "2015-11-24",
          "2015-11-23",
          "2015-11-20",
          "2015-11-19",
          "2015-11-18",
          "2015-11-17",
          "2015-11-16",
          "2015-11-13",
          "2015-11-12",
          "2015-11-11",
          "2015-11-10",
          "2015-11-09",
          "2015-11-06",
          "2015-11-05",
          "2015-11-04",
          "2015-11-03",
          "2015-11-02",
          "2015-10-30",
          "2015-10-29",
          "2015-10-28",
          "2015-10-27",
          "2015-10-26",
          "2015-10-23",
          "2015-10-22",
          "2015-10-21",
          "2015-10-20",
          "2015-10-19",
          "2015-10-16",
          "2015-10-15",
          "2015-10-14",
          "2015-10-13",
          "2015-10-12",
          "2015-10-09",
          "2015-10-08",
          "2015-10-07",
          "2015-10-06",
          "2015-10-05",
          "2015-10-02",
          "2015-10-01",
          "2015-09-30",
          "2015-09-29",
          "2015-09-28",
          "2015-09-25",
          "2015-09-24",
          "2015-09-23",
          "2015-09-22",
          "2015-09-21",
          "2015-09-18",
          "2015-09-17",
          "2015-09-16",
          "2015-09-15",
          "2015-09-14",
          "2015-09-11",
          "2015-09-10",
          "2015-09-09",
          "2015-09-08",
          "2015-09-04",
          "2015-09-03",
          "2015-09-02",
          "2015-09-01",
          "2015-08-31",
          "2015-08-28",
          "2015-08-27",
          "2015-08-26",
          "2015-08-25",
          "2015-08-24",
          "2015-08-21",
          "2015-08-20",
          "2015-08-19",
          "2015-08-18",
          "2015-08-17",
          "2015-08-14",
          "2015-08-13",
          "2015-08-12",
          "2015-08-11",
          "2015-08-10",
          "2015-08-07",
          "2015-08-06",
          "2015-08-05",
          "2015-08-04",
          "2015-08-03",
          "2015-07-31",
          "2015-07-30",
          "2015-07-29",
          "2015-07-28",
          "2015-07-27",
          "2015-07-24",
          "2015-07-23",
          "2015-07-22",
          "2015-07-21",
          "2015-07-20",
          "2015-07-17",
          "2015-07-16",
          "2015-07-15",
          "2015-07-14",
          "2015-07-13",
          "2015-07-10",
          "2015-07-09",
          "2015-07-08",
          "2015-07-07",
          "2015-07-06",
          "2015-07-02",
          "2015-07-01",
          "2015-06-30",
          "2015-06-29",
          "2015-06-26",
          "2015-06-25",
          "2015-06-24",
          "2015-06-23",
          "2015-06-22",
          "2015-06-19",
          "2015-06-18",
          "2015-06-17",
          "2015-06-16",
          "2015-06-15",
          "2015-06-12",
          "2015-06-11",
          "2015-06-10",
          "2015-06-09",
          "2015-06-08",
          "2015-06-05",
          "2015-06-04",
          "2015-06-03",
          "2015-06-02",
          "2015-06-01",
          "2015-05-29",
          "2015-05-28",
          "2015-05-27",
          "2015-05-26",
          "2015-05-22",
          "2015-05-21",
          "2015-05-20",
          "2015-05-19",
          "2015-05-18",
          "2015-05-15",
          "2015-05-14",
          "2015-05-13",
          "2015-05-12",
          "2015-05-11",
          "2015-05-08",
          "2015-05-07",
          "2015-05-06",
          "2015-05-05",
          "2015-05-04",
          "2015-05-01",
          "2015-04-30",
          "2015-04-29",
          "2015-04-28",
          "2015-04-27",
          "2015-04-24",
          "2015-04-23",
          "2015-04-22",
          "2015-04-21",
          "2015-04-20",
          "2015-04-17",
          "2015-04-16",
          "2015-04-15",
          "2015-04-14",
          "2015-04-13",
          "2015-04-10",
          "2015-04-09",
          "2015-04-08",
          "2015-04-07",
          "2015-04-06",
          "2015-04-02",
          "2015-04-01",
          "2015-03-31",
          "2015-03-30",
          "2015-03-27",
          "2015-03-26",
          "2015-03-25",
          "2015-03-24",
          "2015-03-23",
          "2015-03-20",
          "2015-03-19",
          "2015-03-18",
          "2015-03-17",
          "2015-03-16",
          "2015-03-13",
          "2015-03-12",
          "2015-03-11",
          "2015-03-10",
          "2015-03-09",
          "2015-03-06",
          "2015-03-05",
          "2015-03-04",
          "2015-03-03",
          "2015-03-02",
          "2015-02-27",
          "2015-02-26",
          "2015-02-25",
          "2015-02-24",
          "2015-02-23",
          "2015-02-20",
          "2015-02-19",
          "2015-02-18",
          "2015-02-17",
          "2015-02-13",
          "2015-02-12",
          "2015-02-11",
          "2015-02-10",
          "2015-02-09",
          "2015-02-06",
          "2015-02-05",
          "2015-02-04",
          "2015-02-03",
          "2015-02-02",
          "2015-01-30",
          "2015-01-29",
          "2015-01-28",
          "2015-01-27",
          "2015-01-26",
          "2015-01-23",
          "2015-01-22",
          "2015-01-21",
          "2015-01-20",
          "2015-01-16",
          "2015-01-15",
          "2015-01-14",
          "2015-01-13",
          "2015-01-12",
          "2015-01-09",
          "2015-01-08",
          "2015-01-07",
          "2015-01-06",
          "2015-01-05",
          "2015-01-02"
         ],
         "y": [
          14.6233,
          14.807,
          14.913,
          14.7539,
          14.963,
          14.857,
          14.642,
          14.5722,
          14.5645,
          15.0318,
          14.972,
          14.7628,
          14.3366,
          14.4574,
          14.7372,
          14.6577,
          14.8846,
          15.1526,
          15.1035,
          14.9897,
          15.2518,
          15.1458,
          15.0957,
          15.0141,
          15.0888,
          14.9483,
          15.1281,
          15.245,
          15.2695,
          15.1045,
          15.023,
          14.7391,
          14.8089,
          15.0328,
          15.3176,
          15.2184,
          15.2184,
          15.3893,
          14.7558,
          14.697,
          14.7215,
          14.6193,
          14.5222,
          14.7057,
          14.257,
          14.1234,
          14.1578,
          14.0803,
          13.8671,
          13.7759,
          13.9497,
          13.8474,
          13.8907,
          13.6207,
          13.4743,
          13.3448,
          13.3702,
          13.4302,
          13.4399,
          13.491,
          13.491,
          13.3791,
          12.678,
          13.3104,
          13.276,
          13.2131,
          13.3271,
          13.7002,
          13.3448,
          13.4999,
          13.3869,
          13.491,
          13.4302,
          13.6748,
          13.9398,
          13.875,
          13.7759,
          13.7759,
          13.7002,
          13.7179,
          13.7759,
          13.4302,
          13.7523,
          13.491,
          13.3535,
          13.9742,
          13.9919,
          13.8985,
          13.2484,
          13.1729,
          12.6102,
          13.9074,
          14.4427,
          15.0633,
          15.247,
          15.1654,
          15.1477,
          15.0633,
          14.7019,
          15.3039,
          15.4276,
          15.2036,
          15.3481,
          15.3735,
          15.294,
          15.239,
          15.4276,
          15.5897,
          15.4766,
          15.2036,
          15.1153,
          15.4089,
          15.6151,
          15.573,
          15.565,
          15.6151,
          15.4532,
          15.4276,
          15.1075,
          14.5635,
          14.5969,
          14.3896,
          14.2078,
          14.0115,
          14.1117,
          14.4327,
          14.5879,
          14.7608,
          14.5565,
          14.5635,
          14.9857,
          14.9857,
          15.0731,
          15.1654,
          14.9857,
          14.7864,
          14.8718,
          14.9435,
          15.0024,
          14.9003,
          14.9935,
          15.0633,
          14.9935,
          14.6833,
          14.7254,
          14.6567,
          14.4427,
          14.4564,
          14.2088,
          14.1814,
          14.1814,
          14.2786,
          14.2452,
          14.148,
          14.3896,
          14.2619,
          14.3199,
          14.2786,
          14.0459,
          14.039,
          14.1637,
          14.087,
          14.0793,
          14.148,
          13.9654,
          13.8584,
          13.8484,
          14.0636,
          13.8828,
          13.7091,
          13.5981,
          13.4075,
          13.3487,
          13.3988,
          13.4419,
          13.5019,
          13.3388,
          13.2887,
          13.3988,
          13.3487,
          13.4165,
          13.4262,
          13.5283,
          13.5558,
          13.4332,
          13.3742,
          13.3487,
          13.3064,
          13.2093,
          13.2887,
          13.1326,
          13.2426,
          13.2613,
          13.1512,
          13.1425,
          13.2613,
          13.4419,
          13.5382,
          13.4685,
          13.4419,
          13.7012,
          13.7463,
          13.6481,
          13.7286,
          13.6924,
          13.6668,
          13.5981,
          13.8828,
          13.9162,
          13.5647,
          13.5717,
          13.7012,
          13.495,
          13.4085,
          13.6481,
          14.0115,
          13.9488,
          13.82,
          13.7463,
          13.8023,
          13.9388,
          14.0537,
          14.1981,
          14.0537,
          13.9153,
          14.038,
          13.9488,
          13.9221,
          13.6481,
          13.5206,
          13.3998,
          12.9804,
          13.005,
          13.0501,
          13.0324,
          13.2907,
          13.4763,
          13.5029,
          13.2446,
          13.005,
          13.0501,
          12.8498,
          13.005,
          13.5391,
          14.0115,
          14.3022,
          14.5526,
          14.6793,
          14.4809,
          14.4043,
          14.8413,
          15.1772
         ]
        },
        {
         "line": {
          "color": "rgba(128, 0, 128, 1.0)",
          "dash": "solid",
          "shape": "linear",
          "width": 1.3
         },
         "mode": "lines",
         "name": "Close",
         "text": "",
         "type": "scatter",
         "x": [
          "2015-12-31",
          "2015-12-30",
          "2015-12-29",
          "2015-12-28",
          "2015-12-24",
          "2015-12-23",
          "2015-12-22",
          "2015-12-21",
          "2015-12-18",
          "2015-12-17",
          "2015-12-16",
          "2015-12-15",
          "2015-12-14",
          "2015-12-11",
          "2015-12-10",
          "2015-12-09",
          "2015-12-08",
          "2015-12-07",
          "2015-12-04",
          "2015-12-03",
          "2015-12-02",
          "2015-12-01",
          "2015-11-30",
          "2015-11-27",
          "2015-11-25",
          "2015-11-24",
          "2015-11-23",
          "2015-11-20",
          "2015-11-19",
          "2015-11-18",
          "2015-11-17",
          "2015-11-16",
          "2015-11-13",
          "2015-11-12",
          "2015-11-11",
          "2015-11-10",
          "2015-11-09",
          "2015-11-06",
          "2015-11-05",
          "2015-11-04",
          "2015-11-03",
          "2015-11-02",
          "2015-10-30",
          "2015-10-29",
          "2015-10-28",
          "2015-10-27",
          "2015-10-26",
          "2015-10-23",
          "2015-10-22",
          "2015-10-21",
          "2015-10-20",
          "2015-10-19",
          "2015-10-16",
          "2015-10-15",
          "2015-10-14",
          "2015-10-13",
          "2015-10-12",
          "2015-10-09",
          "2015-10-08",
          "2015-10-07",
          "2015-10-06",
          "2015-10-05",
          "2015-10-02",
          "2015-10-01",
          "2015-09-30",
          "2015-09-29",
          "2015-09-28",
          "2015-09-25",
          "2015-09-24",
          "2015-09-23",
          "2015-09-22",
          "2015-09-21",
          "2015-09-18",
          "2015-09-17",
          "2015-09-16",
          "2015-09-15",
          "2015-09-14",
          "2015-09-11",
          "2015-09-10",
          "2015-09-09",
          "2015-09-08",
          "2015-09-04",
          "2015-09-03",
          "2015-09-02",
          "2015-09-01",
          "2015-08-31",
          "2015-08-28",
          "2015-08-27",
          "2015-08-26",
          "2015-08-25",
          "2015-08-24",
          "2015-08-21",
          "2015-08-20",
          "2015-08-19",
          "2015-08-18",
          "2015-08-17",
          "2015-08-14",
          "2015-08-13",
          "2015-08-12",
          "2015-08-11",
          "2015-08-10",
          "2015-08-07",
          "2015-08-06",
          "2015-08-05",
          "2015-08-04",
          "2015-08-03",
          "2015-07-31",
          "2015-07-30",
          "2015-07-29",
          "2015-07-28",
          "2015-07-27",
          "2015-07-24",
          "2015-07-23",
          "2015-07-22",
          "2015-07-21",
          "2015-07-20",
          "2015-07-17",
          "2015-07-16",
          "2015-07-15",
          "2015-07-14",
          "2015-07-13",
          "2015-07-10",
          "2015-07-09",
          "2015-07-08",
          "2015-07-07",
          "2015-07-06",
          "2015-07-02",
          "2015-07-01",
          "2015-06-30",
          "2015-06-29",
          "2015-06-26",
          "2015-06-25",
          "2015-06-24",
          "2015-06-23",
          "2015-06-22",
          "2015-06-19",
          "2015-06-18",
          "2015-06-17",
          "2015-06-16",
          "2015-06-15",
          "2015-06-12",
          "2015-06-11",
          "2015-06-10",
          "2015-06-09",
          "2015-06-08",
          "2015-06-05",
          "2015-06-04",
          "2015-06-03",
          "2015-06-02",
          "2015-06-01",
          "2015-05-29",
          "2015-05-28",
          "2015-05-27",
          "2015-05-26",
          "2015-05-22",
          "2015-05-21",
          "2015-05-20",
          "2015-05-19",
          "2015-05-18",
          "2015-05-15",
          "2015-05-14",
          "2015-05-13",
          "2015-05-12",
          "2015-05-11",
          "2015-05-08",
          "2015-05-07",
          "2015-05-06",
          "2015-05-05",
          "2015-05-04",
          "2015-05-01",
          "2015-04-30",
          "2015-04-29",
          "2015-04-28",
          "2015-04-27",
          "2015-04-24",
          "2015-04-23",
          "2015-04-22",
          "2015-04-21",
          "2015-04-20",
          "2015-04-17",
          "2015-04-16",
          "2015-04-15",
          "2015-04-14",
          "2015-04-13",
          "2015-04-10",
          "2015-04-09",
          "2015-04-08",
          "2015-04-07",
          "2015-04-06",
          "2015-04-02",
          "2015-04-01",
          "2015-03-31",
          "2015-03-30",
          "2015-03-27",
          "2015-03-26",
          "2015-03-25",
          "2015-03-24",
          "2015-03-23",
          "2015-03-20",
          "2015-03-19",
          "2015-03-18",
          "2015-03-17",
          "2015-03-16",
          "2015-03-13",
          "2015-03-12",
          "2015-03-11",
          "2015-03-10",
          "2015-03-09",
          "2015-03-06",
          "2015-03-05",
          "2015-03-04",
          "2015-03-03",
          "2015-03-02",
          "2015-02-27",
          "2015-02-26",
          "2015-02-25",
          "2015-02-24",
          "2015-02-23",
          "2015-02-20",
          "2015-02-19",
          "2015-02-18",
          "2015-02-17",
          "2015-02-13",
          "2015-02-12",
          "2015-02-11",
          "2015-02-10",
          "2015-02-09",
          "2015-02-06",
          "2015-02-05",
          "2015-02-04",
          "2015-02-03",
          "2015-02-02",
          "2015-01-30",
          "2015-01-29",
          "2015-01-28",
          "2015-01-27",
          "2015-01-26",
          "2015-01-23",
          "2015-01-22",
          "2015-01-21",
          "2015-01-20",
          "2015-01-16",
          "2015-01-15",
          "2015-01-14",
          "2015-01-13",
          "2015-01-12",
          "2015-01-09",
          "2015-01-08",
          "2015-01-07",
          "2015-01-06",
          "2015-01-05",
          "2015-01-02"
         ],
         "y": [
          14.6233,
          14.8168,
          15.0131,
          14.8846,
          15.0063,
          15.0681,
          14.8403,
          14.7461,
          14.5645,
          15.0318,
          15.4246,
          15.1349,
          14.5969,
          14.5379,
          14.9473,
          14.857,
          14.9386,
          15.244,
          15.4679,
          15.0318,
          15.3078,
          15.4335,
          15.1045,
          15.1458,
          15.1115,
          15.1359,
          15.1359,
          15.2911,
          15.3274,
          15.4599,
          15.0957,
          15.1045,
          14.9052,
          15.0505,
          15.3805,
          15.4679,
          15.3176,
          15.5533,
          14.9984,
          14.7391,
          14.8865,
          14.7834,
          14.5408,
          14.8089,
          14.973,
          14.2108,
          14.3062,
          14.3149,
          14.0036,
          13.7759,
          14.04,
          13.9859,
          13.9663,
          14.0302,
          13.553,
          13.4479,
          13.4479,
          13.4999,
          13.6462,
          13.6462,
          13.5971,
          13.5971,
          13.3271,
          13.4743,
          13.4999,
          13.3024,
          13.4046,
          13.768,
          13.4743,
          13.6207,
          13.491,
          13.604,
          13.4822,
          13.7453,
          14.15,
          14.1323,
          13.828,
          13.9005,
          13.9005,
          13.7759,
          14.0036,
          13.5617,
          13.8093,
          13.7376,
          13.4566,
          14.1117,
          14.1304,
          14.1991,
          13.8731,
          13.1806,
          13.2053,
          13.9074,
          14.4427,
          15.0828,
          15.2783,
          15.3481,
          15.2852,
          15.2213,
          15.131,
          15.3658,
          15.5817,
          15.3294,
          15.3834,
          15.4365,
          15.3735,
          15.3481,
          15.4452,
          15.6593,
          15.6839,
          15.4452,
          15.2636,
          15.4619,
          15.7025,
          15.9363,
          15.6151,
          15.6505,
          15.6318,
          15.5042,
          15.2714,
          14.7951,
          14.7019,
          14.425,
          14.2345,
          14.038,
          14.4151,
          14.6312,
          14.7097,
          14.8718,
          14.7019,
          14.5879,
          15.0358,
          15.0024,
          15.1075,
          15.2636,
          15.0918,
          14.8315,
          15.0092,
          15.0024,
          15.1566,
          15.0918,
          15.1075,
          15.1075,
          15.1939,
          14.9513,
          14.751,
          14.8452,
          14.4928,
          14.6233,
          14.3984,
          14.2551,
          14.2088,
          14.3563,
          14.4151,
          14.2088,
          14.425,
          14.4063,
          14.4151,
          14.4427,
          14.2178,
          14.0793,
          14.2265,
          14.1814,
          14.148,
          14.2001,
          14.1637,
          13.9849,
          14.0292,
          14.0793,
          14.1568,
          13.875,
          13.7189,
          13.7611,
          13.4763,
          13.3988,
          13.4685,
          13.5097,
          13.5558,
          13.3487,
          13.4075,
          13.3988,
          13.5981,
          13.4685,
          13.6227,
          13.606,
          13.5382,
          13.5283,
          13.4419,
          13.3144,
          13.3565,
          13.3821,
          13.271,
          13.2524,
          13.3644,
          13.1826,
          13.281,
          13.271,
          13.4419,
          13.5382,
          13.6394,
          13.4419,
          13.7611,
          13.8584,
          13.8907,
          13.8584,
          13.829,
          13.8053,
          13.5981,
          13.9231,
          13.9654,
          13.7769,
          13.6394,
          13.7689,
          13.7463,
          13.5726,
          13.7689,
          14.1558,
          14.0636,
          13.9084,
          14.0636,
          13.9153,
          13.9919,
          14.2766,
          14.2599,
          14.311,
          14.0449,
          14.096,
          14.038,
          14.1558,
          13.7091,
          13.5568,
          13.6394,
          13.273,
          13.005,
          13.2446,
          13.0501,
          13.4175,
          13.6069,
          13.5029,
          13.8103,
          13.2279,
          13.0992,
          13.2013,
          13.0501,
          13.7689,
          14.1214,
          14.3179,
          14.5772,
          14.8413,
          14.5438,
          14.4711,
          14.9238,
          15.3668
         ]
        }
       ],
       "layout": {
        "legend": {
         "bgcolor": "#F5F6F9",
         "font": {
          "color": "#4D5663"
         }
        },
        "paper_bgcolor": "#F5F6F9",
        "plot_bgcolor": "#F5F6F9",
        "template": {
         "data": {
          "bar": [
           {
            "error_x": {
             "color": "#2a3f5f"
            },
            "error_y": {
             "color": "#2a3f5f"
            },
            "marker": {
             "line": {
              "color": "#E5ECF6",
              "width": 0.5
             },
             "pattern": {
              "fillmode": "overlay",
              "size": 10,
              "solidity": 0.2
             }
            },
            "type": "bar"
           }
          ],
          "barpolar": [
           {
            "marker": {
             "line": {
              "color": "#E5ECF6",
              "width": 0.5
             },
             "pattern": {
              "fillmode": "overlay",
              "size": 10,
              "solidity": 0.2
             }
            },
            "type": "barpolar"
           }
          ],
          "carpet": [
           {
            "aaxis": {
             "endlinecolor": "#2a3f5f",
             "gridcolor": "white",
             "linecolor": "white",
             "minorgridcolor": "white",
             "startlinecolor": "#2a3f5f"
            },
            "baxis": {
             "endlinecolor": "#2a3f5f",
             "gridcolor": "white",
             "linecolor": "white",
             "minorgridcolor": "white",
             "startlinecolor": "#2a3f5f"
            },
            "type": "carpet"
           }
          ],
          "choropleth": [
           {
            "colorbar": {
             "outlinewidth": 0,
             "ticks": ""
            },
            "type": "choropleth"
           }
          ],
          "contour": [
           {
            "colorbar": {
             "outlinewidth": 0,
             "ticks": ""
            },
            "colorscale": [
             [
              0,
              "#0d0887"
             ],
             [
              0.1111111111111111,
              "#46039f"
             ],
             [
              0.2222222222222222,
              "#7201a8"
             ],
             [
              0.3333333333333333,
              "#9c179e"
             ],
             [
              0.4444444444444444,
              "#bd3786"
             ],
             [
              0.5555555555555556,
              "#d8576b"
             ],
             [
              0.6666666666666666,
              "#ed7953"
             ],
             [
              0.7777777777777778,
              "#fb9f3a"
             ],
             [
              0.8888888888888888,
              "#fdca26"
             ],
             [
              1,
              "#f0f921"
             ]
            ],
            "type": "contour"
           }
          ],
          "contourcarpet": [
           {
            "colorbar": {
             "outlinewidth": 0,
             "ticks": ""
            },
            "type": "contourcarpet"
           }
          ],
          "heatmap": [
           {
            "colorbar": {
             "outlinewidth": 0,
             "ticks": ""
            },
            "colorscale": [
             [
              0,
              "#0d0887"
             ],
             [
              0.1111111111111111,
              "#46039f"
             ],
             [
              0.2222222222222222,
              "#7201a8"
             ],
             [
              0.3333333333333333,
              "#9c179e"
             ],
             [
              0.4444444444444444,
              "#bd3786"
             ],
             [
              0.5555555555555556,
              "#d8576b"
             ],
             [
              0.6666666666666666,
              "#ed7953"
             ],
             [
              0.7777777777777778,
              "#fb9f3a"
             ],
             [
              0.8888888888888888,
              "#fdca26"
             ],
             [
              1,
              "#f0f921"
             ]
            ],
            "type": "heatmap"
           }
          ],
          "heatmapgl": [
           {
            "colorbar": {
             "outlinewidth": 0,
             "ticks": ""
            },
            "colorscale": [
             [
              0,
              "#0d0887"
             ],
             [
              0.1111111111111111,
              "#46039f"
             ],
             [
              0.2222222222222222,
              "#7201a8"
             ],
             [
              0.3333333333333333,
              "#9c179e"
             ],
             [
              0.4444444444444444,
              "#bd3786"
             ],
             [
              0.5555555555555556,
              "#d8576b"
             ],
             [
              0.6666666666666666,
              "#ed7953"
             ],
             [
              0.7777777777777778,
              "#fb9f3a"
             ],
             [
              0.8888888888888888,
              "#fdca26"
             ],
             [
              1,
              "#f0f921"
             ]
            ],
            "type": "heatmapgl"
           }
          ],
          "histogram": [
           {
            "marker": {
             "pattern": {
              "fillmode": "overlay",
              "size": 10,
              "solidity": 0.2
             }
            },
            "type": "histogram"
           }
          ],
          "histogram2d": [
           {
            "colorbar": {
             "outlinewidth": 0,
             "ticks": ""
            },
            "colorscale": [
             [
              0,
              "#0d0887"
             ],
             [
              0.1111111111111111,
              "#46039f"
             ],
             [
              0.2222222222222222,
              "#7201a8"
             ],
             [
              0.3333333333333333,
              "#9c179e"
             ],
             [
              0.4444444444444444,
              "#bd3786"
             ],
             [
              0.5555555555555556,
              "#d8576b"
             ],
             [
              0.6666666666666666,
              "#ed7953"
             ],
             [
              0.7777777777777778,
              "#fb9f3a"
             ],
             [
              0.8888888888888888,
              "#fdca26"
             ],
             [
              1,
              "#f0f921"
             ]
            ],
            "type": "histogram2d"
           }
          ],
          "histogram2dcontour": [
           {
            "colorbar": {
             "outlinewidth": 0,
             "ticks": ""
            },
            "colorscale": [
             [
              0,
              "#0d0887"
             ],
             [
              0.1111111111111111,
              "#46039f"
             ],
             [
              0.2222222222222222,
              "#7201a8"
             ],
             [
              0.3333333333333333,
              "#9c179e"
             ],
             [
              0.4444444444444444,
              "#bd3786"
             ],
             [
              0.5555555555555556,
              "#d8576b"
             ],
             [
              0.6666666666666666,
              "#ed7953"
             ],
             [
              0.7777777777777778,
              "#fb9f3a"
             ],
             [
              0.8888888888888888,
              "#fdca26"
             ],
             [
              1,
              "#f0f921"
             ]
            ],
            "type": "histogram2dcontour"
           }
          ],
          "mesh3d": [
           {
            "colorbar": {
             "outlinewidth": 0,
             "ticks": ""
            },
            "type": "mesh3d"
           }
          ],
          "parcoords": [
           {
            "line": {
             "colorbar": {
              "outlinewidth": 0,
              "ticks": ""
             }
            },
            "type": "parcoords"
           }
          ],
          "pie": [
           {
            "automargin": true,
            "type": "pie"
           }
          ],
          "scatter": [
           {
            "fillpattern": {
             "fillmode": "overlay",
             "size": 10,
             "solidity": 0.2
            },
            "type": "scatter"
           }
          ],
          "scatter3d": [
           {
            "line": {
             "colorbar": {
              "outlinewidth": 0,
              "ticks": ""
             }
            },
            "marker": {
             "colorbar": {
              "outlinewidth": 0,
              "ticks": ""
             }
            },
            "type": "scatter3d"
           }
          ],
          "scattercarpet": [
           {
            "marker": {
             "colorbar": {
              "outlinewidth": 0,
              "ticks": ""
             }
            },
            "type": "scattercarpet"
           }
          ],
          "scattergeo": [
           {
            "marker": {
             "colorbar": {
              "outlinewidth": 0,
              "ticks": ""
             }
            },
            "type": "scattergeo"
           }
          ],
          "scattergl": [
           {
            "marker": {
             "colorbar": {
              "outlinewidth": 0,
              "ticks": ""
             }
            },
            "type": "scattergl"
           }
          ],
          "scattermapbox": [
           {
            "marker": {
             "colorbar": {
              "outlinewidth": 0,
              "ticks": ""
             }
            },
            "type": "scattermapbox"
           }
          ],
          "scatterpolar": [
           {
            "marker": {
             "colorbar": {
              "outlinewidth": 0,
              "ticks": ""
             }
            },
            "type": "scatterpolar"
           }
          ],
          "scatterpolargl": [
           {
            "marker": {
             "colorbar": {
              "outlinewidth": 0,
              "ticks": ""
             }
            },
            "type": "scatterpolargl"
           }
          ],
          "scatterternary": [
           {
            "marker": {
             "colorbar": {
              "outlinewidth": 0,
              "ticks": ""
             }
            },
            "type": "scatterternary"
           }
          ],
          "surface": [
           {
            "colorbar": {
             "outlinewidth": 0,
             "ticks": ""
            },
            "colorscale": [
             [
              0,
              "#0d0887"
             ],
             [
              0.1111111111111111,
              "#46039f"
             ],
             [
              0.2222222222222222,
              "#7201a8"
             ],
             [
              0.3333333333333333,
              "#9c179e"
             ],
             [
              0.4444444444444444,
              "#bd3786"
             ],
             [
              0.5555555555555556,
              "#d8576b"
             ],
             [
              0.6666666666666666,
              "#ed7953"
             ],
             [
              0.7777777777777778,
              "#fb9f3a"
             ],
             [
              0.8888888888888888,
              "#fdca26"
             ],
             [
              1,
              "#f0f921"
             ]
            ],
            "type": "surface"
           }
          ],
          "table": [
           {
            "cells": {
             "fill": {
              "color": "#EBF0F8"
             },
             "line": {
              "color": "white"
             }
            },
            "header": {
             "fill": {
              "color": "#C8D4E3"
             },
             "line": {
              "color": "white"
             }
            },
            "type": "table"
           }
          ]
         },
         "layout": {
          "annotationdefaults": {
           "arrowcolor": "#2a3f5f",
           "arrowhead": 0,
           "arrowwidth": 1
          },
          "autotypenumbers": "strict",
          "coloraxis": {
           "colorbar": {
            "outlinewidth": 0,
            "ticks": ""
           }
          },
          "colorscale": {
           "diverging": [
            [
             0,
             "#8e0152"
            ],
            [
             0.1,
             "#c51b7d"
            ],
            [
             0.2,
             "#de77ae"
            ],
            [
             0.3,
             "#f1b6da"
            ],
            [
             0.4,
             "#fde0ef"
            ],
            [
             0.5,
             "#f7f7f7"
            ],
            [
             0.6,
             "#e6f5d0"
            ],
            [
             0.7,
             "#b8e186"
            ],
            [
             0.8,
             "#7fbc41"
            ],
            [
             0.9,
             "#4d9221"
            ],
            [
             1,
             "#276419"
            ]
           ],
           "sequential": [
            [
             0,
             "#0d0887"
            ],
            [
             0.1111111111111111,
             "#46039f"
            ],
            [
             0.2222222222222222,
             "#7201a8"
            ],
            [
             0.3333333333333333,
             "#9c179e"
            ],
            [
             0.4444444444444444,
             "#bd3786"
            ],
            [
             0.5555555555555556,
             "#d8576b"
            ],
            [
             0.6666666666666666,
             "#ed7953"
            ],
            [
             0.7777777777777778,
             "#fb9f3a"
            ],
            [
             0.8888888888888888,
             "#fdca26"
            ],
            [
             1,
             "#f0f921"
            ]
           ],
           "sequentialminus": [
            [
             0,
             "#0d0887"
            ],
            [
             0.1111111111111111,
             "#46039f"
            ],
            [
             0.2222222222222222,
             "#7201a8"
            ],
            [
             0.3333333333333333,
             "#9c179e"
            ],
            [
             0.4444444444444444,
             "#bd3786"
            ],
            [
             0.5555555555555556,
             "#d8576b"
            ],
            [
             0.6666666666666666,
             "#ed7953"
            ],
            [
             0.7777777777777778,
             "#fb9f3a"
            ],
            [
             0.8888888888888888,
             "#fdca26"
            ],
            [
             1,
             "#f0f921"
            ]
           ]
          },
          "colorway": [
           "#636efa",
           "#EF553B",
           "#00cc96",
           "#ab63fa",
           "#FFA15A",
           "#19d3f3",
           "#FF6692",
           "#B6E880",
           "#FF97FF",
           "#FECB52"
          ],
          "font": {
           "color": "#2a3f5f"
          },
          "geo": {
           "bgcolor": "white",
           "lakecolor": "white",
           "landcolor": "#E5ECF6",
           "showlakes": true,
           "showland": true,
           "subunitcolor": "white"
          },
          "hoverlabel": {
           "align": "left"
          },
          "hovermode": "closest",
          "mapbox": {
           "style": "light"
          },
          "paper_bgcolor": "white",
          "plot_bgcolor": "#E5ECF6",
          "polar": {
           "angularaxis": {
            "gridcolor": "white",
            "linecolor": "white",
            "ticks": ""
           },
           "bgcolor": "#E5ECF6",
           "radialaxis": {
            "gridcolor": "white",
            "linecolor": "white",
            "ticks": ""
           }
          },
          "scene": {
           "xaxis": {
            "backgroundcolor": "#E5ECF6",
            "gridcolor": "white",
            "gridwidth": 2,
            "linecolor": "white",
            "showbackground": true,
            "ticks": "",
            "zerolinecolor": "white"
           },
           "yaxis": {
            "backgroundcolor": "#E5ECF6",
            "gridcolor": "white",
            "gridwidth": 2,
            "linecolor": "white",
            "showbackground": true,
            "ticks": "",
            "zerolinecolor": "white"
           },
           "zaxis": {
            "backgroundcolor": "#E5ECF6",
            "gridcolor": "white",
            "gridwidth": 2,
            "linecolor": "white",
            "showbackground": true,
            "ticks": "",
            "zerolinecolor": "white"
           }
          },
          "shapedefaults": {
           "line": {
            "color": "#2a3f5f"
           }
          },
          "ternary": {
           "aaxis": {
            "gridcolor": "white",
            "linecolor": "white",
            "ticks": ""
           },
           "baxis": {
            "gridcolor": "white",
            "linecolor": "white",
            "ticks": ""
           },
           "bgcolor": "#E5ECF6",
           "caxis": {
            "gridcolor": "white",
            "linecolor": "white",
            "ticks": ""
           }
          },
          "title": {
           "x": 0.05
          },
          "xaxis": {
           "automargin": true,
           "gridcolor": "white",
           "linecolor": "white",
           "ticks": "",
           "title": {
            "standoff": 15
           },
           "zerolinecolor": "white",
           "zerolinewidth": 2
          },
          "yaxis": {
           "automargin": true,
           "gridcolor": "white",
           "linecolor": "white",
           "ticks": "",
           "title": {
            "standoff": 15
           },
           "zerolinecolor": "white",
           "zerolinewidth": 2
          }
         }
        },
        "title": {
         "font": {
          "color": "#4D5663"
         }
        },
        "xaxis": {
         "gridcolor": "#E1E5ED",
         "showgrid": true,
         "tickfont": {
          "color": "#4D5663"
         },
         "title": {
          "font": {
           "color": "#4D5663"
          },
          "text": ""
         },
         "zerolinecolor": "#E1E5ED"
        },
        "yaxis": {
         "gridcolor": "#E1E5ED",
         "showgrid": true,
         "tickfont": {
          "color": "#4D5663"
         },
         "title": {
          "font": {
           "color": "#4D5663"
          },
          "text": ""
         },
         "zerolinecolor": "#E1E5ED"
        }
       }
      },
      "text/html": [
       "<div>                            <div id=\"0ad115c7-1999-49a9-9af5-b263b7680286\" class=\"plotly-graph-div\" style=\"height:525px; width:100%;\"></div>            <script type=\"text/javascript\">                require([\"plotly\"], function(Plotly) {                    window.PLOTLYENV=window.PLOTLYENV || {};\n",
       "                    window.PLOTLYENV.BASE_URL='https://plot.ly';                                    if (document.getElementById(\"0ad115c7-1999-49a9-9af5-b263b7680286\")) {                    Plotly.newPlot(                        \"0ad115c7-1999-49a9-9af5-b263b7680286\",                        [{\"line\":{\"color\":\"rgba(255, 153, 51, 1.0)\",\"dash\":\"solid\",\"shape\":\"linear\",\"width\":1.3},\"mode\":\"lines\",\"name\":\"Open\",\"text\":\"\",\"x\":[\"2015-12-31\",\"2015-12-30\",\"2015-12-29\",\"2015-12-28\",\"2015-12-24\",\"2015-12-23\",\"2015-12-22\",\"2015-12-21\",\"2015-12-18\",\"2015-12-17\",\"2015-12-16\",\"2015-12-15\",\"2015-12-14\",\"2015-12-11\",\"2015-12-10\",\"2015-12-09\",\"2015-12-08\",\"2015-12-07\",\"2015-12-04\",\"2015-12-03\",\"2015-12-02\",\"2015-12-01\",\"2015-11-30\",\"2015-11-27\",\"2015-11-25\",\"2015-11-24\",\"2015-11-23\",\"2015-11-20\",\"2015-11-19\",\"2015-11-18\",\"2015-11-17\",\"2015-11-16\",\"2015-11-13\",\"2015-11-12\",\"2015-11-11\",\"2015-11-10\",\"2015-11-09\",\"2015-11-06\",\"2015-11-05\",\"2015-11-04\",\"2015-11-03\",\"2015-11-02\",\"2015-10-30\",\"2015-10-29\",\"2015-10-28\",\"2015-10-27\",\"2015-10-26\",\"2015-10-23\",\"2015-10-22\",\"2015-10-21\",\"2015-10-20\",\"2015-10-19\",\"2015-10-16\",\"2015-10-15\",\"2015-10-14\",\"2015-10-13\",\"2015-10-12\",\"2015-10-09\",\"2015-10-08\",\"2015-10-07\",\"2015-10-06\",\"2015-10-05\",\"2015-10-02\",\"2015-10-01\",\"2015-09-30\",\"2015-09-29\",\"2015-09-28\",\"2015-09-25\",\"2015-09-24\",\"2015-09-23\",\"2015-09-22\",\"2015-09-21\",\"2015-09-18\",\"2015-09-17\",\"2015-09-16\",\"2015-09-15\",\"2015-09-14\",\"2015-09-11\",\"2015-09-10\",\"2015-09-09\",\"2015-09-08\",\"2015-09-04\",\"2015-09-03\",\"2015-09-02\",\"2015-09-01\",\"2015-08-31\",\"2015-08-28\",\"2015-08-27\",\"2015-08-26\",\"2015-08-25\",\"2015-08-24\",\"2015-08-21\",\"2015-08-20\",\"2015-08-19\",\"2015-08-18\",\"2015-08-17\",\"2015-08-14\",\"2015-08-13\",\"2015-08-12\",\"2015-08-11\",\"2015-08-10\",\"2015-08-07\",\"2015-08-06\",\"2015-08-05\",\"2015-08-04\",\"2015-08-03\",\"2015-07-31\",\"2015-07-30\",\"2015-07-29\",\"2015-07-28\",\"2015-07-27\",\"2015-07-24\",\"2015-07-23\",\"2015-07-22\",\"2015-07-21\",\"2015-07-20\",\"2015-07-17\",\"2015-07-16\",\"2015-07-15\",\"2015-07-14\",\"2015-07-13\",\"2015-07-10\",\"2015-07-09\",\"2015-07-08\",\"2015-07-07\",\"2015-07-06\",\"2015-07-02\",\"2015-07-01\",\"2015-06-30\",\"2015-06-29\",\"2015-06-26\",\"2015-06-25\",\"2015-06-24\",\"2015-06-23\",\"2015-06-22\",\"2015-06-19\",\"2015-06-18\",\"2015-06-17\",\"2015-06-16\",\"2015-06-15\",\"2015-06-12\",\"2015-06-11\",\"2015-06-10\",\"2015-06-09\",\"2015-06-08\",\"2015-06-05\",\"2015-06-04\",\"2015-06-03\",\"2015-06-02\",\"2015-06-01\",\"2015-05-29\",\"2015-05-28\",\"2015-05-27\",\"2015-05-26\",\"2015-05-22\",\"2015-05-21\",\"2015-05-20\",\"2015-05-19\",\"2015-05-18\",\"2015-05-15\",\"2015-05-14\",\"2015-05-13\",\"2015-05-12\",\"2015-05-11\",\"2015-05-08\",\"2015-05-07\",\"2015-05-06\",\"2015-05-05\",\"2015-05-04\",\"2015-05-01\",\"2015-04-30\",\"2015-04-29\",\"2015-04-28\",\"2015-04-27\",\"2015-04-24\",\"2015-04-23\",\"2015-04-22\",\"2015-04-21\",\"2015-04-20\",\"2015-04-17\",\"2015-04-16\",\"2015-04-15\",\"2015-04-14\",\"2015-04-13\",\"2015-04-10\",\"2015-04-09\",\"2015-04-08\",\"2015-04-07\",\"2015-04-06\",\"2015-04-02\",\"2015-04-01\",\"2015-03-31\",\"2015-03-30\",\"2015-03-27\",\"2015-03-26\",\"2015-03-25\",\"2015-03-24\",\"2015-03-23\",\"2015-03-20\",\"2015-03-19\",\"2015-03-18\",\"2015-03-17\",\"2015-03-16\",\"2015-03-13\",\"2015-03-12\",\"2015-03-11\",\"2015-03-10\",\"2015-03-09\",\"2015-03-06\",\"2015-03-05\",\"2015-03-04\",\"2015-03-03\",\"2015-03-02\",\"2015-02-27\",\"2015-02-26\",\"2015-02-25\",\"2015-02-24\",\"2015-02-23\",\"2015-02-20\",\"2015-02-19\",\"2015-02-18\",\"2015-02-17\",\"2015-02-13\",\"2015-02-12\",\"2015-02-11\",\"2015-02-10\",\"2015-02-09\",\"2015-02-06\",\"2015-02-05\",\"2015-02-04\",\"2015-02-03\",\"2015-02-02\",\"2015-01-30\",\"2015-01-29\",\"2015-01-28\",\"2015-01-27\",\"2015-01-26\",\"2015-01-23\",\"2015-01-22\",\"2015-01-21\",\"2015-01-20\",\"2015-01-16\",\"2015-01-15\",\"2015-01-14\",\"2015-01-13\",\"2015-01-12\",\"2015-01-09\",\"2015-01-08\",\"2015-01-07\",\"2015-01-06\",\"2015-01-05\",\"2015-01-02\"],\"y\":[14.7814,14.9473,14.9897,14.963,15.0495,14.913,14.8168,14.7539,14.9386,15.4679,15.3363,14.7893,14.5645,14.7461,14.9032,14.8659,15.1115,15.4599,15.1526,15.3638,15.5366,15.1811,15.1458,15.1281,15.1713,14.9563,15.2695,15.4335,15.406,15.1045,15.1625,14.8413,14.8413,15.236,15.5877,15.2774,15.6211,15.4599,14.7558,14.9907,14.7391,14.6439,14.8865,14.8669,14.257,14.2108,14.3149,14.1137,13.8671,14.088,14.0036,13.8671,14.1067,13.7002,13.6648,13.3869,13.5166,13.6462,13.6207,13.6748,13.5874,13.3869,13.0668,13.4479,13.4743,13.4302,13.6815,13.7602,13.4656,13.5166,13.4232,13.5774,13.5874,14.1137,14.1657,13.9005,13.8377,13.8574,13.7523,14.1834,13.828,13.6815,13.8377,13.7082,13.7749,14.1047,14.1627,14.147,13.6551,13.9919,12.9725,13.9919,14.8452,15.1566,15.3039,15.2116,15.1752,15.1654,15.2213,15.4188,15.4365,15.4766,15.4689,15.4856,15.3658,15.4689,15.573,15.7202,15.5042,15.3658,15.2537,15.7202,15.8832,15.573,15.6417,15.6761,15.514,15.4689,15.1399,14.6233,14.6656,14.5104,14.2786,14.1804,14.5969,14.4928,14.8237,14.9003,14.751,14.7951,15.0986,15.1752,15.1399,15.1654,14.9935,14.9277,14.9857,15.1939,15.0828,14.968,15.0731,15.2293,15.0181,14.7254,14.9101,14.7186,14.5722,14.5025,14.2265,14.2786,14.3473,14.3984,14.2619,14.4063,14.3984,14.3896,14.4504,14.2786,14.0459,14.2265,14.2355,14.1568,14.1735,14.1637,14.0547,13.9752,14.087,14.1391,13.9005,13.7769,13.7769,13.4332,13.4165,13.4596,13.5283,13.5382,13.3899,13.4332,13.4509,13.5283,13.4685,13.5196,13.6766,13.5804,13.5097,13.4596,13.3644,13.3821,13.2524,13.2887,13.281,13.3487,13.281,13.3301,13.2524,13.4596,13.547,13.6138,13.5097,13.7463,13.7856,13.8387,13.875,13.8484,13.82,13.7091,13.8103,14.0547,14.1313,13.7091,13.7463,13.7533,13.5568,13.548,14.096,14.0537,13.9654,14.0115,13.8584,13.9153,14.2069,14.1893,14.3543,14.0861,14.0203,14.2158,14.038,13.9919,13.7189,13.5568,13.3998,13.1081,13.0747,13.1444,13.495,13.3505,13.495,13.7689,13.3505,13.1169,13.3831,13.0147,13.3831,13.7376,14.4407,14.6116,14.9238,14.7314,14.7147,14.9553,15.2734,15.4452],\"type\":\"scatter\"},{\"line\":{\"color\":\"rgba(55, 128, 191, 1.0)\",\"dash\":\"solid\",\"shape\":\"linear\",\"width\":1.3},\"mode\":\"lines\",\"name\":\"High\",\"text\":\"\",\"x\":[\"2015-12-31\",\"2015-12-30\",\"2015-12-29\",\"2015-12-28\",\"2015-12-24\",\"2015-12-23\",\"2015-12-22\",\"2015-12-21\",\"2015-12-18\",\"2015-12-17\",\"2015-12-16\",\"2015-12-15\",\"2015-12-14\",\"2015-12-11\",\"2015-12-10\",\"2015-12-09\",\"2015-12-08\",\"2015-12-07\",\"2015-12-04\",\"2015-12-03\",\"2015-12-02\",\"2015-12-01\",\"2015-11-30\",\"2015-11-27\",\"2015-11-25\",\"2015-11-24\",\"2015-11-23\",\"2015-11-20\",\"2015-11-19\",\"2015-11-18\",\"2015-11-17\",\"2015-11-16\",\"2015-11-13\",\"2015-11-12\",\"2015-11-11\",\"2015-11-10\",\"2015-11-09\",\"2015-11-06\",\"2015-11-05\",\"2015-11-04\",\"2015-11-03\",\"2015-11-02\",\"2015-10-30\",\"2015-10-29\",\"2015-10-28\",\"2015-10-27\",\"2015-10-26\",\"2015-10-23\",\"2015-10-22\",\"2015-10-21\",\"2015-10-20\",\"2015-10-19\",\"2015-10-16\",\"2015-10-15\",\"2015-10-14\",\"2015-10-13\",\"2015-10-12\",\"2015-10-09\",\"2015-10-08\",\"2015-10-07\",\"2015-10-06\",\"2015-10-05\",\"2015-10-02\",\"2015-10-01\",\"2015-09-30\",\"2015-09-29\",\"2015-09-28\",\"2015-09-25\",\"2015-09-24\",\"2015-09-23\",\"2015-09-22\",\"2015-09-21\",\"2015-09-18\",\"2015-09-17\",\"2015-09-16\",\"2015-09-15\",\"2015-09-14\",\"2015-09-11\",\"2015-09-10\",\"2015-09-09\",\"2015-09-08\",\"2015-09-04\",\"2015-09-03\",\"2015-09-02\",\"2015-09-01\",\"2015-08-31\",\"2015-08-28\",\"2015-08-27\",\"2015-08-26\",\"2015-08-25\",\"2015-08-24\",\"2015-08-21\",\"2015-08-20\",\"2015-08-19\",\"2015-08-18\",\"2015-08-17\",\"2015-08-14\",\"2015-08-13\",\"2015-08-12\",\"2015-08-11\",\"2015-08-10\",\"2015-08-07\",\"2015-08-06\",\"2015-08-05\",\"2015-08-04\",\"2015-08-03\",\"2015-07-31\",\"2015-07-30\",\"2015-07-29\",\"2015-07-28\",\"2015-07-27\",\"2015-07-24\",\"2015-07-23\",\"2015-07-22\",\"2015-07-21\",\"2015-07-20\",\"2015-07-17\",\"2015-07-16\",\"2015-07-15\",\"2015-07-14\",\"2015-07-13\",\"2015-07-10\",\"2015-07-09\",\"2015-07-08\",\"2015-07-07\",\"2015-07-06\",\"2015-07-02\",\"2015-07-01\",\"2015-06-30\",\"2015-06-29\",\"2015-06-26\",\"2015-06-25\",\"2015-06-24\",\"2015-06-23\",\"2015-06-22\",\"2015-06-19\",\"2015-06-18\",\"2015-06-17\",\"2015-06-16\",\"2015-06-15\",\"2015-06-12\",\"2015-06-11\",\"2015-06-10\",\"2015-06-09\",\"2015-06-08\",\"2015-06-05\",\"2015-06-04\",\"2015-06-03\",\"2015-06-02\",\"2015-06-01\",\"2015-05-29\",\"2015-05-28\",\"2015-05-27\",\"2015-05-26\",\"2015-05-22\",\"2015-05-21\",\"2015-05-20\",\"2015-05-19\",\"2015-05-18\",\"2015-05-15\",\"2015-05-14\",\"2015-05-13\",\"2015-05-12\",\"2015-05-11\",\"2015-05-08\",\"2015-05-07\",\"2015-05-06\",\"2015-05-05\",\"2015-05-04\",\"2015-05-01\",\"2015-04-30\",\"2015-04-29\",\"2015-04-28\",\"2015-04-27\",\"2015-04-24\",\"2015-04-23\",\"2015-04-22\",\"2015-04-21\",\"2015-04-20\",\"2015-04-17\",\"2015-04-16\",\"2015-04-15\",\"2015-04-14\",\"2015-04-13\",\"2015-04-10\",\"2015-04-09\",\"2015-04-08\",\"2015-04-07\",\"2015-04-06\",\"2015-04-02\",\"2015-04-01\",\"2015-03-31\",\"2015-03-30\",\"2015-03-27\",\"2015-03-26\",\"2015-03-25\",\"2015-03-24\",\"2015-03-23\",\"2015-03-20\",\"2015-03-19\",\"2015-03-18\",\"2015-03-17\",\"2015-03-16\",\"2015-03-13\",\"2015-03-12\",\"2015-03-11\",\"2015-03-10\",\"2015-03-09\",\"2015-03-06\",\"2015-03-05\",\"2015-03-04\",\"2015-03-03\",\"2015-03-02\",\"2015-02-27\",\"2015-02-26\",\"2015-02-25\",\"2015-02-24\",\"2015-02-23\",\"2015-02-20\",\"2015-02-19\",\"2015-02-18\",\"2015-02-17\",\"2015-02-13\",\"2015-02-12\",\"2015-02-11\",\"2015-02-10\",\"2015-02-09\",\"2015-02-06\",\"2015-02-05\",\"2015-02-04\",\"2015-02-03\",\"2015-02-02\",\"2015-01-30\",\"2015-01-29\",\"2015-01-28\",\"2015-01-27\",\"2015-01-26\",\"2015-01-23\",\"2015-01-22\",\"2015-01-21\",\"2015-01-20\",\"2015-01-16\",\"2015-01-15\",\"2015-01-14\",\"2015-01-13\",\"2015-01-12\",\"2015-01-09\",\"2015-01-08\",\"2015-01-07\",\"2015-01-06\",\"2015-01-05\",\"2015-01-02\"],\"y\":[14.8325,14.9807,15.078,14.972,15.1035,15.0681,14.8659,14.7981,14.9984,15.4933,15.4512,15.1988,14.6763,14.8255,15.1271,15.1035,15.1703,15.4679,15.4933,15.4423,15.5454,15.4335,15.236,15.1625,15.2283,15.2283,15.3638,15.4512,15.4679,15.4836,15.2518,15.1281,14.9984,15.2774,15.5877,15.5454,15.6662,15.6741,15.0505,14.9984,14.9563,14.8502,14.8865,15.1115,14.9984,14.2718,14.3406,14.3406,14.04,14.1137,14.1137,14.0469,14.1137,14.1067,13.7926,13.5067,13.5353,13.7082,13.6748,13.8023,13.7082,13.6815,13.3271,13.553,13.5166,13.4566,13.7082,13.8828,13.5353,13.7376,13.4999,13.6462,13.6128,14.2816,14.2011,14.2011,13.9231,13.9162,13.9585,14.2639,14.0036,13.7453,14.0302,13.7453,13.8651,14.1382,14.1991,14.2078,13.8731,14.0016,13.8013,14.3896,14.8552,15.2783,15.4619,15.3834,15.2852,15.2783,15.247,15.5228,15.5897,15.6074,15.5317,15.5897,15.4856,15.5228,15.5984,15.7988,15.7202,15.4532,15.3568,15.7457,15.9206,15.9628,15.6937,15.7457,15.6839,15.6074,15.4188,14.8138,14.7254,14.5468,14.4427,14.2541,14.6233,14.692,14.8639,14.9513,14.7951,14.9003,15.131,15.2213,15.2783,15.3039,15.1399,15.0181,15.0269,15.1939,15.1654,15.1153,15.185,15.2714,15.2213,14.9857,14.968,14.9857,14.6656,14.7019,14.4327,14.3286,14.3563,14.4063,14.425,14.4063,14.4661,14.425,14.5104,14.4504,14.2452,14.2265,14.2875,14.2265,14.1912,14.2875,14.1735,14.0636,14.2001,14.3032,14.1637,13.9084,13.82,13.8103,13.5283,13.5717,13.5647,13.606,13.6315,13.4685,13.5097,13.5647,13.7286,13.6481,13.7376,13.6571,13.5981,13.5717,13.5558,13.4763,13.4332,13.4509,13.3144,13.3644,13.4419,13.3388,13.3821,13.4763,13.606,13.6766,13.7189,13.7533,13.8671,13.8828,13.9654,13.9084,13.9585,13.9162,13.8907,14.0636,14.3129,13.8023,13.7611,13.8671,13.7611,13.6315,14.1117,14.1627,14.2069,14.0115,14.1047,14.0636,14.2158,14.3179,14.4131,14.362,14.1214,14.2678,14.1627,14.3787,13.8103,13.7376,13.6766,13.2995,13.2828,13.2995,13.5029,13.5568,13.6766,13.9005,13.9005,13.3654,13.4175,13.218,13.5293,13.9221,14.4995,14.6213,14.9238,14.8855,14.7471,14.971,15.2862,15.4766],\"type\":\"scatter\"},{\"line\":{\"color\":\"rgba(50, 171, 96, 1.0)\",\"dash\":\"solid\",\"shape\":\"linear\",\"width\":1.3},\"mode\":\"lines\",\"name\":\"Low\",\"text\":\"\",\"x\":[\"2015-12-31\",\"2015-12-30\",\"2015-12-29\",\"2015-12-28\",\"2015-12-24\",\"2015-12-23\",\"2015-12-22\",\"2015-12-21\",\"2015-12-18\",\"2015-12-17\",\"2015-12-16\",\"2015-12-15\",\"2015-12-14\",\"2015-12-11\",\"2015-12-10\",\"2015-12-09\",\"2015-12-08\",\"2015-12-07\",\"2015-12-04\",\"2015-12-03\",\"2015-12-02\",\"2015-12-01\",\"2015-11-30\",\"2015-11-27\",\"2015-11-25\",\"2015-11-24\",\"2015-11-23\",\"2015-11-20\",\"2015-11-19\",\"2015-11-18\",\"2015-11-17\",\"2015-11-16\",\"2015-11-13\",\"2015-11-12\",\"2015-11-11\",\"2015-11-10\",\"2015-11-09\",\"2015-11-06\",\"2015-11-05\",\"2015-11-04\",\"2015-11-03\",\"2015-11-02\",\"2015-10-30\",\"2015-10-29\",\"2015-10-28\",\"2015-10-27\",\"2015-10-26\",\"2015-10-23\",\"2015-10-22\",\"2015-10-21\",\"2015-10-20\",\"2015-10-19\",\"2015-10-16\",\"2015-10-15\",\"2015-10-14\",\"2015-10-13\",\"2015-10-12\",\"2015-10-09\",\"2015-10-08\",\"2015-10-07\",\"2015-10-06\",\"2015-10-05\",\"2015-10-02\",\"2015-10-01\",\"2015-09-30\",\"2015-09-29\",\"2015-09-28\",\"2015-09-25\",\"2015-09-24\",\"2015-09-23\",\"2015-09-22\",\"2015-09-21\",\"2015-09-18\",\"2015-09-17\",\"2015-09-16\",\"2015-09-15\",\"2015-09-14\",\"2015-09-11\",\"2015-09-10\",\"2015-09-09\",\"2015-09-08\",\"2015-09-04\",\"2015-09-03\",\"2015-09-02\",\"2015-09-01\",\"2015-08-31\",\"2015-08-28\",\"2015-08-27\",\"2015-08-26\",\"2015-08-25\",\"2015-08-24\",\"2015-08-21\",\"2015-08-20\",\"2015-08-19\",\"2015-08-18\",\"2015-08-17\",\"2015-08-14\",\"2015-08-13\",\"2015-08-12\",\"2015-08-11\",\"2015-08-10\",\"2015-08-07\",\"2015-08-06\",\"2015-08-05\",\"2015-08-04\",\"2015-08-03\",\"2015-07-31\",\"2015-07-30\",\"2015-07-29\",\"2015-07-28\",\"2015-07-27\",\"2015-07-24\",\"2015-07-23\",\"2015-07-22\",\"2015-07-21\",\"2015-07-20\",\"2015-07-17\",\"2015-07-16\",\"2015-07-15\",\"2015-07-14\",\"2015-07-13\",\"2015-07-10\",\"2015-07-09\",\"2015-07-08\",\"2015-07-07\",\"2015-07-06\",\"2015-07-02\",\"2015-07-01\",\"2015-06-30\",\"2015-06-29\",\"2015-06-26\",\"2015-06-25\",\"2015-06-24\",\"2015-06-23\",\"2015-06-22\",\"2015-06-19\",\"2015-06-18\",\"2015-06-17\",\"2015-06-16\",\"2015-06-15\",\"2015-06-12\",\"2015-06-11\",\"2015-06-10\",\"2015-06-09\",\"2015-06-08\",\"2015-06-05\",\"2015-06-04\",\"2015-06-03\",\"2015-06-02\",\"2015-06-01\",\"2015-05-29\",\"2015-05-28\",\"2015-05-27\",\"2015-05-26\",\"2015-05-22\",\"2015-05-21\",\"2015-05-20\",\"2015-05-19\",\"2015-05-18\",\"2015-05-15\",\"2015-05-14\",\"2015-05-13\",\"2015-05-12\",\"2015-05-11\",\"2015-05-08\",\"2015-05-07\",\"2015-05-06\",\"2015-05-05\",\"2015-05-04\",\"2015-05-01\",\"2015-04-30\",\"2015-04-29\",\"2015-04-28\",\"2015-04-27\",\"2015-04-24\",\"2015-04-23\",\"2015-04-22\",\"2015-04-21\",\"2015-04-20\",\"2015-04-17\",\"2015-04-16\",\"2015-04-15\",\"2015-04-14\",\"2015-04-13\",\"2015-04-10\",\"2015-04-09\",\"2015-04-08\",\"2015-04-07\",\"2015-04-06\",\"2015-04-02\",\"2015-04-01\",\"2015-03-31\",\"2015-03-30\",\"2015-03-27\",\"2015-03-26\",\"2015-03-25\",\"2015-03-24\",\"2015-03-23\",\"2015-03-20\",\"2015-03-19\",\"2015-03-18\",\"2015-03-17\",\"2015-03-16\",\"2015-03-13\",\"2015-03-12\",\"2015-03-11\",\"2015-03-10\",\"2015-03-09\",\"2015-03-06\",\"2015-03-05\",\"2015-03-04\",\"2015-03-03\",\"2015-03-02\",\"2015-02-27\",\"2015-02-26\",\"2015-02-25\",\"2015-02-24\",\"2015-02-23\",\"2015-02-20\",\"2015-02-19\",\"2015-02-18\",\"2015-02-17\",\"2015-02-13\",\"2015-02-12\",\"2015-02-11\",\"2015-02-10\",\"2015-02-09\",\"2015-02-06\",\"2015-02-05\",\"2015-02-04\",\"2015-02-03\",\"2015-02-02\",\"2015-01-30\",\"2015-01-29\",\"2015-01-28\",\"2015-01-27\",\"2015-01-26\",\"2015-01-23\",\"2015-01-22\",\"2015-01-21\",\"2015-01-20\",\"2015-01-16\",\"2015-01-15\",\"2015-01-14\",\"2015-01-13\",\"2015-01-12\",\"2015-01-09\",\"2015-01-08\",\"2015-01-07\",\"2015-01-06\",\"2015-01-05\",\"2015-01-02\"],\"y\":[14.6233,14.807,14.913,14.7539,14.963,14.857,14.642,14.5722,14.5645,15.0318,14.972,14.7628,14.3366,14.4574,14.7372,14.6577,14.8846,15.1526,15.1035,14.9897,15.2518,15.1458,15.0957,15.0141,15.0888,14.9483,15.1281,15.245,15.2695,15.1045,15.023,14.7391,14.8089,15.0328,15.3176,15.2184,15.2184,15.3893,14.7558,14.697,14.7215,14.6193,14.5222,14.7057,14.257,14.1234,14.1578,14.0803,13.8671,13.7759,13.9497,13.8474,13.8907,13.6207,13.4743,13.3448,13.3702,13.4302,13.4399,13.491,13.491,13.3791,12.678,13.3104,13.276,13.2131,13.3271,13.7002,13.3448,13.4999,13.3869,13.491,13.4302,13.6748,13.9398,13.875,13.7759,13.7759,13.7002,13.7179,13.7759,13.4302,13.7523,13.491,13.3535,13.9742,13.9919,13.8985,13.2484,13.1729,12.6102,13.9074,14.4427,15.0633,15.247,15.1654,15.1477,15.0633,14.7019,15.3039,15.4276,15.2036,15.3481,15.3735,15.294,15.239,15.4276,15.5897,15.4766,15.2036,15.1153,15.4089,15.6151,15.573,15.565,15.6151,15.4532,15.4276,15.1075,14.5635,14.5969,14.3896,14.2078,14.0115,14.1117,14.4327,14.5879,14.7608,14.5565,14.5635,14.9857,14.9857,15.0731,15.1654,14.9857,14.7864,14.8718,14.9435,15.0024,14.9003,14.9935,15.0633,14.9935,14.6833,14.7254,14.6567,14.4427,14.4564,14.2088,14.1814,14.1814,14.2786,14.2452,14.148,14.3896,14.2619,14.3199,14.2786,14.0459,14.039,14.1637,14.087,14.0793,14.148,13.9654,13.8584,13.8484,14.0636,13.8828,13.7091,13.5981,13.4075,13.3487,13.3988,13.4419,13.5019,13.3388,13.2887,13.3988,13.3487,13.4165,13.4262,13.5283,13.5558,13.4332,13.3742,13.3487,13.3064,13.2093,13.2887,13.1326,13.2426,13.2613,13.1512,13.1425,13.2613,13.4419,13.5382,13.4685,13.4419,13.7012,13.7463,13.6481,13.7286,13.6924,13.6668,13.5981,13.8828,13.9162,13.5647,13.5717,13.7012,13.495,13.4085,13.6481,14.0115,13.9488,13.82,13.7463,13.8023,13.9388,14.0537,14.1981,14.0537,13.9153,14.038,13.9488,13.9221,13.6481,13.5206,13.3998,12.9804,13.005,13.0501,13.0324,13.2907,13.4763,13.5029,13.2446,13.005,13.0501,12.8498,13.005,13.5391,14.0115,14.3022,14.5526,14.6793,14.4809,14.4043,14.8413,15.1772],\"type\":\"scatter\"},{\"line\":{\"color\":\"rgba(128, 0, 128, 1.0)\",\"dash\":\"solid\",\"shape\":\"linear\",\"width\":1.3},\"mode\":\"lines\",\"name\":\"Close\",\"text\":\"\",\"x\":[\"2015-12-31\",\"2015-12-30\",\"2015-12-29\",\"2015-12-28\",\"2015-12-24\",\"2015-12-23\",\"2015-12-22\",\"2015-12-21\",\"2015-12-18\",\"2015-12-17\",\"2015-12-16\",\"2015-12-15\",\"2015-12-14\",\"2015-12-11\",\"2015-12-10\",\"2015-12-09\",\"2015-12-08\",\"2015-12-07\",\"2015-12-04\",\"2015-12-03\",\"2015-12-02\",\"2015-12-01\",\"2015-11-30\",\"2015-11-27\",\"2015-11-25\",\"2015-11-24\",\"2015-11-23\",\"2015-11-20\",\"2015-11-19\",\"2015-11-18\",\"2015-11-17\",\"2015-11-16\",\"2015-11-13\",\"2015-11-12\",\"2015-11-11\",\"2015-11-10\",\"2015-11-09\",\"2015-11-06\",\"2015-11-05\",\"2015-11-04\",\"2015-11-03\",\"2015-11-02\",\"2015-10-30\",\"2015-10-29\",\"2015-10-28\",\"2015-10-27\",\"2015-10-26\",\"2015-10-23\",\"2015-10-22\",\"2015-10-21\",\"2015-10-20\",\"2015-10-19\",\"2015-10-16\",\"2015-10-15\",\"2015-10-14\",\"2015-10-13\",\"2015-10-12\",\"2015-10-09\",\"2015-10-08\",\"2015-10-07\",\"2015-10-06\",\"2015-10-05\",\"2015-10-02\",\"2015-10-01\",\"2015-09-30\",\"2015-09-29\",\"2015-09-28\",\"2015-09-25\",\"2015-09-24\",\"2015-09-23\",\"2015-09-22\",\"2015-09-21\",\"2015-09-18\",\"2015-09-17\",\"2015-09-16\",\"2015-09-15\",\"2015-09-14\",\"2015-09-11\",\"2015-09-10\",\"2015-09-09\",\"2015-09-08\",\"2015-09-04\",\"2015-09-03\",\"2015-09-02\",\"2015-09-01\",\"2015-08-31\",\"2015-08-28\",\"2015-08-27\",\"2015-08-26\",\"2015-08-25\",\"2015-08-24\",\"2015-08-21\",\"2015-08-20\",\"2015-08-19\",\"2015-08-18\",\"2015-08-17\",\"2015-08-14\",\"2015-08-13\",\"2015-08-12\",\"2015-08-11\",\"2015-08-10\",\"2015-08-07\",\"2015-08-06\",\"2015-08-05\",\"2015-08-04\",\"2015-08-03\",\"2015-07-31\",\"2015-07-30\",\"2015-07-29\",\"2015-07-28\",\"2015-07-27\",\"2015-07-24\",\"2015-07-23\",\"2015-07-22\",\"2015-07-21\",\"2015-07-20\",\"2015-07-17\",\"2015-07-16\",\"2015-07-15\",\"2015-07-14\",\"2015-07-13\",\"2015-07-10\",\"2015-07-09\",\"2015-07-08\",\"2015-07-07\",\"2015-07-06\",\"2015-07-02\",\"2015-07-01\",\"2015-06-30\",\"2015-06-29\",\"2015-06-26\",\"2015-06-25\",\"2015-06-24\",\"2015-06-23\",\"2015-06-22\",\"2015-06-19\",\"2015-06-18\",\"2015-06-17\",\"2015-06-16\",\"2015-06-15\",\"2015-06-12\",\"2015-06-11\",\"2015-06-10\",\"2015-06-09\",\"2015-06-08\",\"2015-06-05\",\"2015-06-04\",\"2015-06-03\",\"2015-06-02\",\"2015-06-01\",\"2015-05-29\",\"2015-05-28\",\"2015-05-27\",\"2015-05-26\",\"2015-05-22\",\"2015-05-21\",\"2015-05-20\",\"2015-05-19\",\"2015-05-18\",\"2015-05-15\",\"2015-05-14\",\"2015-05-13\",\"2015-05-12\",\"2015-05-11\",\"2015-05-08\",\"2015-05-07\",\"2015-05-06\",\"2015-05-05\",\"2015-05-04\",\"2015-05-01\",\"2015-04-30\",\"2015-04-29\",\"2015-04-28\",\"2015-04-27\",\"2015-04-24\",\"2015-04-23\",\"2015-04-22\",\"2015-04-21\",\"2015-04-20\",\"2015-04-17\",\"2015-04-16\",\"2015-04-15\",\"2015-04-14\",\"2015-04-13\",\"2015-04-10\",\"2015-04-09\",\"2015-04-08\",\"2015-04-07\",\"2015-04-06\",\"2015-04-02\",\"2015-04-01\",\"2015-03-31\",\"2015-03-30\",\"2015-03-27\",\"2015-03-26\",\"2015-03-25\",\"2015-03-24\",\"2015-03-23\",\"2015-03-20\",\"2015-03-19\",\"2015-03-18\",\"2015-03-17\",\"2015-03-16\",\"2015-03-13\",\"2015-03-12\",\"2015-03-11\",\"2015-03-10\",\"2015-03-09\",\"2015-03-06\",\"2015-03-05\",\"2015-03-04\",\"2015-03-03\",\"2015-03-02\",\"2015-02-27\",\"2015-02-26\",\"2015-02-25\",\"2015-02-24\",\"2015-02-23\",\"2015-02-20\",\"2015-02-19\",\"2015-02-18\",\"2015-02-17\",\"2015-02-13\",\"2015-02-12\",\"2015-02-11\",\"2015-02-10\",\"2015-02-09\",\"2015-02-06\",\"2015-02-05\",\"2015-02-04\",\"2015-02-03\",\"2015-02-02\",\"2015-01-30\",\"2015-01-29\",\"2015-01-28\",\"2015-01-27\",\"2015-01-26\",\"2015-01-23\",\"2015-01-22\",\"2015-01-21\",\"2015-01-20\",\"2015-01-16\",\"2015-01-15\",\"2015-01-14\",\"2015-01-13\",\"2015-01-12\",\"2015-01-09\",\"2015-01-08\",\"2015-01-07\",\"2015-01-06\",\"2015-01-05\",\"2015-01-02\"],\"y\":[14.6233,14.8168,15.0131,14.8846,15.0063,15.0681,14.8403,14.7461,14.5645,15.0318,15.4246,15.1349,14.5969,14.5379,14.9473,14.857,14.9386,15.244,15.4679,15.0318,15.3078,15.4335,15.1045,15.1458,15.1115,15.1359,15.1359,15.2911,15.3274,15.4599,15.0957,15.1045,14.9052,15.0505,15.3805,15.4679,15.3176,15.5533,14.9984,14.7391,14.8865,14.7834,14.5408,14.8089,14.973,14.2108,14.3062,14.3149,14.0036,13.7759,14.04,13.9859,13.9663,14.0302,13.553,13.4479,13.4479,13.4999,13.6462,13.6462,13.5971,13.5971,13.3271,13.4743,13.4999,13.3024,13.4046,13.768,13.4743,13.6207,13.491,13.604,13.4822,13.7453,14.15,14.1323,13.828,13.9005,13.9005,13.7759,14.0036,13.5617,13.8093,13.7376,13.4566,14.1117,14.1304,14.1991,13.8731,13.1806,13.2053,13.9074,14.4427,15.0828,15.2783,15.3481,15.2852,15.2213,15.131,15.3658,15.5817,15.3294,15.3834,15.4365,15.3735,15.3481,15.4452,15.6593,15.6839,15.4452,15.2636,15.4619,15.7025,15.9363,15.6151,15.6505,15.6318,15.5042,15.2714,14.7951,14.7019,14.425,14.2345,14.038,14.4151,14.6312,14.7097,14.8718,14.7019,14.5879,15.0358,15.0024,15.1075,15.2636,15.0918,14.8315,15.0092,15.0024,15.1566,15.0918,15.1075,15.1075,15.1939,14.9513,14.751,14.8452,14.4928,14.6233,14.3984,14.2551,14.2088,14.3563,14.4151,14.2088,14.425,14.4063,14.4151,14.4427,14.2178,14.0793,14.2265,14.1814,14.148,14.2001,14.1637,13.9849,14.0292,14.0793,14.1568,13.875,13.7189,13.7611,13.4763,13.3988,13.4685,13.5097,13.5558,13.3487,13.4075,13.3988,13.5981,13.4685,13.6227,13.606,13.5382,13.5283,13.4419,13.3144,13.3565,13.3821,13.271,13.2524,13.3644,13.1826,13.281,13.271,13.4419,13.5382,13.6394,13.4419,13.7611,13.8584,13.8907,13.8584,13.829,13.8053,13.5981,13.9231,13.9654,13.7769,13.6394,13.7689,13.7463,13.5726,13.7689,14.1558,14.0636,13.9084,14.0636,13.9153,13.9919,14.2766,14.2599,14.311,14.0449,14.096,14.038,14.1558,13.7091,13.5568,13.6394,13.273,13.005,13.2446,13.0501,13.4175,13.6069,13.5029,13.8103,13.2279,13.0992,13.2013,13.0501,13.7689,14.1214,14.3179,14.5772,14.8413,14.5438,14.4711,14.9238,15.3668],\"type\":\"scatter\"}],                        {\"legend\":{\"bgcolor\":\"#F5F6F9\",\"font\":{\"color\":\"#4D5663\"}},\"paper_bgcolor\":\"#F5F6F9\",\"plot_bgcolor\":\"#F5F6F9\",\"template\":{\"data\":{\"barpolar\":[{\"marker\":{\"line\":{\"color\":\"#E5ECF6\",\"width\":0.5},\"pattern\":{\"fillmode\":\"overlay\",\"size\":10,\"solidity\":0.2}},\"type\":\"barpolar\"}],\"bar\":[{\"error_x\":{\"color\":\"#2a3f5f\"},\"error_y\":{\"color\":\"#2a3f5f\"},\"marker\":{\"line\":{\"color\":\"#E5ECF6\",\"width\":0.5},\"pattern\":{\"fillmode\":\"overlay\",\"size\":10,\"solidity\":0.2}},\"type\":\"bar\"}],\"carpet\":[{\"aaxis\":{\"endlinecolor\":\"#2a3f5f\",\"gridcolor\":\"white\",\"linecolor\":\"white\",\"minorgridcolor\":\"white\",\"startlinecolor\":\"#2a3f5f\"},\"baxis\":{\"endlinecolor\":\"#2a3f5f\",\"gridcolor\":\"white\",\"linecolor\":\"white\",\"minorgridcolor\":\"white\",\"startlinecolor\":\"#2a3f5f\"},\"type\":\"carpet\"}],\"choropleth\":[{\"colorbar\":{\"outlinewidth\":0,\"ticks\":\"\"},\"type\":\"choropleth\"}],\"contourcarpet\":[{\"colorbar\":{\"outlinewidth\":0,\"ticks\":\"\"},\"type\":\"contourcarpet\"}],\"contour\":[{\"colorbar\":{\"outlinewidth\":0,\"ticks\":\"\"},\"colorscale\":[[0.0,\"#0d0887\"],[0.1111111111111111,\"#46039f\"],[0.2222222222222222,\"#7201a8\"],[0.3333333333333333,\"#9c179e\"],[0.4444444444444444,\"#bd3786\"],[0.5555555555555556,\"#d8576b\"],[0.6666666666666666,\"#ed7953\"],[0.7777777777777778,\"#fb9f3a\"],[0.8888888888888888,\"#fdca26\"],[1.0,\"#f0f921\"]],\"type\":\"contour\"}],\"heatmapgl\":[{\"colorbar\":{\"outlinewidth\":0,\"ticks\":\"\"},\"colorscale\":[[0.0,\"#0d0887\"],[0.1111111111111111,\"#46039f\"],[0.2222222222222222,\"#7201a8\"],[0.3333333333333333,\"#9c179e\"],[0.4444444444444444,\"#bd3786\"],[0.5555555555555556,\"#d8576b\"],[0.6666666666666666,\"#ed7953\"],[0.7777777777777778,\"#fb9f3a\"],[0.8888888888888888,\"#fdca26\"],[1.0,\"#f0f921\"]],\"type\":\"heatmapgl\"}],\"heatmap\":[{\"colorbar\":{\"outlinewidth\":0,\"ticks\":\"\"},\"colorscale\":[[0.0,\"#0d0887\"],[0.1111111111111111,\"#46039f\"],[0.2222222222222222,\"#7201a8\"],[0.3333333333333333,\"#9c179e\"],[0.4444444444444444,\"#bd3786\"],[0.5555555555555556,\"#d8576b\"],[0.6666666666666666,\"#ed7953\"],[0.7777777777777778,\"#fb9f3a\"],[0.8888888888888888,\"#fdca26\"],[1.0,\"#f0f921\"]],\"type\":\"heatmap\"}],\"histogram2dcontour\":[{\"colorbar\":{\"outlinewidth\":0,\"ticks\":\"\"},\"colorscale\":[[0.0,\"#0d0887\"],[0.1111111111111111,\"#46039f\"],[0.2222222222222222,\"#7201a8\"],[0.3333333333333333,\"#9c179e\"],[0.4444444444444444,\"#bd3786\"],[0.5555555555555556,\"#d8576b\"],[0.6666666666666666,\"#ed7953\"],[0.7777777777777778,\"#fb9f3a\"],[0.8888888888888888,\"#fdca26\"],[1.0,\"#f0f921\"]],\"type\":\"histogram2dcontour\"}],\"histogram2d\":[{\"colorbar\":{\"outlinewidth\":0,\"ticks\":\"\"},\"colorscale\":[[0.0,\"#0d0887\"],[0.1111111111111111,\"#46039f\"],[0.2222222222222222,\"#7201a8\"],[0.3333333333333333,\"#9c179e\"],[0.4444444444444444,\"#bd3786\"],[0.5555555555555556,\"#d8576b\"],[0.6666666666666666,\"#ed7953\"],[0.7777777777777778,\"#fb9f3a\"],[0.8888888888888888,\"#fdca26\"],[1.0,\"#f0f921\"]],\"type\":\"histogram2d\"}],\"histogram\":[{\"marker\":{\"pattern\":{\"fillmode\":\"overlay\",\"size\":10,\"solidity\":0.2}},\"type\":\"histogram\"}],\"mesh3d\":[{\"colorbar\":{\"outlinewidth\":0,\"ticks\":\"\"},\"type\":\"mesh3d\"}],\"parcoords\":[{\"line\":{\"colorbar\":{\"outlinewidth\":0,\"ticks\":\"\"}},\"type\":\"parcoords\"}],\"pie\":[{\"automargin\":true,\"type\":\"pie\"}],\"scatter3d\":[{\"line\":{\"colorbar\":{\"outlinewidth\":0,\"ticks\":\"\"}},\"marker\":{\"colorbar\":{\"outlinewidth\":0,\"ticks\":\"\"}},\"type\":\"scatter3d\"}],\"scattercarpet\":[{\"marker\":{\"colorbar\":{\"outlinewidth\":0,\"ticks\":\"\"}},\"type\":\"scattercarpet\"}],\"scattergeo\":[{\"marker\":{\"colorbar\":{\"outlinewidth\":0,\"ticks\":\"\"}},\"type\":\"scattergeo\"}],\"scattergl\":[{\"marker\":{\"colorbar\":{\"outlinewidth\":0,\"ticks\":\"\"}},\"type\":\"scattergl\"}],\"scattermapbox\":[{\"marker\":{\"colorbar\":{\"outlinewidth\":0,\"ticks\":\"\"}},\"type\":\"scattermapbox\"}],\"scatterpolargl\":[{\"marker\":{\"colorbar\":{\"outlinewidth\":0,\"ticks\":\"\"}},\"type\":\"scatterpolargl\"}],\"scatterpolar\":[{\"marker\":{\"colorbar\":{\"outlinewidth\":0,\"ticks\":\"\"}},\"type\":\"scatterpolar\"}],\"scatter\":[{\"fillpattern\":{\"fillmode\":\"overlay\",\"size\":10,\"solidity\":0.2},\"type\":\"scatter\"}],\"scatterternary\":[{\"marker\":{\"colorbar\":{\"outlinewidth\":0,\"ticks\":\"\"}},\"type\":\"scatterternary\"}],\"surface\":[{\"colorbar\":{\"outlinewidth\":0,\"ticks\":\"\"},\"colorscale\":[[0.0,\"#0d0887\"],[0.1111111111111111,\"#46039f\"],[0.2222222222222222,\"#7201a8\"],[0.3333333333333333,\"#9c179e\"],[0.4444444444444444,\"#bd3786\"],[0.5555555555555556,\"#d8576b\"],[0.6666666666666666,\"#ed7953\"],[0.7777777777777778,\"#fb9f3a\"],[0.8888888888888888,\"#fdca26\"],[1.0,\"#f0f921\"]],\"type\":\"surface\"}],\"table\":[{\"cells\":{\"fill\":{\"color\":\"#EBF0F8\"},\"line\":{\"color\":\"white\"}},\"header\":{\"fill\":{\"color\":\"#C8D4E3\"},\"line\":{\"color\":\"white\"}},\"type\":\"table\"}]},\"layout\":{\"annotationdefaults\":{\"arrowcolor\":\"#2a3f5f\",\"arrowhead\":0,\"arrowwidth\":1},\"autotypenumbers\":\"strict\",\"coloraxis\":{\"colorbar\":{\"outlinewidth\":0,\"ticks\":\"\"}},\"colorscale\":{\"diverging\":[[0,\"#8e0152\"],[0.1,\"#c51b7d\"],[0.2,\"#de77ae\"],[0.3,\"#f1b6da\"],[0.4,\"#fde0ef\"],[0.5,\"#f7f7f7\"],[0.6,\"#e6f5d0\"],[0.7,\"#b8e186\"],[0.8,\"#7fbc41\"],[0.9,\"#4d9221\"],[1,\"#276419\"]],\"sequential\":[[0.0,\"#0d0887\"],[0.1111111111111111,\"#46039f\"],[0.2222222222222222,\"#7201a8\"],[0.3333333333333333,\"#9c179e\"],[0.4444444444444444,\"#bd3786\"],[0.5555555555555556,\"#d8576b\"],[0.6666666666666666,\"#ed7953\"],[0.7777777777777778,\"#fb9f3a\"],[0.8888888888888888,\"#fdca26\"],[1.0,\"#f0f921\"]],\"sequentialminus\":[[0.0,\"#0d0887\"],[0.1111111111111111,\"#46039f\"],[0.2222222222222222,\"#7201a8\"],[0.3333333333333333,\"#9c179e\"],[0.4444444444444444,\"#bd3786\"],[0.5555555555555556,\"#d8576b\"],[0.6666666666666666,\"#ed7953\"],[0.7777777777777778,\"#fb9f3a\"],[0.8888888888888888,\"#fdca26\"],[1.0,\"#f0f921\"]]},\"colorway\":[\"#636efa\",\"#EF553B\",\"#00cc96\",\"#ab63fa\",\"#FFA15A\",\"#19d3f3\",\"#FF6692\",\"#B6E880\",\"#FF97FF\",\"#FECB52\"],\"font\":{\"color\":\"#2a3f5f\"},\"geo\":{\"bgcolor\":\"white\",\"lakecolor\":\"white\",\"landcolor\":\"#E5ECF6\",\"showlakes\":true,\"showland\":true,\"subunitcolor\":\"white\"},\"hoverlabel\":{\"align\":\"left\"},\"hovermode\":\"closest\",\"mapbox\":{\"style\":\"light\"},\"paper_bgcolor\":\"white\",\"plot_bgcolor\":\"#E5ECF6\",\"polar\":{\"angularaxis\":{\"gridcolor\":\"white\",\"linecolor\":\"white\",\"ticks\":\"\"},\"bgcolor\":\"#E5ECF6\",\"radialaxis\":{\"gridcolor\":\"white\",\"linecolor\":\"white\",\"ticks\":\"\"}},\"scene\":{\"xaxis\":{\"backgroundcolor\":\"#E5ECF6\",\"gridcolor\":\"white\",\"gridwidth\":2,\"linecolor\":\"white\",\"showbackground\":true,\"ticks\":\"\",\"zerolinecolor\":\"white\"},\"yaxis\":{\"backgroundcolor\":\"#E5ECF6\",\"gridcolor\":\"white\",\"gridwidth\":2,\"linecolor\":\"white\",\"showbackground\":true,\"ticks\":\"\",\"zerolinecolor\":\"white\"},\"zaxis\":{\"backgroundcolor\":\"#E5ECF6\",\"gridcolor\":\"white\",\"gridwidth\":2,\"linecolor\":\"white\",\"showbackground\":true,\"ticks\":\"\",\"zerolinecolor\":\"white\"}},\"shapedefaults\":{\"line\":{\"color\":\"#2a3f5f\"}},\"ternary\":{\"aaxis\":{\"gridcolor\":\"white\",\"linecolor\":\"white\",\"ticks\":\"\"},\"baxis\":{\"gridcolor\":\"white\",\"linecolor\":\"white\",\"ticks\":\"\"},\"bgcolor\":\"#E5ECF6\",\"caxis\":{\"gridcolor\":\"white\",\"linecolor\":\"white\",\"ticks\":\"\"}},\"title\":{\"x\":0.05},\"xaxis\":{\"automargin\":true,\"gridcolor\":\"white\",\"linecolor\":\"white\",\"ticks\":\"\",\"title\":{\"standoff\":15},\"zerolinecolor\":\"white\",\"zerolinewidth\":2},\"yaxis\":{\"automargin\":true,\"gridcolor\":\"white\",\"linecolor\":\"white\",\"ticks\":\"\",\"title\":{\"standoff\":15},\"zerolinecolor\":\"white\",\"zerolinewidth\":2}}},\"title\":{\"font\":{\"color\":\"#4D5663\"}},\"xaxis\":{\"gridcolor\":\"#E1E5ED\",\"showgrid\":true,\"tickfont\":{\"color\":\"#4D5663\"},\"title\":{\"font\":{\"color\":\"#4D5663\"},\"text\":\"\"},\"zerolinecolor\":\"#E1E5ED\"},\"yaxis\":{\"gridcolor\":\"#E1E5ED\",\"showgrid\":true,\"tickfont\":{\"color\":\"#4D5663\"},\"title\":{\"font\":{\"color\":\"#4D5663\"},\"text\":\"\"},\"zerolinecolor\":\"#E1E5ED\"}},                        {\"showLink\": true, \"linkText\": \"Export to plot.ly\", \"plotlyServerURL\": \"https://plot.ly\", \"responsive\": true}                    ).then(function(){\n",
       "                            \n",
       "var gd = document.getElementById('0ad115c7-1999-49a9-9af5-b263b7680286');\n",
       "var x = new MutationObserver(function (mutations, observer) {{\n",
       "        var display = window.getComputedStyle(gd).display;\n",
       "        if (!display || display === 'none') {{\n",
       "            console.log([gd, 'removed!']);\n",
       "            Plotly.purge(gd);\n",
       "            observer.disconnect();\n",
       "        }}\n",
       "}});\n",
       "\n",
       "// Listen for the removal of the full notebook cells\n",
       "var notebookContainer = gd.closest('#notebook-container');\n",
       "if (notebookContainer) {{\n",
       "    x.observe(notebookContainer, {childList: true});\n",
       "}}\n",
       "\n",
       "// Listen for the clearing of the current output cell\n",
       "var outputEl = gd.closest('.output');\n",
       "if (outputEl) {{\n",
       "    x.observe(outputEl, {childList: true});\n",
       "}}\n",
       "\n",
       "                        })                };                });            </script>        </div>"
      ]
     },
     "metadata": {},
     "output_type": "display_data"
    }
   ],
   "source": [
    "BAC[['Open','High','Low','Close']].loc['2015-01-01':'2016-01-31'].iplot(kind='line')"
   ]
  },
  {
   "cell_type": "markdown",
   "metadata": {},
   "source": [
    "#### Line plot to get the continous change in the BAC stock"
   ]
  },
  {
   "cell_type": "markdown",
   "metadata": {},
   "source": [
    "** Use .ta_plot(study='sma') to create a Simple Moving Averages plot of Morgan Stanley for the year 2015.**"
   ]
  },
  {
   "cell_type": "code",
   "execution_count": 51,
   "metadata": {},
   "outputs": [
    {
     "name": "stderr",
     "output_type": "stream",
     "text": [
      "/tmp/ipykernel_141941/3496980661.py:1: FutureWarning:\n",
      "\n",
      "Value based partial slicing on non-monotonic DatetimeIndexes with non-existing keys is deprecated and will raise a KeyError in a future Version.\n",
      "\n"
     ]
    },
    {
     "data": {
      "application/vnd.plotly.v1+json": {
       "config": {
        "linkText": "Export to plot.ly",
        "plotlyServerURL": "https://plot.ly",
        "showLink": true
       },
       "data": [
        {
         "line": {
          "color": "rgba(255, 153, 51, 1.0)",
          "dash": "solid",
          "shape": "linear",
          "width": 1.3
         },
         "mode": "lines",
         "name": "Close",
         "text": "",
         "type": "scatter",
         "x": [
          "2015-12-31",
          "2015-12-30",
          "2015-12-29",
          "2015-12-28",
          "2015-12-24",
          "2015-12-23",
          "2015-12-22",
          "2015-12-21",
          "2015-12-18",
          "2015-12-17",
          "2015-12-16",
          "2015-12-15",
          "2015-12-14",
          "2015-12-11",
          "2015-12-10",
          "2015-12-09",
          "2015-12-08",
          "2015-12-07",
          "2015-12-04",
          "2015-12-03",
          "2015-12-02",
          "2015-12-01",
          "2015-11-30",
          "2015-11-27",
          "2015-11-25",
          "2015-11-24",
          "2015-11-23",
          "2015-11-20",
          "2015-11-19",
          "2015-11-18",
          "2015-11-17",
          "2015-11-16",
          "2015-11-13",
          "2015-11-12",
          "2015-11-11",
          "2015-11-10",
          "2015-11-09",
          "2015-11-06",
          "2015-11-05",
          "2015-11-04",
          "2015-11-03",
          "2015-11-02",
          "2015-10-30",
          "2015-10-29",
          "2015-10-28",
          "2015-10-27",
          "2015-10-26",
          "2015-10-23",
          "2015-10-22",
          "2015-10-21",
          "2015-10-20",
          "2015-10-19",
          "2015-10-16",
          "2015-10-15",
          "2015-10-14",
          "2015-10-13",
          "2015-10-12",
          "2015-10-09",
          "2015-10-08",
          "2015-10-07",
          "2015-10-06",
          "2015-10-05",
          "2015-10-02",
          "2015-10-01",
          "2015-09-30",
          "2015-09-29",
          "2015-09-28",
          "2015-09-25",
          "2015-09-24",
          "2015-09-23",
          "2015-09-22",
          "2015-09-21",
          "2015-09-18",
          "2015-09-17",
          "2015-09-16",
          "2015-09-15",
          "2015-09-14",
          "2015-09-11",
          "2015-09-10",
          "2015-09-09",
          "2015-09-08",
          "2015-09-04",
          "2015-09-03",
          "2015-09-02",
          "2015-09-01",
          "2015-08-31",
          "2015-08-28",
          "2015-08-27",
          "2015-08-26",
          "2015-08-25",
          "2015-08-24",
          "2015-08-21",
          "2015-08-20",
          "2015-08-19",
          "2015-08-18",
          "2015-08-17",
          "2015-08-14",
          "2015-08-13",
          "2015-08-12",
          "2015-08-11",
          "2015-08-10",
          "2015-08-07",
          "2015-08-06",
          "2015-08-05",
          "2015-08-04",
          "2015-08-03",
          "2015-07-31",
          "2015-07-30",
          "2015-07-29",
          "2015-07-28",
          "2015-07-27",
          "2015-07-24",
          "2015-07-23",
          "2015-07-22",
          "2015-07-21",
          "2015-07-20",
          "2015-07-17",
          "2015-07-16",
          "2015-07-15",
          "2015-07-14",
          "2015-07-13",
          "2015-07-10",
          "2015-07-09",
          "2015-07-08",
          "2015-07-07",
          "2015-07-06",
          "2015-07-02",
          "2015-07-01",
          "2015-06-30",
          "2015-06-29",
          "2015-06-26",
          "2015-06-25",
          "2015-06-24",
          "2015-06-23",
          "2015-06-22",
          "2015-06-19",
          "2015-06-18",
          "2015-06-17",
          "2015-06-16",
          "2015-06-15",
          "2015-06-12",
          "2015-06-11",
          "2015-06-10",
          "2015-06-09",
          "2015-06-08",
          "2015-06-05",
          "2015-06-04",
          "2015-06-03",
          "2015-06-02",
          "2015-06-01",
          "2015-05-29",
          "2015-05-28",
          "2015-05-27",
          "2015-05-26",
          "2015-05-22",
          "2015-05-21",
          "2015-05-20",
          "2015-05-19",
          "2015-05-18",
          "2015-05-15",
          "2015-05-14",
          "2015-05-13",
          "2015-05-12",
          "2015-05-11",
          "2015-05-08",
          "2015-05-07",
          "2015-05-06",
          "2015-05-05",
          "2015-05-04",
          "2015-05-01",
          "2015-04-30",
          "2015-04-29",
          "2015-04-28",
          "2015-04-27",
          "2015-04-24",
          "2015-04-23",
          "2015-04-22",
          "2015-04-21",
          "2015-04-20",
          "2015-04-17",
          "2015-04-16",
          "2015-04-15",
          "2015-04-14",
          "2015-04-13",
          "2015-04-10",
          "2015-04-09",
          "2015-04-08",
          "2015-04-07",
          "2015-04-06",
          "2015-04-02",
          "2015-04-01",
          "2015-03-31",
          "2015-03-30",
          "2015-03-27",
          "2015-03-26",
          "2015-03-25",
          "2015-03-24",
          "2015-03-23",
          "2015-03-20",
          "2015-03-19",
          "2015-03-18",
          "2015-03-17",
          "2015-03-16",
          "2015-03-13",
          "2015-03-12",
          "2015-03-11",
          "2015-03-10",
          "2015-03-09",
          "2015-03-06",
          "2015-03-05",
          "2015-03-04",
          "2015-03-03",
          "2015-03-02",
          "2015-02-27",
          "2015-02-26",
          "2015-02-25",
          "2015-02-24",
          "2015-02-23",
          "2015-02-20",
          "2015-02-19",
          "2015-02-18",
          "2015-02-17",
          "2015-02-13",
          "2015-02-12",
          "2015-02-11",
          "2015-02-10",
          "2015-02-09",
          "2015-02-06",
          "2015-02-05",
          "2015-02-04",
          "2015-02-03",
          "2015-02-02",
          "2015-01-30",
          "2015-01-29",
          "2015-01-28",
          "2015-01-27",
          "2015-01-26",
          "2015-01-23",
          "2015-01-22",
          "2015-01-21",
          "2015-01-20",
          "2015-01-16",
          "2015-01-15",
          "2015-01-14",
          "2015-01-13",
          "2015-01-12",
          "2015-01-09",
          "2015-01-08",
          "2015-01-07",
          "2015-01-06",
          "2015-01-05",
          "2015-01-02"
         ],
         "y": [
          26.5229,
          26.8721,
          27.138,
          26.8211,
          27.0811,
          27.1792,
          26.8653,
          26.4139,
          26.0902,
          26.9977,
          28.0259,
          27.3823,
          26.5787,
          26.7455,
          27.865,
          27.8218,
          28.4007,
          28.9148,
          29.4465,
          28.7225,
          29.0884,
          29.4073,
          28.5949,
          28.1633,
          28.0259,
          28.0073,
          28.0465,
          28.2741,
          28.4899,
          28.5567,
          28.0073,
          28.3919,
          28.2889,
          28.5419,
          29.2002,
          29.3828,
          29.2709,
          29.524,
          28.2515,
          27.8483,
          27.7541,
          27.916,
          27.4892,
          27.9621,
          27.8836,
          26.7455,
          27.0124,
          27.0693,
          26.8466,
          26.1236,
          26.7623,
          26.8211,
          28.1701,
          27.8944,
          27.0056,
          27.0605,
          27.2204,
          27.1537,
          27.3784,
          27.3254,
          26.8555,
          26.7956,
          26.0843,
          26.1412,
          26.1412,
          25.735,
          25.8008,
          26.7141,
          26.5337,
          26.8211,
          26.9212,
          27.6708,
          27.4128,
          28.2633,
          28.7284,
          28.696,
          28.0573,
          28.2065,
          28.1093,
          28.0102,
          28.4389,
          27.5462,
          28.0485,
          28.0397,
          27.4854,
          28.5871,
          28.2633,
          28.4625,
          27.6364,
          26.3551,
          26.7721,
          28.3929,
          30.0155,
          31.0712,
          31.3851,
          31.654,
          31.5765,
          31.3273,
          31.1781,
          31.4725,
          32.431,
          32.015,
          32.3084,
          32.3652,
          32.2996,
          32.168,
          32.2318,
          32.6125,
          32.6046,
          32.4486,
          32.4486,
          32.7361,
          33.0187,
          33.5141,
          33.1355,
          33.1011,
          33.2335,
          32.9941,
          32.8215,
          32.8293,
          32.5066,
          31.9434,
          31.4961,
          31.2439,
          31.9287,
          32.117,
          32.2396,
          32.5399,
          32.068,
          31.6707,
          32.6547,
          32.4232,
          32.7715,
          33.2433,
          32.9441,
          32.5478,
          32.8951,
          32.7214,
          32.8519,
          32.6802,
          32.742,
          32.9617,
          32.9765,
          32.3496,
          32.3162,
          32.48,
          31.9934,
          32.2486,
          31.8433,
          31.8943,
          31.5794,
          32.017,
          31.9287,
          31.2439,
          31.5539,
          31.4489,
          31.6863,
          31.9846,
          31.6863,
          31.2929,
          31.5284,
          31.2361,
          31.1831,
          31.6235,
          31.3223,
          31.0349,
          30.6278,
          30.9574,
          31.3381,
          31.0104,
          30.8436,
          30.9937,
          30.6278,
          30.5051,
          30.7592,
          30.7768,
          30.6268,
          30.2569,
          30.4296,
          30.2569,
          30.7592,
          30.7848,
          30.3344,
          29.8851,
          29.8389,
          30.1686,
          29.8557,
          29.5917,
          29.5652,
          29.6899,
          29.6153,
          29.3857,
          29.8949,
          29.5024,
          29.3288,
          29.1885,
          29.8389,
          29.8949,
          30.0519,
          29.7311,
          30.2402,
          30.096,
          30.2402,
          30.1039,
          30.0695,
          28.7784,
          28.7176,
          29.371,
          29.2522,
          29.2444,
          28.8902,
          29.4946,
          29.8389,
          29.4691,
          29.6899,
          30.1274,
          30.2491,
          29.8635,
          30.2491,
          29.9125,
          29.9469,
          30.3972,
          30.2824,
          30.3815,
          29.9469,
          29.7733,
          29.3356,
          29.4691,
          28.7608,
          28.6283,
          28.849,
          28.3379,
          27.8385,
          28.2977,
          27.8032,
          28.4527,
          28.8255,
          28.8569,
          29.1698,
          28.5135,
          28.5311,
          28.645,
          28.3919,
          28.906,
          29.5799,
          29.8595,
          30.2765,
          30.7788,
          30.3285,
          29.8997,
          30.7857,
          31.7805
         ]
        },
        {
         "line": {
          "color": "rgba(55, 128, 191, 1.0)",
          "dash": "solid",
          "shape": "linear",
          "width": 1.3
         },
         "mode": "lines",
         "name": "SMA(15)",
         "text": "",
         "type": "scatter",
         "x": [
          "2015-12-31",
          "2015-12-30",
          "2015-12-29",
          "2015-12-28",
          "2015-12-24",
          "2015-12-23",
          "2015-12-22",
          "2015-12-21",
          "2015-12-18",
          "2015-12-17",
          "2015-12-16",
          "2015-12-15",
          "2015-12-14",
          "2015-12-11",
          "2015-12-10",
          "2015-12-09",
          "2015-12-08",
          "2015-12-07",
          "2015-12-04",
          "2015-12-03",
          "2015-12-02",
          "2015-12-01",
          "2015-11-30",
          "2015-11-27",
          "2015-11-25",
          "2015-11-24",
          "2015-11-23",
          "2015-11-20",
          "2015-11-19",
          "2015-11-18",
          "2015-11-17",
          "2015-11-16",
          "2015-11-13",
          "2015-11-12",
          "2015-11-11",
          "2015-11-10",
          "2015-11-09",
          "2015-11-06",
          "2015-11-05",
          "2015-11-04",
          "2015-11-03",
          "2015-11-02",
          "2015-10-30",
          "2015-10-29",
          "2015-10-28",
          "2015-10-27",
          "2015-10-26",
          "2015-10-23",
          "2015-10-22",
          "2015-10-21",
          "2015-10-20",
          "2015-10-19",
          "2015-10-16",
          "2015-10-15",
          "2015-10-14",
          "2015-10-13",
          "2015-10-12",
          "2015-10-09",
          "2015-10-08",
          "2015-10-07",
          "2015-10-06",
          "2015-10-05",
          "2015-10-02",
          "2015-10-01",
          "2015-09-30",
          "2015-09-29",
          "2015-09-28",
          "2015-09-25",
          "2015-09-24",
          "2015-09-23",
          "2015-09-22",
          "2015-09-21",
          "2015-09-18",
          "2015-09-17",
          "2015-09-16",
          "2015-09-15",
          "2015-09-14",
          "2015-09-11",
          "2015-09-10",
          "2015-09-09",
          "2015-09-08",
          "2015-09-04",
          "2015-09-03",
          "2015-09-02",
          "2015-09-01",
          "2015-08-31",
          "2015-08-28",
          "2015-08-27",
          "2015-08-26",
          "2015-08-25",
          "2015-08-24",
          "2015-08-21",
          "2015-08-20",
          "2015-08-19",
          "2015-08-18",
          "2015-08-17",
          "2015-08-14",
          "2015-08-13",
          "2015-08-12",
          "2015-08-11",
          "2015-08-10",
          "2015-08-07",
          "2015-08-06",
          "2015-08-05",
          "2015-08-04",
          "2015-08-03",
          "2015-07-31",
          "2015-07-30",
          "2015-07-29",
          "2015-07-28",
          "2015-07-27",
          "2015-07-24",
          "2015-07-23",
          "2015-07-22",
          "2015-07-21",
          "2015-07-20",
          "2015-07-17",
          "2015-07-16",
          "2015-07-15",
          "2015-07-14",
          "2015-07-13",
          "2015-07-10",
          "2015-07-09",
          "2015-07-08",
          "2015-07-07",
          "2015-07-06",
          "2015-07-02",
          "2015-07-01",
          "2015-06-30",
          "2015-06-29",
          "2015-06-26",
          "2015-06-25",
          "2015-06-24",
          "2015-06-23",
          "2015-06-22",
          "2015-06-19",
          "2015-06-18",
          "2015-06-17",
          "2015-06-16",
          "2015-06-15",
          "2015-06-12",
          "2015-06-11",
          "2015-06-10",
          "2015-06-09",
          "2015-06-08",
          "2015-06-05",
          "2015-06-04",
          "2015-06-03",
          "2015-06-02",
          "2015-06-01",
          "2015-05-29",
          "2015-05-28",
          "2015-05-27",
          "2015-05-26",
          "2015-05-22",
          "2015-05-21",
          "2015-05-20",
          "2015-05-19",
          "2015-05-18",
          "2015-05-15",
          "2015-05-14",
          "2015-05-13",
          "2015-05-12",
          "2015-05-11",
          "2015-05-08",
          "2015-05-07",
          "2015-05-06",
          "2015-05-05",
          "2015-05-04",
          "2015-05-01",
          "2015-04-30",
          "2015-04-29",
          "2015-04-28",
          "2015-04-27",
          "2015-04-24",
          "2015-04-23",
          "2015-04-22",
          "2015-04-21",
          "2015-04-20",
          "2015-04-17",
          "2015-04-16",
          "2015-04-15",
          "2015-04-14",
          "2015-04-13",
          "2015-04-10",
          "2015-04-09",
          "2015-04-08",
          "2015-04-07",
          "2015-04-06",
          "2015-04-02",
          "2015-04-01",
          "2015-03-31",
          "2015-03-30",
          "2015-03-27",
          "2015-03-26",
          "2015-03-25",
          "2015-03-24",
          "2015-03-23",
          "2015-03-20",
          "2015-03-19",
          "2015-03-18",
          "2015-03-17",
          "2015-03-16",
          "2015-03-13",
          "2015-03-12",
          "2015-03-11",
          "2015-03-10",
          "2015-03-09",
          "2015-03-06",
          "2015-03-05",
          "2015-03-04",
          "2015-03-03",
          "2015-03-02",
          "2015-02-27",
          "2015-02-26",
          "2015-02-25",
          "2015-02-24",
          "2015-02-23",
          "2015-02-20",
          "2015-02-19",
          "2015-02-18",
          "2015-02-17",
          "2015-02-13",
          "2015-02-12",
          "2015-02-11",
          "2015-02-10",
          "2015-02-09",
          "2015-02-06",
          "2015-02-05",
          "2015-02-04",
          "2015-02-03",
          "2015-02-02",
          "2015-01-30",
          "2015-01-29",
          "2015-01-28",
          "2015-01-27",
          "2015-01-26",
          "2015-01-23",
          "2015-01-22",
          "2015-01-21",
          "2015-01-20",
          "2015-01-16",
          "2015-01-15",
          "2015-01-14",
          "2015-01-13",
          "2015-01-12",
          "2015-01-09",
          "2015-01-08",
          "2015-01-07",
          "2015-01-06",
          "2015-01-05",
          "2015-01-02"
         ],
         "y": [
          "",
          "",
          "",
          "",
          "",
          "",
          "",
          "",
          "",
          "",
          "",
          "",
          "",
          "",
          26.971926666666665,
          27.05852,
          27.16042666666667,
          27.27888,
          27.45390666666667,
          27.563333333333333,
          27.69061333333333,
          27.86008,
          28.00548,
          28.143686666666664,
          28.212233333333337,
          28.21099333333333,
          28.25527333333333,
          28.368299999999998,
          28.484593333333333,
          28.530706666666667,
          28.543073333333332,
          28.542486666666665,
          28.50076,
          28.44045333333333,
          28.4723,
          28.491926666666664,
          28.482833333333335,
          28.544773333333335,
          28.550653333333337,
          28.538813333333334,
          28.521933333333333,
          28.513233333333336,
          28.460906666666666,
          28.425720000000002,
          28.38084666666667,
          28.296726666666665,
          28.204760000000004,
          28.123453333333334,
          28.01043333333333,
          27.805326666666666,
          27.630626666666664,
          27.467306666666666,
          27.37704666666667,
          27.353239999999996,
          27.29706,
          27.250819999999997,
          27.204446666666666,
          27.18208,
          27.143166666666666,
          27.105953333333332,
          27.113286666666667,
          27.09883333333333,
          27.033166666666666,
          26.98614,
          26.987313333333336,
          26.91882666666667,
          26.850806666666667,
          26.753739999999997,
          26.663026666666667,
          26.650726666666667,
          26.64144,
          26.671466666666667,
          26.68874,
          26.747733333333333,
          26.84126666666667,
          26.963966666666668,
          27.048080000000002,
          27.189559999999997,
          27.320766666666668,
          27.445366666666665,
          27.625626666666665,
          27.741986666666666,
          27.830946666666666,
          27.93134666666667,
          27.975633333333334,
          28.086693333333336,
          28.126193333333337,
          28.196173333333334,
          28.15438,
          27.996159999999996,
          27.867900000000002,
          27.890273333333333,
          28.010873333333333,
          28.208333333333332,
          28.433326666666666,
          28.64766666666667,
          28.916353333333333,
          29.134940000000004,
          29.344166666666663,
          29.609973333333336,
          29.866233333333334,
          30.116346666666665,
          30.37274,
          30.687993333333335,
          31.084293333333335,
          31.444020000000002,
          31.699946666666666,
          31.87308,
          31.975306666666665,
          32.04620666666667,
          32.09918,
          32.17648666666667,
          32.28924666666666,
          32.44498,
          32.55584666666667,
          32.600519999999996,
          32.68175333333333,
          32.72746666666667,
          32.757886666666664,
          32.7932,
          32.81577333333333,
          32.79654666666667,
          32.72212,
          32.63140666666666,
          32.59674666666667,
          32.57464,
          32.54154,
          32.509620000000005,
          32.41321333333334,
          32.31556,
          32.2858,
          32.23178,
          32.21694,
          32.24506,
          32.25271333333333,
          32.25546,
          32.31890666666666,
          32.40059333333333,
          32.50779333333333,
          32.55789333333333,
          32.599560000000004,
          32.6477,
          32.676806666666664,
          32.69558,
          32.73861333333333,
          32.72696666666666,
          32.69831333333333,
          32.66345333333333,
          32.57012,
          32.50013333333333,
          32.43557333333334,
          32.37703333333334,
          32.32418666666667,
          32.21698666666666,
          32.1419,
          32.05569333333333,
          31.970666666666666,
          31.90454,
          31.86032,
          31.7921,
          31.72866,
          31.678173333333334,
          31.60714,
          31.592486666666666,
          31.55435333333333,
          31.518053333333334,
          31.42544,
          31.360686666666666,
          31.366966666666666,
          31.330733333333335,
          31.290380000000003,
          31.244206666666667,
          31.153753333333334,
          31.075006666666663,
          31.039426666666667,
          30.98932,
          30.9487,
          30.886953333333334,
          30.807360000000003,
          30.736333333333334,
          30.717953333333334,
          30.728420000000003,
          30.686886666666666,
          30.59002,
          30.511919999999996,
          30.466920000000002,
          30.391053333333335,
          30.32198,
          30.259320000000002,
          30.188033333333333,
          30.110599999999998,
          30.02786,
          30.00372666666667,
          29.941913333333332,
          29.88004,
          29.77532666666667,
          29.712266666666665,
          29.68296666666667,
          29.694086666666667,
          29.6869,
          29.691673333333334,
          29.707693333333335,
          29.750926666666665,
          29.786839999999998,
          29.812146666666667,
          29.756353333333333,
          29.711813333333332,
          29.676886666666668,
          29.660206666666667,
          29.654580000000003,
          29.634693333333335,
          29.61174,
          29.608006666666665,
          29.569153333333336,
          29.56640666666667,
          29.558886666666663,
          29.56909333333333,
          29.543979999999998,
          29.553659999999997,
          29.54319333333333,
          29.621093333333338,
          29.73306666666667,
          29.793826666666668,
          29.869113333333335,
          29.915946666666667,
          29.97482,
          29.96422,
          29.939566666666668,
          29.892346666666665,
          29.821573333333333,
          29.73634666666667,
          29.608933333333333,
          29.473933333333335,
          29.34384,
          29.203219999999998,
          29.103606666666664,
          28.998826666666666,
          28.903793333333333,
          28.823013333333336,
          28.727453333333333,
          28.64464,
          28.598599999999998,
          28.52678666666667,
          28.53646666666667,
          28.599906666666662,
          28.667273333333334,
          28.796513333333333,
          28.99253333333333,
          29.127920000000003,
          29.26768666666667,
          29.42322,
          29.62022
         ]
        },
        {
         "line": {
          "color": "rgba(55, 128, 191, 0.8999999999999999)",
          "dash": "solid",
          "shape": "linear",
          "width": 1.3
         },
         "mode": "lines",
         "name": "SMA(30)",
         "text": "",
         "type": "scatter",
         "x": [
          "2015-12-31",
          "2015-12-30",
          "2015-12-29",
          "2015-12-28",
          "2015-12-24",
          "2015-12-23",
          "2015-12-22",
          "2015-12-21",
          "2015-12-18",
          "2015-12-17",
          "2015-12-16",
          "2015-12-15",
          "2015-12-14",
          "2015-12-11",
          "2015-12-10",
          "2015-12-09",
          "2015-12-08",
          "2015-12-07",
          "2015-12-04",
          "2015-12-03",
          "2015-12-02",
          "2015-12-01",
          "2015-11-30",
          "2015-11-27",
          "2015-11-25",
          "2015-11-24",
          "2015-11-23",
          "2015-11-20",
          "2015-11-19",
          "2015-11-18",
          "2015-11-17",
          "2015-11-16",
          "2015-11-13",
          "2015-11-12",
          "2015-11-11",
          "2015-11-10",
          "2015-11-09",
          "2015-11-06",
          "2015-11-05",
          "2015-11-04",
          "2015-11-03",
          "2015-11-02",
          "2015-10-30",
          "2015-10-29",
          "2015-10-28",
          "2015-10-27",
          "2015-10-26",
          "2015-10-23",
          "2015-10-22",
          "2015-10-21",
          "2015-10-20",
          "2015-10-19",
          "2015-10-16",
          "2015-10-15",
          "2015-10-14",
          "2015-10-13",
          "2015-10-12",
          "2015-10-09",
          "2015-10-08",
          "2015-10-07",
          "2015-10-06",
          "2015-10-05",
          "2015-10-02",
          "2015-10-01",
          "2015-09-30",
          "2015-09-29",
          "2015-09-28",
          "2015-09-25",
          "2015-09-24",
          "2015-09-23",
          "2015-09-22",
          "2015-09-21",
          "2015-09-18",
          "2015-09-17",
          "2015-09-16",
          "2015-09-15",
          "2015-09-14",
          "2015-09-11",
          "2015-09-10",
          "2015-09-09",
          "2015-09-08",
          "2015-09-04",
          "2015-09-03",
          "2015-09-02",
          "2015-09-01",
          "2015-08-31",
          "2015-08-28",
          "2015-08-27",
          "2015-08-26",
          "2015-08-25",
          "2015-08-24",
          "2015-08-21",
          "2015-08-20",
          "2015-08-19",
          "2015-08-18",
          "2015-08-17",
          "2015-08-14",
          "2015-08-13",
          "2015-08-12",
          "2015-08-11",
          "2015-08-10",
          "2015-08-07",
          "2015-08-06",
          "2015-08-05",
          "2015-08-04",
          "2015-08-03",
          "2015-07-31",
          "2015-07-30",
          "2015-07-29",
          "2015-07-28",
          "2015-07-27",
          "2015-07-24",
          "2015-07-23",
          "2015-07-22",
          "2015-07-21",
          "2015-07-20",
          "2015-07-17",
          "2015-07-16",
          "2015-07-15",
          "2015-07-14",
          "2015-07-13",
          "2015-07-10",
          "2015-07-09",
          "2015-07-08",
          "2015-07-07",
          "2015-07-06",
          "2015-07-02",
          "2015-07-01",
          "2015-06-30",
          "2015-06-29",
          "2015-06-26",
          "2015-06-25",
          "2015-06-24",
          "2015-06-23",
          "2015-06-22",
          "2015-06-19",
          "2015-06-18",
          "2015-06-17",
          "2015-06-16",
          "2015-06-15",
          "2015-06-12",
          "2015-06-11",
          "2015-06-10",
          "2015-06-09",
          "2015-06-08",
          "2015-06-05",
          "2015-06-04",
          "2015-06-03",
          "2015-06-02",
          "2015-06-01",
          "2015-05-29",
          "2015-05-28",
          "2015-05-27",
          "2015-05-26",
          "2015-05-22",
          "2015-05-21",
          "2015-05-20",
          "2015-05-19",
          "2015-05-18",
          "2015-05-15",
          "2015-05-14",
          "2015-05-13",
          "2015-05-12",
          "2015-05-11",
          "2015-05-08",
          "2015-05-07",
          "2015-05-06",
          "2015-05-05",
          "2015-05-04",
          "2015-05-01",
          "2015-04-30",
          "2015-04-29",
          "2015-04-28",
          "2015-04-27",
          "2015-04-24",
          "2015-04-23",
          "2015-04-22",
          "2015-04-21",
          "2015-04-20",
          "2015-04-17",
          "2015-04-16",
          "2015-04-15",
          "2015-04-14",
          "2015-04-13",
          "2015-04-10",
          "2015-04-09",
          "2015-04-08",
          "2015-04-07",
          "2015-04-06",
          "2015-04-02",
          "2015-04-01",
          "2015-03-31",
          "2015-03-30",
          "2015-03-27",
          "2015-03-26",
          "2015-03-25",
          "2015-03-24",
          "2015-03-23",
          "2015-03-20",
          "2015-03-19",
          "2015-03-18",
          "2015-03-17",
          "2015-03-16",
          "2015-03-13",
          "2015-03-12",
          "2015-03-11",
          "2015-03-10",
          "2015-03-09",
          "2015-03-06",
          "2015-03-05",
          "2015-03-04",
          "2015-03-03",
          "2015-03-02",
          "2015-02-27",
          "2015-02-26",
          "2015-02-25",
          "2015-02-24",
          "2015-02-23",
          "2015-02-20",
          "2015-02-19",
          "2015-02-18",
          "2015-02-17",
          "2015-02-13",
          "2015-02-12",
          "2015-02-11",
          "2015-02-10",
          "2015-02-09",
          "2015-02-06",
          "2015-02-05",
          "2015-02-04",
          "2015-02-03",
          "2015-02-02",
          "2015-01-30",
          "2015-01-29",
          "2015-01-28",
          "2015-01-27",
          "2015-01-26",
          "2015-01-23",
          "2015-01-22",
          "2015-01-21",
          "2015-01-20",
          "2015-01-16",
          "2015-01-15",
          "2015-01-14",
          "2015-01-13",
          "2015-01-12",
          "2015-01-09",
          "2015-01-08",
          "2015-01-07",
          "2015-01-06",
          "2015-01-05",
          "2015-01-02"
         ],
         "y": [
          "",
          "",
          "",
          "",
          "",
          "",
          "",
          "",
          "",
          "",
          "",
          "",
          "",
          "",
          "",
          "",
          "",
          "",
          "",
          "",
          "",
          "",
          "",
          "",
          "",
          "",
          "",
          "",
          "",
          27.751316666666664,
          27.800796666666663,
          27.851456666666667,
          27.88982,
          27.94718,
          28.017816666666665,
          28.091269999999998,
          28.171456666666668,
          28.275126666666665,
          28.347170000000002,
          28.375523333333334,
          28.366463333333336,
          28.38425333333333,
          28.414603333333336,
          28.455156666666667,
          28.45577666666667,
          28.4199,
          28.37362333333333,
          28.31210666666667,
          28.225443333333335,
          28.138813333333335,
          28.061276666666668,
          27.975070000000002,
          27.96091,
          27.951946666666668,
          27.917936666666666,
          27.886376666666667,
          27.85884,
          27.821493333333333,
          27.784443333333336,
          27.7434,
          27.70500666666667,
          27.651796666666666,
          27.57831,
          27.49828666666667,
          27.39632,
          27.274726666666666,
          27.159056666666668,
          27.06539333333333,
          27.008133333333333,
          26.973893333333333,
          26.94613,
          26.93795666666667,
          26.935409999999997,
          26.94545,
          26.97361,
          27.03862666666667,
          27.07345666666667,
          27.111363333333333,
          27.15345333333333,
          27.21634,
          27.272226666666665,
          27.296396666666666,
          27.292343333333335,
          27.29718666666667,
          27.313180000000003,
          27.364066666666666,
          27.398829999999997,
          27.442456666666665,
          27.451056666666666,
          27.418713333333336,
          27.41593333333333,
          27.469176666666666,
          27.600216666666665,
          27.764549999999996,
          27.93934666666667,
          28.136646666666667,
          28.32917,
          28.48294333333333,
          28.637756666666668,
          28.79280333333333,
          28.97646333333333,
          29.12127,
          29.284456666666667,
          29.421186666666664,
          29.540226666666666,
          29.655959999999997,
          29.79511,
          29.94197666666667,
          30.09182,
          30.239766666666664,
          30.373423333333335,
          30.54642,
          30.712093333333332,
          30.89457333333333,
          31.082909999999995,
          31.23337666666667,
          31.39905,
          31.550103333333333,
          31.722939999999998,
          31.938746666666663,
          32.12989666666667,
          32.24824666666667,
          32.2976,
          32.303356666666666,
          32.32147666666666,
          32.33691,
          32.35901333333333,
          32.399433333333334,
          32.429096666666666,
          32.435703333333336,
          32.44316,
          32.45676666666667,
          32.47220333333333,
          32.50147333333334,
          32.522956666666666,
          32.53561666666667,
          32.55772666666667,
          32.56135666666667,
          32.5696,
          32.57732,
          32.5871,
          32.59462,
          32.59321333333334,
          32.55439666666667,
          32.52708666666667,
          32.50638333333333,
          32.465046666666666,
          32.440196666666665,
          32.40759,
          32.376423333333335,
          32.34551666666667,
          32.34797,
          32.36239,
          32.36239,
          32.34989666666667,
          32.32762666666667,
          32.30918333333333,
          32.29067333333333,
          32.27795,
          32.26535666666667,
          32.22781333333334,
          32.18824333333333,
          32.13529666666667,
          32.08130333333333,
          32.02724333333334,
          31.976813333333332,
          31.901236666666666,
          31.842436666666668,
          31.791976666666663,
          31.736316666666664,
          31.67303666666667,
          31.607436666666665,
          31.529146666666666,
          31.467663333333334,
          31.415763333333334,
          31.35899,
          31.313436666666668,
          31.247046666666666,
          31.199923333333334,
          31.145343333333333,
          31.11800333333333,
          31.07693,
          31.02378666666667,
          30.978493333333333,
          30.921326666666666,
          30.87865,
          30.81763,
          30.737866666666665,
          30.667163333333335,
          30.61373,
          30.54996,
          30.48828,
          30.44534,
          30.374636666666667,
          30.308186666666664,
          30.24664,
          30.220343333333336,
          30.18492666666667,
          30.142053333333333,
          30.09941,
          30.079296666666668,
          30.049373333333335,
          30.036453333333334,
          30.02308,
          30.00009,
          29.933476666666667,
          29.869836666666668,
          29.840306666666667,
          29.80106,
          29.767310000000002,
          29.70501,
          29.662003333333335,
          29.645486666666667,
          29.631619999999998,
          29.626653333333334,
          29.62528,
          29.638393333333333,
          29.647453333333335,
          29.670250000000003,
          29.67767,
          29.688723333333332,
          29.72244,
          29.735356666666668,
          29.76466,
          29.785263333333333,
          29.804756666666666,
          29.787979999999997,
          29.773786666666663,
          29.73075,
          29.69399,
          29.647616666666668,
          29.589013333333334,
          29.508956666666666,
          29.44875,
          29.373206666666665,
          29.36235,
          29.365946666666666,
          29.34881,
          29.346063333333333,
          29.3217,
          29.309730000000002,
          29.28141,
          29.233176666666665,
          29.21440666666667,
          29.210739999999998,
          29.201810000000002,
          29.20272333333333,
          29.23323333333333,
          29.235879999999998,
          29.235453333333332,
          29.263413333333336,
          29.309523333333335
         ]
        },
        {
         "line": {
          "color": "rgba(55, 128, 191, 0.7999999999999998)",
          "dash": "solid",
          "shape": "linear",
          "width": 1.3
         },
         "mode": "lines",
         "name": "SMA(60)",
         "text": "",
         "type": "scatter",
         "x": [
          "2015-12-31",
          "2015-12-30",
          "2015-12-29",
          "2015-12-28",
          "2015-12-24",
          "2015-12-23",
          "2015-12-22",
          "2015-12-21",
          "2015-12-18",
          "2015-12-17",
          "2015-12-16",
          "2015-12-15",
          "2015-12-14",
          "2015-12-11",
          "2015-12-10",
          "2015-12-09",
          "2015-12-08",
          "2015-12-07",
          "2015-12-04",
          "2015-12-03",
          "2015-12-02",
          "2015-12-01",
          "2015-11-30",
          "2015-11-27",
          "2015-11-25",
          "2015-11-24",
          "2015-11-23",
          "2015-11-20",
          "2015-11-19",
          "2015-11-18",
          "2015-11-17",
          "2015-11-16",
          "2015-11-13",
          "2015-11-12",
          "2015-11-11",
          "2015-11-10",
          "2015-11-09",
          "2015-11-06",
          "2015-11-05",
          "2015-11-04",
          "2015-11-03",
          "2015-11-02",
          "2015-10-30",
          "2015-10-29",
          "2015-10-28",
          "2015-10-27",
          "2015-10-26",
          "2015-10-23",
          "2015-10-22",
          "2015-10-21",
          "2015-10-20",
          "2015-10-19",
          "2015-10-16",
          "2015-10-15",
          "2015-10-14",
          "2015-10-13",
          "2015-10-12",
          "2015-10-09",
          "2015-10-08",
          "2015-10-07",
          "2015-10-06",
          "2015-10-05",
          "2015-10-02",
          "2015-10-01",
          "2015-09-30",
          "2015-09-29",
          "2015-09-28",
          "2015-09-25",
          "2015-09-24",
          "2015-09-23",
          "2015-09-22",
          "2015-09-21",
          "2015-09-18",
          "2015-09-17",
          "2015-09-16",
          "2015-09-15",
          "2015-09-14",
          "2015-09-11",
          "2015-09-10",
          "2015-09-09",
          "2015-09-08",
          "2015-09-04",
          "2015-09-03",
          "2015-09-02",
          "2015-09-01",
          "2015-08-31",
          "2015-08-28",
          "2015-08-27",
          "2015-08-26",
          "2015-08-25",
          "2015-08-24",
          "2015-08-21",
          "2015-08-20",
          "2015-08-19",
          "2015-08-18",
          "2015-08-17",
          "2015-08-14",
          "2015-08-13",
          "2015-08-12",
          "2015-08-11",
          "2015-08-10",
          "2015-08-07",
          "2015-08-06",
          "2015-08-05",
          "2015-08-04",
          "2015-08-03",
          "2015-07-31",
          "2015-07-30",
          "2015-07-29",
          "2015-07-28",
          "2015-07-27",
          "2015-07-24",
          "2015-07-23",
          "2015-07-22",
          "2015-07-21",
          "2015-07-20",
          "2015-07-17",
          "2015-07-16",
          "2015-07-15",
          "2015-07-14",
          "2015-07-13",
          "2015-07-10",
          "2015-07-09",
          "2015-07-08",
          "2015-07-07",
          "2015-07-06",
          "2015-07-02",
          "2015-07-01",
          "2015-06-30",
          "2015-06-29",
          "2015-06-26",
          "2015-06-25",
          "2015-06-24",
          "2015-06-23",
          "2015-06-22",
          "2015-06-19",
          "2015-06-18",
          "2015-06-17",
          "2015-06-16",
          "2015-06-15",
          "2015-06-12",
          "2015-06-11",
          "2015-06-10",
          "2015-06-09",
          "2015-06-08",
          "2015-06-05",
          "2015-06-04",
          "2015-06-03",
          "2015-06-02",
          "2015-06-01",
          "2015-05-29",
          "2015-05-28",
          "2015-05-27",
          "2015-05-26",
          "2015-05-22",
          "2015-05-21",
          "2015-05-20",
          "2015-05-19",
          "2015-05-18",
          "2015-05-15",
          "2015-05-14",
          "2015-05-13",
          "2015-05-12",
          "2015-05-11",
          "2015-05-08",
          "2015-05-07",
          "2015-05-06",
          "2015-05-05",
          "2015-05-04",
          "2015-05-01",
          "2015-04-30",
          "2015-04-29",
          "2015-04-28",
          "2015-04-27",
          "2015-04-24",
          "2015-04-23",
          "2015-04-22",
          "2015-04-21",
          "2015-04-20",
          "2015-04-17",
          "2015-04-16",
          "2015-04-15",
          "2015-04-14",
          "2015-04-13",
          "2015-04-10",
          "2015-04-09",
          "2015-04-08",
          "2015-04-07",
          "2015-04-06",
          "2015-04-02",
          "2015-04-01",
          "2015-03-31",
          "2015-03-30",
          "2015-03-27",
          "2015-03-26",
          "2015-03-25",
          "2015-03-24",
          "2015-03-23",
          "2015-03-20",
          "2015-03-19",
          "2015-03-18",
          "2015-03-17",
          "2015-03-16",
          "2015-03-13",
          "2015-03-12",
          "2015-03-11",
          "2015-03-10",
          "2015-03-09",
          "2015-03-06",
          "2015-03-05",
          "2015-03-04",
          "2015-03-03",
          "2015-03-02",
          "2015-02-27",
          "2015-02-26",
          "2015-02-25",
          "2015-02-24",
          "2015-02-23",
          "2015-02-20",
          "2015-02-19",
          "2015-02-18",
          "2015-02-17",
          "2015-02-13",
          "2015-02-12",
          "2015-02-11",
          "2015-02-10",
          "2015-02-09",
          "2015-02-06",
          "2015-02-05",
          "2015-02-04",
          "2015-02-03",
          "2015-02-02",
          "2015-01-30",
          "2015-01-29",
          "2015-01-28",
          "2015-01-27",
          "2015-01-26",
          "2015-01-23",
          "2015-01-22",
          "2015-01-21",
          "2015-01-20",
          "2015-01-16",
          "2015-01-15",
          "2015-01-14",
          "2015-01-13",
          "2015-01-12",
          "2015-01-09",
          "2015-01-08",
          "2015-01-07",
          "2015-01-06",
          "2015-01-05",
          "2015-01-02"
         ],
         "y": [
          "",
          "",
          "",
          "",
          "",
          "",
          "",
          "",
          "",
          "",
          "",
          "",
          "",
          "",
          "",
          "",
          "",
          "",
          "",
          "",
          "",
          "",
          "",
          "",
          "",
          "",
          "",
          "",
          "",
          "",
          "",
          "",
          "",
          "",
          "",
          "",
          "",
          "",
          "",
          "",
          "",
          "",
          "",
          "",
          "",
          "",
          "",
          "",
          "",
          "",
          "",
          "",
          "",
          "",
          "",
          "",
          "",
          "",
          "",
          27.747358333333334,
          27.75290166666667,
          27.751626666666667,
          27.734065,
          27.722733333333334,
          27.707068333333336,
          27.682998333333334,
          27.665256666666664,
          27.67026,
          27.67765166666667,
          27.67470833333333,
          27.656296666666666,
          27.661105000000003,
          27.67500666666667,
          27.700303333333334,
          27.714693333333333,
          27.729263333333336,
          27.72354,
          27.711734999999997,
          27.689448333333335,
          27.677576666666667,
          27.666751666666666,
          27.635733333333334,
          27.626626666666667,
          27.624566666666666,
          27.615558333333336,
          27.62522166666667,
          27.628835,
          27.631975,
          27.61775,
          27.581056666666665,
          27.56047,
          27.56048666666667,
          27.589263333333335,
          27.631418333333333,
          27.66783333333333,
          27.70568666666667,
          27.744113333333335,
          27.774168333333332,
          27.822945,
          27.883348333333334,
          27.96129666666667,
          28.02961333333333,
          28.109933333333334,
          28.183318333333332,
          28.256918333333335,
          28.347293333333333,
          28.434283333333333,
          28.52667,
          28.62263666666667,
          28.72805333333333,
          28.822825,
          28.921408333333332,
          29.002218333333335,
          29.09588,
          29.198045,
          29.298721666666665,
          29.39894,
          29.496280000000002,
          29.586998333333334,
          29.678729999999998,
          29.772914999999998,
          29.858711666666668,
          29.948908333333335,
          30.033953333333333,
          30.130411666666664,
          30.236778333333334,
          30.344091666666667,
          30.441188333333333,
          30.533426666666667,
          30.614253333333334,
          30.709811666666667,
          30.78901833333333,
          30.87833,
          30.96133,
          31.031591666666667,
          31.095788333333335,
          31.176418333333334,
          31.251666666666665,
          31.33071,
          31.408543333333334,
          31.480261666666664,
          31.57052,
          31.652653333333333,
          31.724485,
          31.804998333333334,
          31.869880000000002,
          31.932048333333334,
          31.995150000000002,
          32.065265,
          32.157585,
          32.23770666666667,
          32.29810833333333,
          32.329995000000004,
          32.33287333333333,
          32.33568666666667,
          32.33226833333333,
          32.33409833333334,
          32.34505333333333,
          32.353523333333335,
          32.35053,
          32.33548666666666,
          32.322505,
          32.30375,
          32.29138833333334,
          32.275099999999995,
          32.256215000000005,
          32.229481666666665,
          32.20189666666667,
          32.18078833333333,
          32.156818333333334,
          32.130068333333334,
          32.10102833333333,
          32.06118,
          32.01103,
          31.971425,
          31.93268666666667,
          31.88924166666667,
          31.843621666666664,
          31.803756666666665,
          31.760883333333332,
          31.73176,
          31.71245,
          31.693088333333332,
          31.670441666666665,
          31.635611666666666,
          31.603138333333334,
          31.563406666666666,
          31.51427,
          31.472556666666666,
          31.439543333333337,
          31.388886666666668,
          31.338261666666668,
          31.290318333333335,
          31.227970000000003,
          31.167715,
          31.111726666666666,
          31.06079,
          31.01368166666667,
          30.967015,
          30.917863333333333,
          30.876166666666666,
          30.828404999999997,
          30.7828,
          30.745371666666664,
          30.707926666666665,
          30.64623333333333,
          30.59163666666667,
          30.543676666666666,
          30.50049166666667,
          30.456326666666666,
          30.411506666666664,
          30.369466666666664,
          30.334636666666665,
          30.305056666666665,
          30.27399,
          30.251965000000002,
          30.228011666666667,
          30.19266,
          30.168706666666665,
          30.145699999999998,
          30.11934166666667,
          30.10536,
          30.090348333333335,
          30.06964833333333,
          30.046725,
          30.02569833333333,
          30.00416166666667,
          29.979356666666668,
          29.936401666666665,
          29.8967,
          29.863456666666664,
          29.81919333333333,
          29.772705,
          29.735915,
          29.686648333333334,
          29.64791333333333,
          29.617891666666665,
          29.594558333333335,
          29.573561666666667,
          29.544505,
          29.507369999999998,
          29.471706666666666,
          29.439331666666664,
          29.423013333333333,
          29.41869666666667,
          29.413545,
          29.420558333333336,
          29.440343333333335,
          29.453065,
          29.456561666666666,
          29.476068333333334,
          29.51598166666667
         ]
        }
       ],
       "layout": {
        "legend": {
         "bgcolor": "#F5F6F9",
         "font": {
          "color": "#4D5663"
         }
        },
        "paper_bgcolor": "#F5F6F9",
        "plot_bgcolor": "#F5F6F9",
        "template": {
         "data": {
          "bar": [
           {
            "error_x": {
             "color": "#2a3f5f"
            },
            "error_y": {
             "color": "#2a3f5f"
            },
            "marker": {
             "line": {
              "color": "#E5ECF6",
              "width": 0.5
             },
             "pattern": {
              "fillmode": "overlay",
              "size": 10,
              "solidity": 0.2
             }
            },
            "type": "bar"
           }
          ],
          "barpolar": [
           {
            "marker": {
             "line": {
              "color": "#E5ECF6",
              "width": 0.5
             },
             "pattern": {
              "fillmode": "overlay",
              "size": 10,
              "solidity": 0.2
             }
            },
            "type": "barpolar"
           }
          ],
          "carpet": [
           {
            "aaxis": {
             "endlinecolor": "#2a3f5f",
             "gridcolor": "white",
             "linecolor": "white",
             "minorgridcolor": "white",
             "startlinecolor": "#2a3f5f"
            },
            "baxis": {
             "endlinecolor": "#2a3f5f",
             "gridcolor": "white",
             "linecolor": "white",
             "minorgridcolor": "white",
             "startlinecolor": "#2a3f5f"
            },
            "type": "carpet"
           }
          ],
          "choropleth": [
           {
            "colorbar": {
             "outlinewidth": 0,
             "ticks": ""
            },
            "type": "choropleth"
           }
          ],
          "contour": [
           {
            "colorbar": {
             "outlinewidth": 0,
             "ticks": ""
            },
            "colorscale": [
             [
              0,
              "#0d0887"
             ],
             [
              0.1111111111111111,
              "#46039f"
             ],
             [
              0.2222222222222222,
              "#7201a8"
             ],
             [
              0.3333333333333333,
              "#9c179e"
             ],
             [
              0.4444444444444444,
              "#bd3786"
             ],
             [
              0.5555555555555556,
              "#d8576b"
             ],
             [
              0.6666666666666666,
              "#ed7953"
             ],
             [
              0.7777777777777778,
              "#fb9f3a"
             ],
             [
              0.8888888888888888,
              "#fdca26"
             ],
             [
              1,
              "#f0f921"
             ]
            ],
            "type": "contour"
           }
          ],
          "contourcarpet": [
           {
            "colorbar": {
             "outlinewidth": 0,
             "ticks": ""
            },
            "type": "contourcarpet"
           }
          ],
          "heatmap": [
           {
            "colorbar": {
             "outlinewidth": 0,
             "ticks": ""
            },
            "colorscale": [
             [
              0,
              "#0d0887"
             ],
             [
              0.1111111111111111,
              "#46039f"
             ],
             [
              0.2222222222222222,
              "#7201a8"
             ],
             [
              0.3333333333333333,
              "#9c179e"
             ],
             [
              0.4444444444444444,
              "#bd3786"
             ],
             [
              0.5555555555555556,
              "#d8576b"
             ],
             [
              0.6666666666666666,
              "#ed7953"
             ],
             [
              0.7777777777777778,
              "#fb9f3a"
             ],
             [
              0.8888888888888888,
              "#fdca26"
             ],
             [
              1,
              "#f0f921"
             ]
            ],
            "type": "heatmap"
           }
          ],
          "heatmapgl": [
           {
            "colorbar": {
             "outlinewidth": 0,
             "ticks": ""
            },
            "colorscale": [
             [
              0,
              "#0d0887"
             ],
             [
              0.1111111111111111,
              "#46039f"
             ],
             [
              0.2222222222222222,
              "#7201a8"
             ],
             [
              0.3333333333333333,
              "#9c179e"
             ],
             [
              0.4444444444444444,
              "#bd3786"
             ],
             [
              0.5555555555555556,
              "#d8576b"
             ],
             [
              0.6666666666666666,
              "#ed7953"
             ],
             [
              0.7777777777777778,
              "#fb9f3a"
             ],
             [
              0.8888888888888888,
              "#fdca26"
             ],
             [
              1,
              "#f0f921"
             ]
            ],
            "type": "heatmapgl"
           }
          ],
          "histogram": [
           {
            "marker": {
             "pattern": {
              "fillmode": "overlay",
              "size": 10,
              "solidity": 0.2
             }
            },
            "type": "histogram"
           }
          ],
          "histogram2d": [
           {
            "colorbar": {
             "outlinewidth": 0,
             "ticks": ""
            },
            "colorscale": [
             [
              0,
              "#0d0887"
             ],
             [
              0.1111111111111111,
              "#46039f"
             ],
             [
              0.2222222222222222,
              "#7201a8"
             ],
             [
              0.3333333333333333,
              "#9c179e"
             ],
             [
              0.4444444444444444,
              "#bd3786"
             ],
             [
              0.5555555555555556,
              "#d8576b"
             ],
             [
              0.6666666666666666,
              "#ed7953"
             ],
             [
              0.7777777777777778,
              "#fb9f3a"
             ],
             [
              0.8888888888888888,
              "#fdca26"
             ],
             [
              1,
              "#f0f921"
             ]
            ],
            "type": "histogram2d"
           }
          ],
          "histogram2dcontour": [
           {
            "colorbar": {
             "outlinewidth": 0,
             "ticks": ""
            },
            "colorscale": [
             [
              0,
              "#0d0887"
             ],
             [
              0.1111111111111111,
              "#46039f"
             ],
             [
              0.2222222222222222,
              "#7201a8"
             ],
             [
              0.3333333333333333,
              "#9c179e"
             ],
             [
              0.4444444444444444,
              "#bd3786"
             ],
             [
              0.5555555555555556,
              "#d8576b"
             ],
             [
              0.6666666666666666,
              "#ed7953"
             ],
             [
              0.7777777777777778,
              "#fb9f3a"
             ],
             [
              0.8888888888888888,
              "#fdca26"
             ],
             [
              1,
              "#f0f921"
             ]
            ],
            "type": "histogram2dcontour"
           }
          ],
          "mesh3d": [
           {
            "colorbar": {
             "outlinewidth": 0,
             "ticks": ""
            },
            "type": "mesh3d"
           }
          ],
          "parcoords": [
           {
            "line": {
             "colorbar": {
              "outlinewidth": 0,
              "ticks": ""
             }
            },
            "type": "parcoords"
           }
          ],
          "pie": [
           {
            "automargin": true,
            "type": "pie"
           }
          ],
          "scatter": [
           {
            "fillpattern": {
             "fillmode": "overlay",
             "size": 10,
             "solidity": 0.2
            },
            "type": "scatter"
           }
          ],
          "scatter3d": [
           {
            "line": {
             "colorbar": {
              "outlinewidth": 0,
              "ticks": ""
             }
            },
            "marker": {
             "colorbar": {
              "outlinewidth": 0,
              "ticks": ""
             }
            },
            "type": "scatter3d"
           }
          ],
          "scattercarpet": [
           {
            "marker": {
             "colorbar": {
              "outlinewidth": 0,
              "ticks": ""
             }
            },
            "type": "scattercarpet"
           }
          ],
          "scattergeo": [
           {
            "marker": {
             "colorbar": {
              "outlinewidth": 0,
              "ticks": ""
             }
            },
            "type": "scattergeo"
           }
          ],
          "scattergl": [
           {
            "marker": {
             "colorbar": {
              "outlinewidth": 0,
              "ticks": ""
             }
            },
            "type": "scattergl"
           }
          ],
          "scattermapbox": [
           {
            "marker": {
             "colorbar": {
              "outlinewidth": 0,
              "ticks": ""
             }
            },
            "type": "scattermapbox"
           }
          ],
          "scatterpolar": [
           {
            "marker": {
             "colorbar": {
              "outlinewidth": 0,
              "ticks": ""
             }
            },
            "type": "scatterpolar"
           }
          ],
          "scatterpolargl": [
           {
            "marker": {
             "colorbar": {
              "outlinewidth": 0,
              "ticks": ""
             }
            },
            "type": "scatterpolargl"
           }
          ],
          "scatterternary": [
           {
            "marker": {
             "colorbar": {
              "outlinewidth": 0,
              "ticks": ""
             }
            },
            "type": "scatterternary"
           }
          ],
          "surface": [
           {
            "colorbar": {
             "outlinewidth": 0,
             "ticks": ""
            },
            "colorscale": [
             [
              0,
              "#0d0887"
             ],
             [
              0.1111111111111111,
              "#46039f"
             ],
             [
              0.2222222222222222,
              "#7201a8"
             ],
             [
              0.3333333333333333,
              "#9c179e"
             ],
             [
              0.4444444444444444,
              "#bd3786"
             ],
             [
              0.5555555555555556,
              "#d8576b"
             ],
             [
              0.6666666666666666,
              "#ed7953"
             ],
             [
              0.7777777777777778,
              "#fb9f3a"
             ],
             [
              0.8888888888888888,
              "#fdca26"
             ],
             [
              1,
              "#f0f921"
             ]
            ],
            "type": "surface"
           }
          ],
          "table": [
           {
            "cells": {
             "fill": {
              "color": "#EBF0F8"
             },
             "line": {
              "color": "white"
             }
            },
            "header": {
             "fill": {
              "color": "#C8D4E3"
             },
             "line": {
              "color": "white"
             }
            },
            "type": "table"
           }
          ]
         },
         "layout": {
          "annotationdefaults": {
           "arrowcolor": "#2a3f5f",
           "arrowhead": 0,
           "arrowwidth": 1
          },
          "autotypenumbers": "strict",
          "coloraxis": {
           "colorbar": {
            "outlinewidth": 0,
            "ticks": ""
           }
          },
          "colorscale": {
           "diverging": [
            [
             0,
             "#8e0152"
            ],
            [
             0.1,
             "#c51b7d"
            ],
            [
             0.2,
             "#de77ae"
            ],
            [
             0.3,
             "#f1b6da"
            ],
            [
             0.4,
             "#fde0ef"
            ],
            [
             0.5,
             "#f7f7f7"
            ],
            [
             0.6,
             "#e6f5d0"
            ],
            [
             0.7,
             "#b8e186"
            ],
            [
             0.8,
             "#7fbc41"
            ],
            [
             0.9,
             "#4d9221"
            ],
            [
             1,
             "#276419"
            ]
           ],
           "sequential": [
            [
             0,
             "#0d0887"
            ],
            [
             0.1111111111111111,
             "#46039f"
            ],
            [
             0.2222222222222222,
             "#7201a8"
            ],
            [
             0.3333333333333333,
             "#9c179e"
            ],
            [
             0.4444444444444444,
             "#bd3786"
            ],
            [
             0.5555555555555556,
             "#d8576b"
            ],
            [
             0.6666666666666666,
             "#ed7953"
            ],
            [
             0.7777777777777778,
             "#fb9f3a"
            ],
            [
             0.8888888888888888,
             "#fdca26"
            ],
            [
             1,
             "#f0f921"
            ]
           ],
           "sequentialminus": [
            [
             0,
             "#0d0887"
            ],
            [
             0.1111111111111111,
             "#46039f"
            ],
            [
             0.2222222222222222,
             "#7201a8"
            ],
            [
             0.3333333333333333,
             "#9c179e"
            ],
            [
             0.4444444444444444,
             "#bd3786"
            ],
            [
             0.5555555555555556,
             "#d8576b"
            ],
            [
             0.6666666666666666,
             "#ed7953"
            ],
            [
             0.7777777777777778,
             "#fb9f3a"
            ],
            [
             0.8888888888888888,
             "#fdca26"
            ],
            [
             1,
             "#f0f921"
            ]
           ]
          },
          "colorway": [
           "#636efa",
           "#EF553B",
           "#00cc96",
           "#ab63fa",
           "#FFA15A",
           "#19d3f3",
           "#FF6692",
           "#B6E880",
           "#FF97FF",
           "#FECB52"
          ],
          "font": {
           "color": "#2a3f5f"
          },
          "geo": {
           "bgcolor": "white",
           "lakecolor": "white",
           "landcolor": "#E5ECF6",
           "showlakes": true,
           "showland": true,
           "subunitcolor": "white"
          },
          "hoverlabel": {
           "align": "left"
          },
          "hovermode": "closest",
          "mapbox": {
           "style": "light"
          },
          "paper_bgcolor": "white",
          "plot_bgcolor": "#E5ECF6",
          "polar": {
           "angularaxis": {
            "gridcolor": "white",
            "linecolor": "white",
            "ticks": ""
           },
           "bgcolor": "#E5ECF6",
           "radialaxis": {
            "gridcolor": "white",
            "linecolor": "white",
            "ticks": ""
           }
          },
          "scene": {
           "xaxis": {
            "backgroundcolor": "#E5ECF6",
            "gridcolor": "white",
            "gridwidth": 2,
            "linecolor": "white",
            "showbackground": true,
            "ticks": "",
            "zerolinecolor": "white"
           },
           "yaxis": {
            "backgroundcolor": "#E5ECF6",
            "gridcolor": "white",
            "gridwidth": 2,
            "linecolor": "white",
            "showbackground": true,
            "ticks": "",
            "zerolinecolor": "white"
           },
           "zaxis": {
            "backgroundcolor": "#E5ECF6",
            "gridcolor": "white",
            "gridwidth": 2,
            "linecolor": "white",
            "showbackground": true,
            "ticks": "",
            "zerolinecolor": "white"
           }
          },
          "shapedefaults": {
           "line": {
            "color": "#2a3f5f"
           }
          },
          "ternary": {
           "aaxis": {
            "gridcolor": "white",
            "linecolor": "white",
            "ticks": ""
           },
           "baxis": {
            "gridcolor": "white",
            "linecolor": "white",
            "ticks": ""
           },
           "bgcolor": "#E5ECF6",
           "caxis": {
            "gridcolor": "white",
            "linecolor": "white",
            "ticks": ""
           }
          },
          "title": {
           "x": 0.05
          },
          "xaxis": {
           "automargin": true,
           "gridcolor": "white",
           "linecolor": "white",
           "ticks": "",
           "title": {
            "standoff": 15
           },
           "zerolinecolor": "white",
           "zerolinewidth": 2
          },
          "yaxis": {
           "automargin": true,
           "gridcolor": "white",
           "linecolor": "white",
           "ticks": "",
           "title": {
            "standoff": 15
           },
           "zerolinecolor": "white",
           "zerolinewidth": 2
          }
         }
        },
        "title": {
         "font": {
          "color": "#4D5663"
         }
        },
        "xaxis": {
         "gridcolor": "#E1E5ED",
         "showgrid": true,
         "tickfont": {
          "color": "#4D5663"
         },
         "title": {
          "font": {
           "color": "#4D5663"
          },
          "text": ""
         },
         "zerolinecolor": "#E1E5ED"
        },
        "yaxis": {
         "gridcolor": "#E1E5ED",
         "showgrid": true,
         "tickfont": {
          "color": "#4D5663"
         },
         "title": {
          "font": {
           "color": "#4D5663"
          },
          "text": ""
         },
         "zerolinecolor": "#E1E5ED"
        }
       }
      },
      "text/html": [
       "<div>                            <div id=\"cbcdad3a-50f0-421e-a039-03dd047b3301\" class=\"plotly-graph-div\" style=\"height:525px; width:100%;\"></div>            <script type=\"text/javascript\">                require([\"plotly\"], function(Plotly) {                    window.PLOTLYENV=window.PLOTLYENV || {};\n",
       "                    window.PLOTLYENV.BASE_URL='https://plot.ly';                                    if (document.getElementById(\"cbcdad3a-50f0-421e-a039-03dd047b3301\")) {                    Plotly.newPlot(                        \"cbcdad3a-50f0-421e-a039-03dd047b3301\",                        [{\"line\":{\"color\":\"rgba(255, 153, 51, 1.0)\",\"dash\":\"solid\",\"shape\":\"linear\",\"width\":1.3},\"mode\":\"lines\",\"name\":\"Close\",\"text\":\"\",\"x\":[\"2015-12-31\",\"2015-12-30\",\"2015-12-29\",\"2015-12-28\",\"2015-12-24\",\"2015-12-23\",\"2015-12-22\",\"2015-12-21\",\"2015-12-18\",\"2015-12-17\",\"2015-12-16\",\"2015-12-15\",\"2015-12-14\",\"2015-12-11\",\"2015-12-10\",\"2015-12-09\",\"2015-12-08\",\"2015-12-07\",\"2015-12-04\",\"2015-12-03\",\"2015-12-02\",\"2015-12-01\",\"2015-11-30\",\"2015-11-27\",\"2015-11-25\",\"2015-11-24\",\"2015-11-23\",\"2015-11-20\",\"2015-11-19\",\"2015-11-18\",\"2015-11-17\",\"2015-11-16\",\"2015-11-13\",\"2015-11-12\",\"2015-11-11\",\"2015-11-10\",\"2015-11-09\",\"2015-11-06\",\"2015-11-05\",\"2015-11-04\",\"2015-11-03\",\"2015-11-02\",\"2015-10-30\",\"2015-10-29\",\"2015-10-28\",\"2015-10-27\",\"2015-10-26\",\"2015-10-23\",\"2015-10-22\",\"2015-10-21\",\"2015-10-20\",\"2015-10-19\",\"2015-10-16\",\"2015-10-15\",\"2015-10-14\",\"2015-10-13\",\"2015-10-12\",\"2015-10-09\",\"2015-10-08\",\"2015-10-07\",\"2015-10-06\",\"2015-10-05\",\"2015-10-02\",\"2015-10-01\",\"2015-09-30\",\"2015-09-29\",\"2015-09-28\",\"2015-09-25\",\"2015-09-24\",\"2015-09-23\",\"2015-09-22\",\"2015-09-21\",\"2015-09-18\",\"2015-09-17\",\"2015-09-16\",\"2015-09-15\",\"2015-09-14\",\"2015-09-11\",\"2015-09-10\",\"2015-09-09\",\"2015-09-08\",\"2015-09-04\",\"2015-09-03\",\"2015-09-02\",\"2015-09-01\",\"2015-08-31\",\"2015-08-28\",\"2015-08-27\",\"2015-08-26\",\"2015-08-25\",\"2015-08-24\",\"2015-08-21\",\"2015-08-20\",\"2015-08-19\",\"2015-08-18\",\"2015-08-17\",\"2015-08-14\",\"2015-08-13\",\"2015-08-12\",\"2015-08-11\",\"2015-08-10\",\"2015-08-07\",\"2015-08-06\",\"2015-08-05\",\"2015-08-04\",\"2015-08-03\",\"2015-07-31\",\"2015-07-30\",\"2015-07-29\",\"2015-07-28\",\"2015-07-27\",\"2015-07-24\",\"2015-07-23\",\"2015-07-22\",\"2015-07-21\",\"2015-07-20\",\"2015-07-17\",\"2015-07-16\",\"2015-07-15\",\"2015-07-14\",\"2015-07-13\",\"2015-07-10\",\"2015-07-09\",\"2015-07-08\",\"2015-07-07\",\"2015-07-06\",\"2015-07-02\",\"2015-07-01\",\"2015-06-30\",\"2015-06-29\",\"2015-06-26\",\"2015-06-25\",\"2015-06-24\",\"2015-06-23\",\"2015-06-22\",\"2015-06-19\",\"2015-06-18\",\"2015-06-17\",\"2015-06-16\",\"2015-06-15\",\"2015-06-12\",\"2015-06-11\",\"2015-06-10\",\"2015-06-09\",\"2015-06-08\",\"2015-06-05\",\"2015-06-04\",\"2015-06-03\",\"2015-06-02\",\"2015-06-01\",\"2015-05-29\",\"2015-05-28\",\"2015-05-27\",\"2015-05-26\",\"2015-05-22\",\"2015-05-21\",\"2015-05-20\",\"2015-05-19\",\"2015-05-18\",\"2015-05-15\",\"2015-05-14\",\"2015-05-13\",\"2015-05-12\",\"2015-05-11\",\"2015-05-08\",\"2015-05-07\",\"2015-05-06\",\"2015-05-05\",\"2015-05-04\",\"2015-05-01\",\"2015-04-30\",\"2015-04-29\",\"2015-04-28\",\"2015-04-27\",\"2015-04-24\",\"2015-04-23\",\"2015-04-22\",\"2015-04-21\",\"2015-04-20\",\"2015-04-17\",\"2015-04-16\",\"2015-04-15\",\"2015-04-14\",\"2015-04-13\",\"2015-04-10\",\"2015-04-09\",\"2015-04-08\",\"2015-04-07\",\"2015-04-06\",\"2015-04-02\",\"2015-04-01\",\"2015-03-31\",\"2015-03-30\",\"2015-03-27\",\"2015-03-26\",\"2015-03-25\",\"2015-03-24\",\"2015-03-23\",\"2015-03-20\",\"2015-03-19\",\"2015-03-18\",\"2015-03-17\",\"2015-03-16\",\"2015-03-13\",\"2015-03-12\",\"2015-03-11\",\"2015-03-10\",\"2015-03-09\",\"2015-03-06\",\"2015-03-05\",\"2015-03-04\",\"2015-03-03\",\"2015-03-02\",\"2015-02-27\",\"2015-02-26\",\"2015-02-25\",\"2015-02-24\",\"2015-02-23\",\"2015-02-20\",\"2015-02-19\",\"2015-02-18\",\"2015-02-17\",\"2015-02-13\",\"2015-02-12\",\"2015-02-11\",\"2015-02-10\",\"2015-02-09\",\"2015-02-06\",\"2015-02-05\",\"2015-02-04\",\"2015-02-03\",\"2015-02-02\",\"2015-01-30\",\"2015-01-29\",\"2015-01-28\",\"2015-01-27\",\"2015-01-26\",\"2015-01-23\",\"2015-01-22\",\"2015-01-21\",\"2015-01-20\",\"2015-01-16\",\"2015-01-15\",\"2015-01-14\",\"2015-01-13\",\"2015-01-12\",\"2015-01-09\",\"2015-01-08\",\"2015-01-07\",\"2015-01-06\",\"2015-01-05\",\"2015-01-02\"],\"y\":[26.5229,26.8721,27.138,26.8211,27.0811,27.1792,26.8653,26.4139,26.0902,26.9977,28.0259,27.3823,26.5787,26.7455,27.865,27.8218,28.4007,28.9148,29.4465,28.7225,29.0884,29.4073,28.5949,28.1633,28.0259,28.0073,28.0465,28.2741,28.4899,28.5567,28.0073,28.3919,28.2889,28.5419,29.2002,29.3828,29.2709,29.524,28.2515,27.8483,27.7541,27.916,27.4892,27.9621,27.8836,26.7455,27.0124,27.0693,26.8466,26.1236,26.7623,26.8211,28.1701,27.8944,27.0056,27.0605,27.2204,27.1537,27.3784,27.3254,26.8555,26.7956,26.0843,26.1412,26.1412,25.735,25.8008,26.7141,26.5337,26.8211,26.9212,27.6708,27.4128,28.2633,28.7284,28.696,28.0573,28.2065,28.1093,28.0102,28.4389,27.5462,28.0485,28.0397,27.4854,28.5871,28.2633,28.4625,27.6364,26.3551,26.7721,28.3929,30.0155,31.0712,31.3851,31.654,31.5765,31.3273,31.1781,31.4725,32.431,32.015,32.3084,32.3652,32.2996,32.168,32.2318,32.6125,32.6046,32.4486,32.4486,32.7361,33.0187,33.5141,33.1355,33.1011,33.2335,32.9941,32.8215,32.8293,32.5066,31.9434,31.4961,31.2439,31.9287,32.117,32.2396,32.5399,32.068,31.6707,32.6547,32.4232,32.7715,33.2433,32.9441,32.5478,32.8951,32.7214,32.8519,32.6802,32.742,32.9617,32.9765,32.3496,32.3162,32.48,31.9934,32.2486,31.8433,31.8943,31.5794,32.017,31.9287,31.2439,31.5539,31.4489,31.6863,31.9846,31.6863,31.2929,31.5284,31.2361,31.1831,31.6235,31.3223,31.0349,30.6278,30.9574,31.3381,31.0104,30.8436,30.9937,30.6278,30.5051,30.7592,30.7768,30.6268,30.2569,30.4296,30.2569,30.7592,30.7848,30.3344,29.8851,29.8389,30.1686,29.8557,29.5917,29.5652,29.6899,29.6153,29.3857,29.8949,29.5024,29.3288,29.1885,29.8389,29.8949,30.0519,29.7311,30.2402,30.096,30.2402,30.1039,30.0695,28.7784,28.7176,29.371,29.2522,29.2444,28.8902,29.4946,29.8389,29.4691,29.6899,30.1274,30.2491,29.8635,30.2491,29.9125,29.9469,30.3972,30.2824,30.3815,29.9469,29.7733,29.3356,29.4691,28.7608,28.6283,28.849,28.3379,27.8385,28.2977,27.8032,28.4527,28.8255,28.8569,29.1698,28.5135,28.5311,28.645,28.3919,28.906,29.5799,29.8595,30.2765,30.7788,30.3285,29.8997,30.7857,31.7805],\"type\":\"scatter\"},{\"line\":{\"color\":\"rgba(55, 128, 191, 1.0)\",\"dash\":\"solid\",\"shape\":\"linear\",\"width\":1.3},\"mode\":\"lines\",\"name\":\"SMA(15)\",\"text\":\"\",\"x\":[\"2015-12-31\",\"2015-12-30\",\"2015-12-29\",\"2015-12-28\",\"2015-12-24\",\"2015-12-23\",\"2015-12-22\",\"2015-12-21\",\"2015-12-18\",\"2015-12-17\",\"2015-12-16\",\"2015-12-15\",\"2015-12-14\",\"2015-12-11\",\"2015-12-10\",\"2015-12-09\",\"2015-12-08\",\"2015-12-07\",\"2015-12-04\",\"2015-12-03\",\"2015-12-02\",\"2015-12-01\",\"2015-11-30\",\"2015-11-27\",\"2015-11-25\",\"2015-11-24\",\"2015-11-23\",\"2015-11-20\",\"2015-11-19\",\"2015-11-18\",\"2015-11-17\",\"2015-11-16\",\"2015-11-13\",\"2015-11-12\",\"2015-11-11\",\"2015-11-10\",\"2015-11-09\",\"2015-11-06\",\"2015-11-05\",\"2015-11-04\",\"2015-11-03\",\"2015-11-02\",\"2015-10-30\",\"2015-10-29\",\"2015-10-28\",\"2015-10-27\",\"2015-10-26\",\"2015-10-23\",\"2015-10-22\",\"2015-10-21\",\"2015-10-20\",\"2015-10-19\",\"2015-10-16\",\"2015-10-15\",\"2015-10-14\",\"2015-10-13\",\"2015-10-12\",\"2015-10-09\",\"2015-10-08\",\"2015-10-07\",\"2015-10-06\",\"2015-10-05\",\"2015-10-02\",\"2015-10-01\",\"2015-09-30\",\"2015-09-29\",\"2015-09-28\",\"2015-09-25\",\"2015-09-24\",\"2015-09-23\",\"2015-09-22\",\"2015-09-21\",\"2015-09-18\",\"2015-09-17\",\"2015-09-16\",\"2015-09-15\",\"2015-09-14\",\"2015-09-11\",\"2015-09-10\",\"2015-09-09\",\"2015-09-08\",\"2015-09-04\",\"2015-09-03\",\"2015-09-02\",\"2015-09-01\",\"2015-08-31\",\"2015-08-28\",\"2015-08-27\",\"2015-08-26\",\"2015-08-25\",\"2015-08-24\",\"2015-08-21\",\"2015-08-20\",\"2015-08-19\",\"2015-08-18\",\"2015-08-17\",\"2015-08-14\",\"2015-08-13\",\"2015-08-12\",\"2015-08-11\",\"2015-08-10\",\"2015-08-07\",\"2015-08-06\",\"2015-08-05\",\"2015-08-04\",\"2015-08-03\",\"2015-07-31\",\"2015-07-30\",\"2015-07-29\",\"2015-07-28\",\"2015-07-27\",\"2015-07-24\",\"2015-07-23\",\"2015-07-22\",\"2015-07-21\",\"2015-07-20\",\"2015-07-17\",\"2015-07-16\",\"2015-07-15\",\"2015-07-14\",\"2015-07-13\",\"2015-07-10\",\"2015-07-09\",\"2015-07-08\",\"2015-07-07\",\"2015-07-06\",\"2015-07-02\",\"2015-07-01\",\"2015-06-30\",\"2015-06-29\",\"2015-06-26\",\"2015-06-25\",\"2015-06-24\",\"2015-06-23\",\"2015-06-22\",\"2015-06-19\",\"2015-06-18\",\"2015-06-17\",\"2015-06-16\",\"2015-06-15\",\"2015-06-12\",\"2015-06-11\",\"2015-06-10\",\"2015-06-09\",\"2015-06-08\",\"2015-06-05\",\"2015-06-04\",\"2015-06-03\",\"2015-06-02\",\"2015-06-01\",\"2015-05-29\",\"2015-05-28\",\"2015-05-27\",\"2015-05-26\",\"2015-05-22\",\"2015-05-21\",\"2015-05-20\",\"2015-05-19\",\"2015-05-18\",\"2015-05-15\",\"2015-05-14\",\"2015-05-13\",\"2015-05-12\",\"2015-05-11\",\"2015-05-08\",\"2015-05-07\",\"2015-05-06\",\"2015-05-05\",\"2015-05-04\",\"2015-05-01\",\"2015-04-30\",\"2015-04-29\",\"2015-04-28\",\"2015-04-27\",\"2015-04-24\",\"2015-04-23\",\"2015-04-22\",\"2015-04-21\",\"2015-04-20\",\"2015-04-17\",\"2015-04-16\",\"2015-04-15\",\"2015-04-14\",\"2015-04-13\",\"2015-04-10\",\"2015-04-09\",\"2015-04-08\",\"2015-04-07\",\"2015-04-06\",\"2015-04-02\",\"2015-04-01\",\"2015-03-31\",\"2015-03-30\",\"2015-03-27\",\"2015-03-26\",\"2015-03-25\",\"2015-03-24\",\"2015-03-23\",\"2015-03-20\",\"2015-03-19\",\"2015-03-18\",\"2015-03-17\",\"2015-03-16\",\"2015-03-13\",\"2015-03-12\",\"2015-03-11\",\"2015-03-10\",\"2015-03-09\",\"2015-03-06\",\"2015-03-05\",\"2015-03-04\",\"2015-03-03\",\"2015-03-02\",\"2015-02-27\",\"2015-02-26\",\"2015-02-25\",\"2015-02-24\",\"2015-02-23\",\"2015-02-20\",\"2015-02-19\",\"2015-02-18\",\"2015-02-17\",\"2015-02-13\",\"2015-02-12\",\"2015-02-11\",\"2015-02-10\",\"2015-02-09\",\"2015-02-06\",\"2015-02-05\",\"2015-02-04\",\"2015-02-03\",\"2015-02-02\",\"2015-01-30\",\"2015-01-29\",\"2015-01-28\",\"2015-01-27\",\"2015-01-26\",\"2015-01-23\",\"2015-01-22\",\"2015-01-21\",\"2015-01-20\",\"2015-01-16\",\"2015-01-15\",\"2015-01-14\",\"2015-01-13\",\"2015-01-12\",\"2015-01-09\",\"2015-01-08\",\"2015-01-07\",\"2015-01-06\",\"2015-01-05\",\"2015-01-02\"],\"y\":[\"\",\"\",\"\",\"\",\"\",\"\",\"\",\"\",\"\",\"\",\"\",\"\",\"\",\"\",26.971926666666665,27.05852,27.16042666666667,27.27888,27.45390666666667,27.563333333333333,27.69061333333333,27.86008,28.00548,28.143686666666664,28.212233333333337,28.21099333333333,28.25527333333333,28.368299999999998,28.484593333333333,28.530706666666667,28.543073333333332,28.542486666666665,28.50076,28.44045333333333,28.4723,28.491926666666664,28.482833333333335,28.544773333333335,28.550653333333337,28.538813333333334,28.521933333333333,28.513233333333336,28.460906666666666,28.425720000000002,28.38084666666667,28.296726666666665,28.204760000000004,28.123453333333334,28.01043333333333,27.805326666666666,27.630626666666664,27.467306666666666,27.37704666666667,27.353239999999996,27.29706,27.250819999999997,27.204446666666666,27.18208,27.143166666666666,27.105953333333332,27.113286666666667,27.09883333333333,27.033166666666666,26.98614,26.987313333333336,26.91882666666667,26.850806666666667,26.753739999999997,26.663026666666667,26.650726666666667,26.64144,26.671466666666667,26.68874,26.747733333333333,26.84126666666667,26.963966666666668,27.048080000000002,27.189559999999997,27.320766666666668,27.445366666666665,27.625626666666665,27.741986666666666,27.830946666666666,27.93134666666667,27.975633333333334,28.086693333333336,28.126193333333337,28.196173333333334,28.15438,27.996159999999996,27.867900000000002,27.890273333333333,28.010873333333333,28.208333333333332,28.433326666666666,28.64766666666667,28.916353333333333,29.134940000000004,29.344166666666663,29.609973333333336,29.866233333333334,30.116346666666665,30.37274,30.687993333333335,31.084293333333335,31.444020000000002,31.699946666666666,31.87308,31.975306666666665,32.04620666666667,32.09918,32.17648666666667,32.28924666666666,32.44498,32.55584666666667,32.600519999999996,32.68175333333333,32.72746666666667,32.757886666666664,32.7932,32.81577333333333,32.79654666666667,32.72212,32.63140666666666,32.59674666666667,32.57464,32.54154,32.509620000000005,32.41321333333334,32.31556,32.2858,32.23178,32.21694,32.24506,32.25271333333333,32.25546,32.31890666666666,32.40059333333333,32.50779333333333,32.55789333333333,32.599560000000004,32.6477,32.676806666666664,32.69558,32.73861333333333,32.72696666666666,32.69831333333333,32.66345333333333,32.57012,32.50013333333333,32.43557333333334,32.37703333333334,32.32418666666667,32.21698666666666,32.1419,32.05569333333333,31.970666666666666,31.90454,31.86032,31.7921,31.72866,31.678173333333334,31.60714,31.592486666666666,31.55435333333333,31.518053333333334,31.42544,31.360686666666666,31.366966666666666,31.330733333333335,31.290380000000003,31.244206666666667,31.153753333333334,31.075006666666663,31.039426666666667,30.98932,30.9487,30.886953333333334,30.807360000000003,30.736333333333334,30.717953333333334,30.728420000000003,30.686886666666666,30.59002,30.511919999999996,30.466920000000002,30.391053333333335,30.32198,30.259320000000002,30.188033333333333,30.110599999999998,30.02786,30.00372666666667,29.941913333333332,29.88004,29.77532666666667,29.712266666666665,29.68296666666667,29.694086666666667,29.6869,29.691673333333334,29.707693333333335,29.750926666666665,29.786839999999998,29.812146666666667,29.756353333333333,29.711813333333332,29.676886666666668,29.660206666666667,29.654580000000003,29.634693333333335,29.61174,29.608006666666665,29.569153333333336,29.56640666666667,29.558886666666663,29.56909333333333,29.543979999999998,29.553659999999997,29.54319333333333,29.621093333333338,29.73306666666667,29.793826666666668,29.869113333333335,29.915946666666667,29.97482,29.96422,29.939566666666668,29.892346666666665,29.821573333333333,29.73634666666667,29.608933333333333,29.473933333333335,29.34384,29.203219999999998,29.103606666666664,28.998826666666666,28.903793333333333,28.823013333333336,28.727453333333333,28.64464,28.598599999999998,28.52678666666667,28.53646666666667,28.599906666666662,28.667273333333334,28.796513333333333,28.99253333333333,29.127920000000003,29.26768666666667,29.42322,29.62022],\"type\":\"scatter\"},{\"line\":{\"color\":\"rgba(55, 128, 191, 0.8999999999999999)\",\"dash\":\"solid\",\"shape\":\"linear\",\"width\":1.3},\"mode\":\"lines\",\"name\":\"SMA(30)\",\"text\":\"\",\"x\":[\"2015-12-31\",\"2015-12-30\",\"2015-12-29\",\"2015-12-28\",\"2015-12-24\",\"2015-12-23\",\"2015-12-22\",\"2015-12-21\",\"2015-12-18\",\"2015-12-17\",\"2015-12-16\",\"2015-12-15\",\"2015-12-14\",\"2015-12-11\",\"2015-12-10\",\"2015-12-09\",\"2015-12-08\",\"2015-12-07\",\"2015-12-04\",\"2015-12-03\",\"2015-12-02\",\"2015-12-01\",\"2015-11-30\",\"2015-11-27\",\"2015-11-25\",\"2015-11-24\",\"2015-11-23\",\"2015-11-20\",\"2015-11-19\",\"2015-11-18\",\"2015-11-17\",\"2015-11-16\",\"2015-11-13\",\"2015-11-12\",\"2015-11-11\",\"2015-11-10\",\"2015-11-09\",\"2015-11-06\",\"2015-11-05\",\"2015-11-04\",\"2015-11-03\",\"2015-11-02\",\"2015-10-30\",\"2015-10-29\",\"2015-10-28\",\"2015-10-27\",\"2015-10-26\",\"2015-10-23\",\"2015-10-22\",\"2015-10-21\",\"2015-10-20\",\"2015-10-19\",\"2015-10-16\",\"2015-10-15\",\"2015-10-14\",\"2015-10-13\",\"2015-10-12\",\"2015-10-09\",\"2015-10-08\",\"2015-10-07\",\"2015-10-06\",\"2015-10-05\",\"2015-10-02\",\"2015-10-01\",\"2015-09-30\",\"2015-09-29\",\"2015-09-28\",\"2015-09-25\",\"2015-09-24\",\"2015-09-23\",\"2015-09-22\",\"2015-09-21\",\"2015-09-18\",\"2015-09-17\",\"2015-09-16\",\"2015-09-15\",\"2015-09-14\",\"2015-09-11\",\"2015-09-10\",\"2015-09-09\",\"2015-09-08\",\"2015-09-04\",\"2015-09-03\",\"2015-09-02\",\"2015-09-01\",\"2015-08-31\",\"2015-08-28\",\"2015-08-27\",\"2015-08-26\",\"2015-08-25\",\"2015-08-24\",\"2015-08-21\",\"2015-08-20\",\"2015-08-19\",\"2015-08-18\",\"2015-08-17\",\"2015-08-14\",\"2015-08-13\",\"2015-08-12\",\"2015-08-11\",\"2015-08-10\",\"2015-08-07\",\"2015-08-06\",\"2015-08-05\",\"2015-08-04\",\"2015-08-03\",\"2015-07-31\",\"2015-07-30\",\"2015-07-29\",\"2015-07-28\",\"2015-07-27\",\"2015-07-24\",\"2015-07-23\",\"2015-07-22\",\"2015-07-21\",\"2015-07-20\",\"2015-07-17\",\"2015-07-16\",\"2015-07-15\",\"2015-07-14\",\"2015-07-13\",\"2015-07-10\",\"2015-07-09\",\"2015-07-08\",\"2015-07-07\",\"2015-07-06\",\"2015-07-02\",\"2015-07-01\",\"2015-06-30\",\"2015-06-29\",\"2015-06-26\",\"2015-06-25\",\"2015-06-24\",\"2015-06-23\",\"2015-06-22\",\"2015-06-19\",\"2015-06-18\",\"2015-06-17\",\"2015-06-16\",\"2015-06-15\",\"2015-06-12\",\"2015-06-11\",\"2015-06-10\",\"2015-06-09\",\"2015-06-08\",\"2015-06-05\",\"2015-06-04\",\"2015-06-03\",\"2015-06-02\",\"2015-06-01\",\"2015-05-29\",\"2015-05-28\",\"2015-05-27\",\"2015-05-26\",\"2015-05-22\",\"2015-05-21\",\"2015-05-20\",\"2015-05-19\",\"2015-05-18\",\"2015-05-15\",\"2015-05-14\",\"2015-05-13\",\"2015-05-12\",\"2015-05-11\",\"2015-05-08\",\"2015-05-07\",\"2015-05-06\",\"2015-05-05\",\"2015-05-04\",\"2015-05-01\",\"2015-04-30\",\"2015-04-29\",\"2015-04-28\",\"2015-04-27\",\"2015-04-24\",\"2015-04-23\",\"2015-04-22\",\"2015-04-21\",\"2015-04-20\",\"2015-04-17\",\"2015-04-16\",\"2015-04-15\",\"2015-04-14\",\"2015-04-13\",\"2015-04-10\",\"2015-04-09\",\"2015-04-08\",\"2015-04-07\",\"2015-04-06\",\"2015-04-02\",\"2015-04-01\",\"2015-03-31\",\"2015-03-30\",\"2015-03-27\",\"2015-03-26\",\"2015-03-25\",\"2015-03-24\",\"2015-03-23\",\"2015-03-20\",\"2015-03-19\",\"2015-03-18\",\"2015-03-17\",\"2015-03-16\",\"2015-03-13\",\"2015-03-12\",\"2015-03-11\",\"2015-03-10\",\"2015-03-09\",\"2015-03-06\",\"2015-03-05\",\"2015-03-04\",\"2015-03-03\",\"2015-03-02\",\"2015-02-27\",\"2015-02-26\",\"2015-02-25\",\"2015-02-24\",\"2015-02-23\",\"2015-02-20\",\"2015-02-19\",\"2015-02-18\",\"2015-02-17\",\"2015-02-13\",\"2015-02-12\",\"2015-02-11\",\"2015-02-10\",\"2015-02-09\",\"2015-02-06\",\"2015-02-05\",\"2015-02-04\",\"2015-02-03\",\"2015-02-02\",\"2015-01-30\",\"2015-01-29\",\"2015-01-28\",\"2015-01-27\",\"2015-01-26\",\"2015-01-23\",\"2015-01-22\",\"2015-01-21\",\"2015-01-20\",\"2015-01-16\",\"2015-01-15\",\"2015-01-14\",\"2015-01-13\",\"2015-01-12\",\"2015-01-09\",\"2015-01-08\",\"2015-01-07\",\"2015-01-06\",\"2015-01-05\",\"2015-01-02\"],\"y\":[\"\",\"\",\"\",\"\",\"\",\"\",\"\",\"\",\"\",\"\",\"\",\"\",\"\",\"\",\"\",\"\",\"\",\"\",\"\",\"\",\"\",\"\",\"\",\"\",\"\",\"\",\"\",\"\",\"\",27.751316666666664,27.800796666666663,27.851456666666667,27.88982,27.94718,28.017816666666665,28.091269999999998,28.171456666666668,28.275126666666665,28.347170000000002,28.375523333333334,28.366463333333336,28.38425333333333,28.414603333333336,28.455156666666667,28.45577666666667,28.4199,28.37362333333333,28.31210666666667,28.225443333333335,28.138813333333335,28.061276666666668,27.975070000000002,27.96091,27.951946666666668,27.917936666666666,27.886376666666667,27.85884,27.821493333333333,27.784443333333336,27.7434,27.70500666666667,27.651796666666666,27.57831,27.49828666666667,27.39632,27.274726666666666,27.159056666666668,27.06539333333333,27.008133333333333,26.973893333333333,26.94613,26.93795666666667,26.935409999999997,26.94545,26.97361,27.03862666666667,27.07345666666667,27.111363333333333,27.15345333333333,27.21634,27.272226666666665,27.296396666666666,27.292343333333335,27.29718666666667,27.313180000000003,27.364066666666666,27.398829999999997,27.442456666666665,27.451056666666666,27.418713333333336,27.41593333333333,27.469176666666666,27.600216666666665,27.764549999999996,27.93934666666667,28.136646666666667,28.32917,28.48294333333333,28.637756666666668,28.79280333333333,28.97646333333333,29.12127,29.284456666666667,29.421186666666664,29.540226666666666,29.655959999999997,29.79511,29.94197666666667,30.09182,30.239766666666664,30.373423333333335,30.54642,30.712093333333332,30.89457333333333,31.082909999999995,31.23337666666667,31.39905,31.550103333333333,31.722939999999998,31.938746666666663,32.12989666666667,32.24824666666667,32.2976,32.303356666666666,32.32147666666666,32.33691,32.35901333333333,32.399433333333334,32.429096666666666,32.435703333333336,32.44316,32.45676666666667,32.47220333333333,32.50147333333334,32.522956666666666,32.53561666666667,32.55772666666667,32.56135666666667,32.5696,32.57732,32.5871,32.59462,32.59321333333334,32.55439666666667,32.52708666666667,32.50638333333333,32.465046666666666,32.440196666666665,32.40759,32.376423333333335,32.34551666666667,32.34797,32.36239,32.36239,32.34989666666667,32.32762666666667,32.30918333333333,32.29067333333333,32.27795,32.26535666666667,32.22781333333334,32.18824333333333,32.13529666666667,32.08130333333333,32.02724333333334,31.976813333333332,31.901236666666666,31.842436666666668,31.791976666666663,31.736316666666664,31.67303666666667,31.607436666666665,31.529146666666666,31.467663333333334,31.415763333333334,31.35899,31.313436666666668,31.247046666666666,31.199923333333334,31.145343333333333,31.11800333333333,31.07693,31.02378666666667,30.978493333333333,30.921326666666666,30.87865,30.81763,30.737866666666665,30.667163333333335,30.61373,30.54996,30.48828,30.44534,30.374636666666667,30.308186666666664,30.24664,30.220343333333336,30.18492666666667,30.142053333333333,30.09941,30.079296666666668,30.049373333333335,30.036453333333334,30.02308,30.00009,29.933476666666667,29.869836666666668,29.840306666666667,29.80106,29.767310000000002,29.70501,29.662003333333335,29.645486666666667,29.631619999999998,29.626653333333334,29.62528,29.638393333333333,29.647453333333335,29.670250000000003,29.67767,29.688723333333332,29.72244,29.735356666666668,29.76466,29.785263333333333,29.804756666666666,29.787979999999997,29.773786666666663,29.73075,29.69399,29.647616666666668,29.589013333333334,29.508956666666666,29.44875,29.373206666666665,29.36235,29.365946666666666,29.34881,29.346063333333333,29.3217,29.309730000000002,29.28141,29.233176666666665,29.21440666666667,29.210739999999998,29.201810000000002,29.20272333333333,29.23323333333333,29.235879999999998,29.235453333333332,29.263413333333336,29.309523333333335],\"type\":\"scatter\"},{\"line\":{\"color\":\"rgba(55, 128, 191, 0.7999999999999998)\",\"dash\":\"solid\",\"shape\":\"linear\",\"width\":1.3},\"mode\":\"lines\",\"name\":\"SMA(60)\",\"text\":\"\",\"x\":[\"2015-12-31\",\"2015-12-30\",\"2015-12-29\",\"2015-12-28\",\"2015-12-24\",\"2015-12-23\",\"2015-12-22\",\"2015-12-21\",\"2015-12-18\",\"2015-12-17\",\"2015-12-16\",\"2015-12-15\",\"2015-12-14\",\"2015-12-11\",\"2015-12-10\",\"2015-12-09\",\"2015-12-08\",\"2015-12-07\",\"2015-12-04\",\"2015-12-03\",\"2015-12-02\",\"2015-12-01\",\"2015-11-30\",\"2015-11-27\",\"2015-11-25\",\"2015-11-24\",\"2015-11-23\",\"2015-11-20\",\"2015-11-19\",\"2015-11-18\",\"2015-11-17\",\"2015-11-16\",\"2015-11-13\",\"2015-11-12\",\"2015-11-11\",\"2015-11-10\",\"2015-11-09\",\"2015-11-06\",\"2015-11-05\",\"2015-11-04\",\"2015-11-03\",\"2015-11-02\",\"2015-10-30\",\"2015-10-29\",\"2015-10-28\",\"2015-10-27\",\"2015-10-26\",\"2015-10-23\",\"2015-10-22\",\"2015-10-21\",\"2015-10-20\",\"2015-10-19\",\"2015-10-16\",\"2015-10-15\",\"2015-10-14\",\"2015-10-13\",\"2015-10-12\",\"2015-10-09\",\"2015-10-08\",\"2015-10-07\",\"2015-10-06\",\"2015-10-05\",\"2015-10-02\",\"2015-10-01\",\"2015-09-30\",\"2015-09-29\",\"2015-09-28\",\"2015-09-25\",\"2015-09-24\",\"2015-09-23\",\"2015-09-22\",\"2015-09-21\",\"2015-09-18\",\"2015-09-17\",\"2015-09-16\",\"2015-09-15\",\"2015-09-14\",\"2015-09-11\",\"2015-09-10\",\"2015-09-09\",\"2015-09-08\",\"2015-09-04\",\"2015-09-03\",\"2015-09-02\",\"2015-09-01\",\"2015-08-31\",\"2015-08-28\",\"2015-08-27\",\"2015-08-26\",\"2015-08-25\",\"2015-08-24\",\"2015-08-21\",\"2015-08-20\",\"2015-08-19\",\"2015-08-18\",\"2015-08-17\",\"2015-08-14\",\"2015-08-13\",\"2015-08-12\",\"2015-08-11\",\"2015-08-10\",\"2015-08-07\",\"2015-08-06\",\"2015-08-05\",\"2015-08-04\",\"2015-08-03\",\"2015-07-31\",\"2015-07-30\",\"2015-07-29\",\"2015-07-28\",\"2015-07-27\",\"2015-07-24\",\"2015-07-23\",\"2015-07-22\",\"2015-07-21\",\"2015-07-20\",\"2015-07-17\",\"2015-07-16\",\"2015-07-15\",\"2015-07-14\",\"2015-07-13\",\"2015-07-10\",\"2015-07-09\",\"2015-07-08\",\"2015-07-07\",\"2015-07-06\",\"2015-07-02\",\"2015-07-01\",\"2015-06-30\",\"2015-06-29\",\"2015-06-26\",\"2015-06-25\",\"2015-06-24\",\"2015-06-23\",\"2015-06-22\",\"2015-06-19\",\"2015-06-18\",\"2015-06-17\",\"2015-06-16\",\"2015-06-15\",\"2015-06-12\",\"2015-06-11\",\"2015-06-10\",\"2015-06-09\",\"2015-06-08\",\"2015-06-05\",\"2015-06-04\",\"2015-06-03\",\"2015-06-02\",\"2015-06-01\",\"2015-05-29\",\"2015-05-28\",\"2015-05-27\",\"2015-05-26\",\"2015-05-22\",\"2015-05-21\",\"2015-05-20\",\"2015-05-19\",\"2015-05-18\",\"2015-05-15\",\"2015-05-14\",\"2015-05-13\",\"2015-05-12\",\"2015-05-11\",\"2015-05-08\",\"2015-05-07\",\"2015-05-06\",\"2015-05-05\",\"2015-05-04\",\"2015-05-01\",\"2015-04-30\",\"2015-04-29\",\"2015-04-28\",\"2015-04-27\",\"2015-04-24\",\"2015-04-23\",\"2015-04-22\",\"2015-04-21\",\"2015-04-20\",\"2015-04-17\",\"2015-04-16\",\"2015-04-15\",\"2015-04-14\",\"2015-04-13\",\"2015-04-10\",\"2015-04-09\",\"2015-04-08\",\"2015-04-07\",\"2015-04-06\",\"2015-04-02\",\"2015-04-01\",\"2015-03-31\",\"2015-03-30\",\"2015-03-27\",\"2015-03-26\",\"2015-03-25\",\"2015-03-24\",\"2015-03-23\",\"2015-03-20\",\"2015-03-19\",\"2015-03-18\",\"2015-03-17\",\"2015-03-16\",\"2015-03-13\",\"2015-03-12\",\"2015-03-11\",\"2015-03-10\",\"2015-03-09\",\"2015-03-06\",\"2015-03-05\",\"2015-03-04\",\"2015-03-03\",\"2015-03-02\",\"2015-02-27\",\"2015-02-26\",\"2015-02-25\",\"2015-02-24\",\"2015-02-23\",\"2015-02-20\",\"2015-02-19\",\"2015-02-18\",\"2015-02-17\",\"2015-02-13\",\"2015-02-12\",\"2015-02-11\",\"2015-02-10\",\"2015-02-09\",\"2015-02-06\",\"2015-02-05\",\"2015-02-04\",\"2015-02-03\",\"2015-02-02\",\"2015-01-30\",\"2015-01-29\",\"2015-01-28\",\"2015-01-27\",\"2015-01-26\",\"2015-01-23\",\"2015-01-22\",\"2015-01-21\",\"2015-01-20\",\"2015-01-16\",\"2015-01-15\",\"2015-01-14\",\"2015-01-13\",\"2015-01-12\",\"2015-01-09\",\"2015-01-08\",\"2015-01-07\",\"2015-01-06\",\"2015-01-05\",\"2015-01-02\"],\"y\":[\"\",\"\",\"\",\"\",\"\",\"\",\"\",\"\",\"\",\"\",\"\",\"\",\"\",\"\",\"\",\"\",\"\",\"\",\"\",\"\",\"\",\"\",\"\",\"\",\"\",\"\",\"\",\"\",\"\",\"\",\"\",\"\",\"\",\"\",\"\",\"\",\"\",\"\",\"\",\"\",\"\",\"\",\"\",\"\",\"\",\"\",\"\",\"\",\"\",\"\",\"\",\"\",\"\",\"\",\"\",\"\",\"\",\"\",\"\",27.747358333333334,27.75290166666667,27.751626666666667,27.734065,27.722733333333334,27.707068333333336,27.682998333333334,27.665256666666664,27.67026,27.67765166666667,27.67470833333333,27.656296666666666,27.661105000000003,27.67500666666667,27.700303333333334,27.714693333333333,27.729263333333336,27.72354,27.711734999999997,27.689448333333335,27.677576666666667,27.666751666666666,27.635733333333334,27.626626666666667,27.624566666666666,27.615558333333336,27.62522166666667,27.628835,27.631975,27.61775,27.581056666666665,27.56047,27.56048666666667,27.589263333333335,27.631418333333333,27.66783333333333,27.70568666666667,27.744113333333335,27.774168333333332,27.822945,27.883348333333334,27.96129666666667,28.02961333333333,28.109933333333334,28.183318333333332,28.256918333333335,28.347293333333333,28.434283333333333,28.52667,28.62263666666667,28.72805333333333,28.822825,28.921408333333332,29.002218333333335,29.09588,29.198045,29.298721666666665,29.39894,29.496280000000002,29.586998333333334,29.678729999999998,29.772914999999998,29.858711666666668,29.948908333333335,30.033953333333333,30.130411666666664,30.236778333333334,30.344091666666667,30.441188333333333,30.533426666666667,30.614253333333334,30.709811666666667,30.78901833333333,30.87833,30.96133,31.031591666666667,31.095788333333335,31.176418333333334,31.251666666666665,31.33071,31.408543333333334,31.480261666666664,31.57052,31.652653333333333,31.724485,31.804998333333334,31.869880000000002,31.932048333333334,31.995150000000002,32.065265,32.157585,32.23770666666667,32.29810833333333,32.329995000000004,32.33287333333333,32.33568666666667,32.33226833333333,32.33409833333334,32.34505333333333,32.353523333333335,32.35053,32.33548666666666,32.322505,32.30375,32.29138833333334,32.275099999999995,32.256215000000005,32.229481666666665,32.20189666666667,32.18078833333333,32.156818333333334,32.130068333333334,32.10102833333333,32.06118,32.01103,31.971425,31.93268666666667,31.88924166666667,31.843621666666664,31.803756666666665,31.760883333333332,31.73176,31.71245,31.693088333333332,31.670441666666665,31.635611666666666,31.603138333333334,31.563406666666666,31.51427,31.472556666666666,31.439543333333337,31.388886666666668,31.338261666666668,31.290318333333335,31.227970000000003,31.167715,31.111726666666666,31.06079,31.01368166666667,30.967015,30.917863333333333,30.876166666666666,30.828404999999997,30.7828,30.745371666666664,30.707926666666665,30.64623333333333,30.59163666666667,30.543676666666666,30.50049166666667,30.456326666666666,30.411506666666664,30.369466666666664,30.334636666666665,30.305056666666665,30.27399,30.251965000000002,30.228011666666667,30.19266,30.168706666666665,30.145699999999998,30.11934166666667,30.10536,30.090348333333335,30.06964833333333,30.046725,30.02569833333333,30.00416166666667,29.979356666666668,29.936401666666665,29.8967,29.863456666666664,29.81919333333333,29.772705,29.735915,29.686648333333334,29.64791333333333,29.617891666666665,29.594558333333335,29.573561666666667,29.544505,29.507369999999998,29.471706666666666,29.439331666666664,29.423013333333333,29.41869666666667,29.413545,29.420558333333336,29.440343333333335,29.453065,29.456561666666666,29.476068333333334,29.51598166666667],\"type\":\"scatter\"}],                        {\"legend\":{\"bgcolor\":\"#F5F6F9\",\"font\":{\"color\":\"#4D5663\"}},\"paper_bgcolor\":\"#F5F6F9\",\"plot_bgcolor\":\"#F5F6F9\",\"template\":{\"data\":{\"barpolar\":[{\"marker\":{\"line\":{\"color\":\"#E5ECF6\",\"width\":0.5},\"pattern\":{\"fillmode\":\"overlay\",\"size\":10,\"solidity\":0.2}},\"type\":\"barpolar\"}],\"bar\":[{\"error_x\":{\"color\":\"#2a3f5f\"},\"error_y\":{\"color\":\"#2a3f5f\"},\"marker\":{\"line\":{\"color\":\"#E5ECF6\",\"width\":0.5},\"pattern\":{\"fillmode\":\"overlay\",\"size\":10,\"solidity\":0.2}},\"type\":\"bar\"}],\"carpet\":[{\"aaxis\":{\"endlinecolor\":\"#2a3f5f\",\"gridcolor\":\"white\",\"linecolor\":\"white\",\"minorgridcolor\":\"white\",\"startlinecolor\":\"#2a3f5f\"},\"baxis\":{\"endlinecolor\":\"#2a3f5f\",\"gridcolor\":\"white\",\"linecolor\":\"white\",\"minorgridcolor\":\"white\",\"startlinecolor\":\"#2a3f5f\"},\"type\":\"carpet\"}],\"choropleth\":[{\"colorbar\":{\"outlinewidth\":0,\"ticks\":\"\"},\"type\":\"choropleth\"}],\"contourcarpet\":[{\"colorbar\":{\"outlinewidth\":0,\"ticks\":\"\"},\"type\":\"contourcarpet\"}],\"contour\":[{\"colorbar\":{\"outlinewidth\":0,\"ticks\":\"\"},\"colorscale\":[[0.0,\"#0d0887\"],[0.1111111111111111,\"#46039f\"],[0.2222222222222222,\"#7201a8\"],[0.3333333333333333,\"#9c179e\"],[0.4444444444444444,\"#bd3786\"],[0.5555555555555556,\"#d8576b\"],[0.6666666666666666,\"#ed7953\"],[0.7777777777777778,\"#fb9f3a\"],[0.8888888888888888,\"#fdca26\"],[1.0,\"#f0f921\"]],\"type\":\"contour\"}],\"heatmapgl\":[{\"colorbar\":{\"outlinewidth\":0,\"ticks\":\"\"},\"colorscale\":[[0.0,\"#0d0887\"],[0.1111111111111111,\"#46039f\"],[0.2222222222222222,\"#7201a8\"],[0.3333333333333333,\"#9c179e\"],[0.4444444444444444,\"#bd3786\"],[0.5555555555555556,\"#d8576b\"],[0.6666666666666666,\"#ed7953\"],[0.7777777777777778,\"#fb9f3a\"],[0.8888888888888888,\"#fdca26\"],[1.0,\"#f0f921\"]],\"type\":\"heatmapgl\"}],\"heatmap\":[{\"colorbar\":{\"outlinewidth\":0,\"ticks\":\"\"},\"colorscale\":[[0.0,\"#0d0887\"],[0.1111111111111111,\"#46039f\"],[0.2222222222222222,\"#7201a8\"],[0.3333333333333333,\"#9c179e\"],[0.4444444444444444,\"#bd3786\"],[0.5555555555555556,\"#d8576b\"],[0.6666666666666666,\"#ed7953\"],[0.7777777777777778,\"#fb9f3a\"],[0.8888888888888888,\"#fdca26\"],[1.0,\"#f0f921\"]],\"type\":\"heatmap\"}],\"histogram2dcontour\":[{\"colorbar\":{\"outlinewidth\":0,\"ticks\":\"\"},\"colorscale\":[[0.0,\"#0d0887\"],[0.1111111111111111,\"#46039f\"],[0.2222222222222222,\"#7201a8\"],[0.3333333333333333,\"#9c179e\"],[0.4444444444444444,\"#bd3786\"],[0.5555555555555556,\"#d8576b\"],[0.6666666666666666,\"#ed7953\"],[0.7777777777777778,\"#fb9f3a\"],[0.8888888888888888,\"#fdca26\"],[1.0,\"#f0f921\"]],\"type\":\"histogram2dcontour\"}],\"histogram2d\":[{\"colorbar\":{\"outlinewidth\":0,\"ticks\":\"\"},\"colorscale\":[[0.0,\"#0d0887\"],[0.1111111111111111,\"#46039f\"],[0.2222222222222222,\"#7201a8\"],[0.3333333333333333,\"#9c179e\"],[0.4444444444444444,\"#bd3786\"],[0.5555555555555556,\"#d8576b\"],[0.6666666666666666,\"#ed7953\"],[0.7777777777777778,\"#fb9f3a\"],[0.8888888888888888,\"#fdca26\"],[1.0,\"#f0f921\"]],\"type\":\"histogram2d\"}],\"histogram\":[{\"marker\":{\"pattern\":{\"fillmode\":\"overlay\",\"size\":10,\"solidity\":0.2}},\"type\":\"histogram\"}],\"mesh3d\":[{\"colorbar\":{\"outlinewidth\":0,\"ticks\":\"\"},\"type\":\"mesh3d\"}],\"parcoords\":[{\"line\":{\"colorbar\":{\"outlinewidth\":0,\"ticks\":\"\"}},\"type\":\"parcoords\"}],\"pie\":[{\"automargin\":true,\"type\":\"pie\"}],\"scatter3d\":[{\"line\":{\"colorbar\":{\"outlinewidth\":0,\"ticks\":\"\"}},\"marker\":{\"colorbar\":{\"outlinewidth\":0,\"ticks\":\"\"}},\"type\":\"scatter3d\"}],\"scattercarpet\":[{\"marker\":{\"colorbar\":{\"outlinewidth\":0,\"ticks\":\"\"}},\"type\":\"scattercarpet\"}],\"scattergeo\":[{\"marker\":{\"colorbar\":{\"outlinewidth\":0,\"ticks\":\"\"}},\"type\":\"scattergeo\"}],\"scattergl\":[{\"marker\":{\"colorbar\":{\"outlinewidth\":0,\"ticks\":\"\"}},\"type\":\"scattergl\"}],\"scattermapbox\":[{\"marker\":{\"colorbar\":{\"outlinewidth\":0,\"ticks\":\"\"}},\"type\":\"scattermapbox\"}],\"scatterpolargl\":[{\"marker\":{\"colorbar\":{\"outlinewidth\":0,\"ticks\":\"\"}},\"type\":\"scatterpolargl\"}],\"scatterpolar\":[{\"marker\":{\"colorbar\":{\"outlinewidth\":0,\"ticks\":\"\"}},\"type\":\"scatterpolar\"}],\"scatter\":[{\"fillpattern\":{\"fillmode\":\"overlay\",\"size\":10,\"solidity\":0.2},\"type\":\"scatter\"}],\"scatterternary\":[{\"marker\":{\"colorbar\":{\"outlinewidth\":0,\"ticks\":\"\"}},\"type\":\"scatterternary\"}],\"surface\":[{\"colorbar\":{\"outlinewidth\":0,\"ticks\":\"\"},\"colorscale\":[[0.0,\"#0d0887\"],[0.1111111111111111,\"#46039f\"],[0.2222222222222222,\"#7201a8\"],[0.3333333333333333,\"#9c179e\"],[0.4444444444444444,\"#bd3786\"],[0.5555555555555556,\"#d8576b\"],[0.6666666666666666,\"#ed7953\"],[0.7777777777777778,\"#fb9f3a\"],[0.8888888888888888,\"#fdca26\"],[1.0,\"#f0f921\"]],\"type\":\"surface\"}],\"table\":[{\"cells\":{\"fill\":{\"color\":\"#EBF0F8\"},\"line\":{\"color\":\"white\"}},\"header\":{\"fill\":{\"color\":\"#C8D4E3\"},\"line\":{\"color\":\"white\"}},\"type\":\"table\"}]},\"layout\":{\"annotationdefaults\":{\"arrowcolor\":\"#2a3f5f\",\"arrowhead\":0,\"arrowwidth\":1},\"autotypenumbers\":\"strict\",\"coloraxis\":{\"colorbar\":{\"outlinewidth\":0,\"ticks\":\"\"}},\"colorscale\":{\"diverging\":[[0,\"#8e0152\"],[0.1,\"#c51b7d\"],[0.2,\"#de77ae\"],[0.3,\"#f1b6da\"],[0.4,\"#fde0ef\"],[0.5,\"#f7f7f7\"],[0.6,\"#e6f5d0\"],[0.7,\"#b8e186\"],[0.8,\"#7fbc41\"],[0.9,\"#4d9221\"],[1,\"#276419\"]],\"sequential\":[[0.0,\"#0d0887\"],[0.1111111111111111,\"#46039f\"],[0.2222222222222222,\"#7201a8\"],[0.3333333333333333,\"#9c179e\"],[0.4444444444444444,\"#bd3786\"],[0.5555555555555556,\"#d8576b\"],[0.6666666666666666,\"#ed7953\"],[0.7777777777777778,\"#fb9f3a\"],[0.8888888888888888,\"#fdca26\"],[1.0,\"#f0f921\"]],\"sequentialminus\":[[0.0,\"#0d0887\"],[0.1111111111111111,\"#46039f\"],[0.2222222222222222,\"#7201a8\"],[0.3333333333333333,\"#9c179e\"],[0.4444444444444444,\"#bd3786\"],[0.5555555555555556,\"#d8576b\"],[0.6666666666666666,\"#ed7953\"],[0.7777777777777778,\"#fb9f3a\"],[0.8888888888888888,\"#fdca26\"],[1.0,\"#f0f921\"]]},\"colorway\":[\"#636efa\",\"#EF553B\",\"#00cc96\",\"#ab63fa\",\"#FFA15A\",\"#19d3f3\",\"#FF6692\",\"#B6E880\",\"#FF97FF\",\"#FECB52\"],\"font\":{\"color\":\"#2a3f5f\"},\"geo\":{\"bgcolor\":\"white\",\"lakecolor\":\"white\",\"landcolor\":\"#E5ECF6\",\"showlakes\":true,\"showland\":true,\"subunitcolor\":\"white\"},\"hoverlabel\":{\"align\":\"left\"},\"hovermode\":\"closest\",\"mapbox\":{\"style\":\"light\"},\"paper_bgcolor\":\"white\",\"plot_bgcolor\":\"#E5ECF6\",\"polar\":{\"angularaxis\":{\"gridcolor\":\"white\",\"linecolor\":\"white\",\"ticks\":\"\"},\"bgcolor\":\"#E5ECF6\",\"radialaxis\":{\"gridcolor\":\"white\",\"linecolor\":\"white\",\"ticks\":\"\"}},\"scene\":{\"xaxis\":{\"backgroundcolor\":\"#E5ECF6\",\"gridcolor\":\"white\",\"gridwidth\":2,\"linecolor\":\"white\",\"showbackground\":true,\"ticks\":\"\",\"zerolinecolor\":\"white\"},\"yaxis\":{\"backgroundcolor\":\"#E5ECF6\",\"gridcolor\":\"white\",\"gridwidth\":2,\"linecolor\":\"white\",\"showbackground\":true,\"ticks\":\"\",\"zerolinecolor\":\"white\"},\"zaxis\":{\"backgroundcolor\":\"#E5ECF6\",\"gridcolor\":\"white\",\"gridwidth\":2,\"linecolor\":\"white\",\"showbackground\":true,\"ticks\":\"\",\"zerolinecolor\":\"white\"}},\"shapedefaults\":{\"line\":{\"color\":\"#2a3f5f\"}},\"ternary\":{\"aaxis\":{\"gridcolor\":\"white\",\"linecolor\":\"white\",\"ticks\":\"\"},\"baxis\":{\"gridcolor\":\"white\",\"linecolor\":\"white\",\"ticks\":\"\"},\"bgcolor\":\"#E5ECF6\",\"caxis\":{\"gridcolor\":\"white\",\"linecolor\":\"white\",\"ticks\":\"\"}},\"title\":{\"x\":0.05},\"xaxis\":{\"automargin\":true,\"gridcolor\":\"white\",\"linecolor\":\"white\",\"ticks\":\"\",\"title\":{\"standoff\":15},\"zerolinecolor\":\"white\",\"zerolinewidth\":2},\"yaxis\":{\"automargin\":true,\"gridcolor\":\"white\",\"linecolor\":\"white\",\"ticks\":\"\",\"title\":{\"standoff\":15},\"zerolinecolor\":\"white\",\"zerolinewidth\":2}}},\"title\":{\"font\":{\"color\":\"#4D5663\"}},\"xaxis\":{\"gridcolor\":\"#E1E5ED\",\"showgrid\":true,\"tickfont\":{\"color\":\"#4D5663\"},\"title\":{\"font\":{\"color\":\"#4D5663\"},\"text\":\"\"},\"zerolinecolor\":\"#E1E5ED\"},\"yaxis\":{\"gridcolor\":\"#E1E5ED\",\"showgrid\":true,\"tickfont\":{\"color\":\"#4D5663\"},\"title\":{\"font\":{\"color\":\"#4D5663\"},\"text\":\"\"},\"zerolinecolor\":\"#E1E5ED\"}},                        {\"showLink\": true, \"linkText\": \"Export to plot.ly\", \"plotlyServerURL\": \"https://plot.ly\", \"responsive\": true}                    ).then(function(){\n",
       "                            \n",
       "var gd = document.getElementById('cbcdad3a-50f0-421e-a039-03dd047b3301');\n",
       "var x = new MutationObserver(function (mutations, observer) {{\n",
       "        var display = window.getComputedStyle(gd).display;\n",
       "        if (!display || display === 'none') {{\n",
       "            console.log([gd, 'removed!']);\n",
       "            Plotly.purge(gd);\n",
       "            observer.disconnect();\n",
       "        }}\n",
       "}});\n",
       "\n",
       "// Listen for the removal of the full notebook cells\n",
       "var notebookContainer = gd.closest('#notebook-container');\n",
       "if (notebookContainer) {{\n",
       "    x.observe(notebookContainer, {childList: true});\n",
       "}}\n",
       "\n",
       "// Listen for the clearing of the current output cell\n",
       "var outputEl = gd.closest('.output');\n",
       "if (outputEl) {{\n",
       "    x.observe(outputEl, {childList: true});\n",
       "}}\n",
       "\n",
       "                        })                };                });            </script>        </div>"
      ]
     },
     "metadata": {},
     "output_type": "display_data"
    }
   ],
   "source": [
    "MS['Close'].loc['2015-01-01':'2016-01-01'].ta_plot(study='sma',periods=[15,30,60])"
   ]
  },
  {
   "cell_type": "markdown",
   "metadata": {},
   "source": [
    "**Use .ta_plot(study='boll') to create a Bollinger Band Plot for Bank of America for the year 2015.**"
   ]
  },
  {
   "cell_type": "code",
   "execution_count": null,
   "metadata": {},
   "outputs": [],
   "source": []
  },
  {
   "cell_type": "markdown",
   "metadata": {},
   "source": [
    "# Great Job!\n",
    "\n",
    "Definitely a lot of more specific finance topics here, so don't worry if you didn't understand them all! The only thing you should be concerned with understanding are the basic pandas and visualization oeprations."
   ]
  }
 ],
 "metadata": {
  "kernelspec": {
   "display_name": "Python 3 (ipykernel)",
   "language": "python",
   "name": "python3"
  },
  "language_info": {
   "codemirror_mode": {
    "name": "ipython",
    "version": 3
   },
   "file_extension": ".py",
   "mimetype": "text/x-python",
   "name": "python",
   "nbconvert_exporter": "python",
   "pygments_lexer": "ipython3",
   "version": "3.9.7"
  }
 },
 "nbformat": 4,
 "nbformat_minor": 1
}
